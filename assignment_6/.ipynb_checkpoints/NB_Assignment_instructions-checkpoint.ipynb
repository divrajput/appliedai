{
 "cells": [
  {
   "cell_type": "markdown",
   "metadata": {
    "id": "Dnubs-Nnb3cw"
   },
   "source": [
    "# Assignment 6: Apply NB"
   ]
  },
  {
   "cell_type": "markdown",
   "metadata": {
    "id": "RW0zYHb5m_wI"
   },
   "source": [
    "<ol>\n",
    "    <li>Minimum data points need to be considered for people having 4GB RAM is <strong>50k</strong> and for 8GB RAM is <strong>100k</strong></li>\n",
    "    <li>When you are using ramdomsearchcv or gridsearchcv you need not split the data into X_train,X_cv,X_test. As the above methods use kfold. The model will learn better if train data is more so splitting to X_train,X_test will suffice.</li>\n",
    "    <li>If you are writing for loops to tune your model then you need split the data into X_train,X_cv,X_test.</li>\n",
    "    <li>While splitting the data explore stratify parameter. </li>\n",
    "    <li><strong>Apply Multinomial NB on these feature sets</strong></li>\n",
    "        <ul>\n",
    "            <li>Features that need to be considered</li> \n",
    "                <dl>\n",
    "                  <dt>essay</dt>\n",
    "                    <dd>while encoding essay, try to experiment with the max_features and n_grams parameter of vectorizers and see if it increases AUC score.</dd>\n",
    "                  <dt>categorical features</dt>\n",
    "                  <dd> - teacher_prefix</dd>\n",
    "                  <dd> - project_grade_category</dd>\n",
    "                  <dd> - school_state</dd>\n",
    "                  <dd> - clean_categories</dd>\n",
    "                  <dd> - clean_subcategories</dd>\n",
    "                  <dt>numerical features</dt>\n",
    "                  <dd> - price</dd>\n",
    "                  <dd> - teacher_number_of_previously_posted_projects</dd>\n",
    "                  <dd>while encoding the numerical features check <a href='https://imgur.com/ldZA1zg'>this</a> and <a href='https://ac-classroom-production.s3.amazonaws.com/public/COMMENT/Annotation_2020-05-21_225912_0lyZzN8.jpg'>this</a></dd>\n",
    "                </dl>    \n",
    "            <li><font color='red'>Set 1</font>: categorical, numerical features + preprocessed_eassay (BOW)</li>\n",
    "            <li><font color='red'>Set 2</font>: categorical, numerical features + preprocessed_eassay (TFIDF)</li>\n",
    "        </ul>\n",
    "    <li><strong>The hyper paramter tuning(find best alpha:smoothing parameter)</strong>\n",
    "        <ul>\n",
    "    <li>Consider alpha values in range: 10^-5 to 10^2 like [0.00001,0.0005, 0.0001,0.005,0.001,0.05,0.01,0.1,0.5,1,5,10,50,100]</li>\n",
    "    <li>Explore class_prior = [0.5, 0.5] parameter which can be present in MultinomialNB function(go through <a href='https://scikit-learn.org/stable/modules/generated/sklearn.naive_bayes.MultinomialNB.html'>this</a> ) then check how results might change.\n",
    "    <li>Find the best hyper parameter which will give the maximum <a href='https://www.appliedaicourse.com/course/applied-ai-course-online/lessons/receiver-operating-characteristic-curve-roc-curve-and-auc-1/'>AUC</a> value</li>\n",
    "    <li>For hyper parameter tuning using k-fold cross validation(use GridsearchCV or RandomsearchCV)/simple cross validation data (write for loop to iterate over hyper parameter values)</li>\n",
    "    <li>You need to plot the performance of model both on train data and cross validation data for each hyper parameter, like shown in the figure\n",
    "    <img src='https://i.imgur.com/hUv6aEy.jpg' width=300px><dd>-while plotting take log(alpha) on your X-axis so that it will be more readable</dd></li>\n",
    "    <li>Once after you found the best hyper parameter, you need to train your model with it, and find the AUC on test data and plot the ROC curve on both train and test.\n",
    "    <img src='https://imgur.com/q2P65L5.jpg' width=300px></li>\n",
    "    <li>Along with plotting ROC curve, you need to print the <a href='https://www.appliedaicourse.com/course/applied-ai-course-online/lessons/confusion-matrix-tpr-fpr-fnr-tnr-1/'>confusion matrix</a> with predicted and original labels of test data points\n",
    "        <img src='https://i.imgur.com/IdN5Ctv.png' width=300px><dd>-plot the confusion matrix in heatmaps, while plotting the confusion matrix go through the <a href='https://stackoverflow.com/questions/61748441/how-to-fix-the-values-displayed-in-a-confusion-matrix-in-exponential-form-to-nor'>link </a>\n",
    "</dd></li>\n",
    "        </ul>\n",
    "<li>find the top 20 features from either from feature <font color='red'>Set 1</font> or feature <font color='red'>Set 2</font> using values of `feature_log_prob_ ` parameter of `MultinomialNB` \n",
    "(https://scikit-learn.org/stable/modules/generated/sklearn.naive_bayes.MultinomialNB.html) and print <strong>BOTH</strong> positive as well as negative corresponding feature names. <dd> - go through the <a href='https://imgur.com/mWvE7gj'>link </a> </dd>\n",
    "    </li>\n",
    "    <li>You need to summarize the results at the end of the notebook, summarize it in the table format\n",
    "        <img src='http://i.imgur.com/YVpIGGE.jpg' width=400px>\n",
    "    </li>\n",
    "</ol>"
   ]
  },
  {
   "cell_type": "code",
   "execution_count": null,
   "metadata": {
    "id": "chpSjDaXm9KG"
   },
   "outputs": [],
   "source": []
  },
  {
   "cell_type": "markdown",
   "metadata": {
    "id": "inzYCIaib3c3"
   },
   "source": [
    "<h1>2. Naive Bayes </h1>"
   ]
  },
  {
   "cell_type": "markdown",
   "metadata": {
    "id": "FYqCIxzFb3c5"
   },
   "source": [
    "## 1.1 Loading Data"
   ]
  },
  {
   "cell_type": "code",
   "execution_count": 1,
   "metadata": {
    "id": "dA1jknyqb3c_"
   },
   "outputs": [],
   "source": [
    "#make sure you are loading atleast 50k datapoints\n",
    "#you can work with features of preprocessed_data.csv for the assignment.\n",
    "# If you want to add more features, you can add. (This is purely optional, not mandatory)\n",
    "\n",
    "import pandas\n",
    "data = pandas.read_csv('preprocessed_data.csv')"
   ]
  },
  {
   "cell_type": "code",
   "execution_count": 2,
   "metadata": {},
   "outputs": [
    {
     "data": {
      "text/html": [
       "<div>\n",
       "<style scoped>\n",
       "    .dataframe tbody tr th:only-of-type {\n",
       "        vertical-align: middle;\n",
       "    }\n",
       "\n",
       "    .dataframe tbody tr th {\n",
       "        vertical-align: top;\n",
       "    }\n",
       "\n",
       "    .dataframe thead th {\n",
       "        text-align: right;\n",
       "    }\n",
       "</style>\n",
       "<table border=\"1\" class=\"dataframe\">\n",
       "  <thead>\n",
       "    <tr style=\"text-align: right;\">\n",
       "      <th></th>\n",
       "      <th>school_state</th>\n",
       "      <th>teacher_prefix</th>\n",
       "      <th>project_grade_category</th>\n",
       "      <th>teacher_number_of_previously_posted_projects</th>\n",
       "      <th>project_is_approved</th>\n",
       "      <th>clean_categories</th>\n",
       "      <th>clean_subcategories</th>\n",
       "      <th>essay</th>\n",
       "      <th>price</th>\n",
       "    </tr>\n",
       "  </thead>\n",
       "  <tbody>\n",
       "    <tr>\n",
       "      <th>0</th>\n",
       "      <td>ca</td>\n",
       "      <td>mrs</td>\n",
       "      <td>grades_prek_2</td>\n",
       "      <td>53</td>\n",
       "      <td>1</td>\n",
       "      <td>math_science</td>\n",
       "      <td>appliedsciences health_lifescience</td>\n",
       "      <td>i fortunate enough use fairy tale stem kits cl...</td>\n",
       "      <td>725.05</td>\n",
       "    </tr>\n",
       "    <tr>\n",
       "      <th>1</th>\n",
       "      <td>ut</td>\n",
       "      <td>ms</td>\n",
       "      <td>grades_3_5</td>\n",
       "      <td>4</td>\n",
       "      <td>1</td>\n",
       "      <td>specialneeds</td>\n",
       "      <td>specialneeds</td>\n",
       "      <td>imagine 8 9 years old you third grade classroo...</td>\n",
       "      <td>213.03</td>\n",
       "    </tr>\n",
       "    <tr>\n",
       "      <th>2</th>\n",
       "      <td>ca</td>\n",
       "      <td>mrs</td>\n",
       "      <td>grades_prek_2</td>\n",
       "      <td>10</td>\n",
       "      <td>1</td>\n",
       "      <td>literacy_language</td>\n",
       "      <td>literacy</td>\n",
       "      <td>having class 24 students comes diverse learner...</td>\n",
       "      <td>329.00</td>\n",
       "    </tr>\n",
       "    <tr>\n",
       "      <th>3</th>\n",
       "      <td>ga</td>\n",
       "      <td>mrs</td>\n",
       "      <td>grades_prek_2</td>\n",
       "      <td>2</td>\n",
       "      <td>1</td>\n",
       "      <td>appliedlearning</td>\n",
       "      <td>earlydevelopment</td>\n",
       "      <td>i recently read article giving students choice...</td>\n",
       "      <td>481.04</td>\n",
       "    </tr>\n",
       "    <tr>\n",
       "      <th>4</th>\n",
       "      <td>wa</td>\n",
       "      <td>mrs</td>\n",
       "      <td>grades_3_5</td>\n",
       "      <td>2</td>\n",
       "      <td>1</td>\n",
       "      <td>literacy_language</td>\n",
       "      <td>literacy</td>\n",
       "      <td>my students crave challenge eat obstacles brea...</td>\n",
       "      <td>17.74</td>\n",
       "    </tr>\n",
       "  </tbody>\n",
       "</table>\n",
       "</div>"
      ],
      "text/plain": [
       "  school_state teacher_prefix project_grade_category  \\\n",
       "0           ca            mrs          grades_prek_2   \n",
       "1           ut             ms             grades_3_5   \n",
       "2           ca            mrs          grades_prek_2   \n",
       "3           ga            mrs          grades_prek_2   \n",
       "4           wa            mrs             grades_3_5   \n",
       "\n",
       "   teacher_number_of_previously_posted_projects  project_is_approved  \\\n",
       "0                                            53                    1   \n",
       "1                                             4                    1   \n",
       "2                                            10                    1   \n",
       "3                                             2                    1   \n",
       "4                                             2                    1   \n",
       "\n",
       "    clean_categories                 clean_subcategories  \\\n",
       "0       math_science  appliedsciences health_lifescience   \n",
       "1       specialneeds                        specialneeds   \n",
       "2  literacy_language                            literacy   \n",
       "3    appliedlearning                    earlydevelopment   \n",
       "4  literacy_language                            literacy   \n",
       "\n",
       "                                               essay   price  \n",
       "0  i fortunate enough use fairy tale stem kits cl...  725.05  \n",
       "1  imagine 8 9 years old you third grade classroo...  213.03  \n",
       "2  having class 24 students comes diverse learner...  329.00  \n",
       "3  i recently read article giving students choice...  481.04  \n",
       "4  my students crave challenge eat obstacles brea...   17.74  "
      ]
     },
     "execution_count": 2,
     "metadata": {},
     "output_type": "execute_result"
    }
   ],
   "source": [
    "data.head()"
   ]
  },
  {
   "cell_type": "code",
   "execution_count": 3,
   "metadata": {},
   "outputs": [
    {
     "data": {
      "text/plain": [
       "Index(['school_state', 'teacher_prefix', 'project_grade_category',\n",
       "       'teacher_number_of_previously_posted_projects', 'project_is_approved',\n",
       "       'clean_categories', 'clean_subcategories', 'essay', 'price'],\n",
       "      dtype='object')"
      ]
     },
     "execution_count": 3,
     "metadata": {},
     "output_type": "execute_result"
    }
   ],
   "source": [
    "data.columns"
   ]
  },
  {
   "cell_type": "markdown",
   "metadata": {
    "id": "WtVV13Fyb3dH"
   },
   "source": [
    "<h2>1.2 Splitting data into Train and cross validation(or test): Stratified Sampling</h2>"
   ]
  },
  {
   "cell_type": "code",
   "execution_count": 4,
   "metadata": {},
   "outputs": [],
   "source": [
    "# write your code in following steps for task 1\n",
    "# 1. Split your data.\n",
    "# 2. Perform Bag of Words Vectorization of text data.\n",
    "# 3. Perform tfidf vectorization of text data.\n",
    "# 4. perform one-hot encoding of categorical features.\n",
    "# 5. perform normalization of numerical features\n",
    "# 6. For set 1 stack up all the features using hstack()\n",
    "# 7. For set 2 stack up all the features using hstack()\n",
    "# 8. Perform hyperparameter tuning and represent the training and cross-validation AUC scores for different 'alpha' values, using a 2D line plot.\n",
    "# 9. Find the best hyperparameter 'alpha' and fit the model. Plot ROC-AUC curve(by obtaining the probabilities using 'predict proba' method)\n",
    "# 10. Plot confusion matrix based on the best threshold value\n",
    "# 11. Either for the model in set 1 or in set 2, print the top 20 features(you have to print the names, not the indexes) associated with the positive and negative classes each.\n",
    "# 12. Summarize your observations and compare both the models(ie., from set 1 and set 2) in terms of optimal hyperparameter value, train AUC and test AUC scores. \n",
    "# 13. You can use Prettytable or any other tabular format for comparison.\n",
    "\n",
    "\n",
    "# please write all the code with proper documentation, and proper titles for each subsection\n",
    "# go through documentations and blogs before you start coding\n",
    "# first figure out what to do, and then think about how to do.\n",
    "# reading and understanding error messages will be very much helpfull in debugging your code\n",
    "# when you plot any graph make sure you use \n",
    "    # a. Title, that describes your plot, this will be very helpful to the reader\n",
    "    # b. Legends if needed\n",
    "    # c. X-axis label\n",
    "    # d. Y-axis label\n",
    "    "
   ]
  },
  {
   "cell_type": "code",
   "execution_count": 5,
   "metadata": {
    "id": "i-PyprDNb3dI"
   },
   "outputs": [],
   "source": [
    "# Split the dataset \n",
    "# 1) If you want to apply simple cross-validation, split the dataset into 3 parts (ie., train, CV and test sets)\n",
    "# 2) If you want to apply K-fold CV (or) GridSearch Cross Validation (or) Randomized Search Cross Validation, just split the dataset into 2 parts (ie., train and test sets)\n",
    "y = data['project_is_approved']\n",
    "X = data.drop('project_is_approved', axis =1)\n",
    "from sklearn.model_selection import train_test_split\n",
    "X_train, X_test, y_train, y_test = train_test_split(X, y, test_size=0.33, stratify=y)"
   ]
  },
  {
   "cell_type": "markdown",
   "metadata": {
    "id": "EnZwVNULb3dO"
   },
   "source": [
    "<h2>1.3 Make Data Model Ready: encoding essay, and project_title</h2>"
   ]
  },
  {
   "cell_type": "code",
   "execution_count": 6,
   "metadata": {},
   "outputs": [],
   "source": [
    "from sklearn.feature_extraction.text import CountVectorizer\n",
    "def vectorized_BOW(X_1, X_2, name, min_df = 1, ngram_range = (1, 1)):\n",
    "    # X_1: dataframe X_train\n",
    "    # X_2: dataframe X_test\n",
    "    # name: column name of dataframe\n",
    "    vectorizer = CountVectorizer(min_df = min_df, ngram_range= ngram_range)\n",
    "    vectorizer.fit(X_1[name].values)\n",
    "    vectorized_X_1 = vectorizer.transform(X_1[name].values)\n",
    "    vectorized_X_2 = vectorizer.transform(X_2[name].values)\n",
    "    return vectorized_X_1, vectorized_X_2, vectorizer"
   ]
  },
  {
   "cell_type": "code",
   "execution_count": 7,
   "metadata": {},
   "outputs": [],
   "source": [
    "from sklearn.preprocessing import Normalizer\n",
    "def normalize(X_1, X_2, name):\n",
    "    # X_1: dataframe X_train\n",
    "    # X_2: dataframe X_test\n",
    "    # name: column name of dataframe    \n",
    "    vec_normalized = Normalizer()\n",
    "    vec_normalized.fit(X_1[name].values.reshape(-1, 1))\n",
    "    vec_normalized_X_1 = vec_normalized.transform(X_1[name].values.reshape(-1, 1))\n",
    "    vec_normalized_2 = Normalizer()\n",
    "    vec_normalized_2.fit(X_2[name].values.reshape(-1, 1))\n",
    "    vec_normalized_X_2 = vec_normalized_2.transform(X_2[name].values.reshape(-1, 1))\n",
    "    return vec_normalized_X_1,vec_normalized_X_2"
   ]
  },
  {
   "cell_type": "markdown",
   "metadata": {},
   "source": [
    "### TRANSFORMING X_train, X_test TO VECTOR USING BAG OF WORDS"
   ]
  },
  {
   "cell_type": "code",
   "execution_count": 8,
   "metadata": {},
   "outputs": [],
   "source": [
    "# Apply Bag of Words (BOW) vectorization on 'Preprocessed_Essay' \n",
    "# Apply Bag of Words (BOW) vectorization on 'Preprocessed_Title' (Optional)\n",
    "X_train_essay_BOW, X_test_essay_BOW, vectorizer_essay_BOW = vectorized_BOW(X_train, X_test, 'essay', 10, (1,4))\n",
    "X_train_school_state_BOW, X_test_school_state_BOW, vectorizer_school_state_BOW = vectorized_BOW(X_train, X_test, 'school_state')\n",
    "X_train_teacher_prefix_BOW, X_test_teacher_prefix_BOW, vectorizer_teacher_prefix_BOW = vectorized_BOW(X_train, X_test, 'teacher_prefix')\n",
    "X_train_project_grade_category_BOW, X_test_project_grade_category_BOW, vectorizer_project_grade_category_BOW = vectorized_BOW(X_train, X_test, 'project_grade_category')\n",
    "X_train_clean_categories_BOW, X_test_clean_categories_BOW, vectorizer_clean_categories_BOW = vectorized_BOW(X_train, X_test, 'clean_categories')\n",
    "X_train_clean_subcategories_BOW, X_test_clean_subcategories_BOW, vectorizer_clean_subcategories_BOW = vectorized_BOW(X_train, X_test, 'clean_subcategories')\n",
    "X_train_tnop_BOW, X_test_tnop_BOW = normalize(X_train, X_test, 'teacher_number_of_previously_posted_projects')\n",
    "X_train_price_BOW, X_test_price_BOW = normalize(X_train, X_test, 'price')"
   ]
  },
  {
   "cell_type": "markdown",
   "metadata": {},
   "source": [
    "### FUNCTION TO GET TFIDF VECTOR CONVERSION"
   ]
  },
  {
   "cell_type": "code",
   "execution_count": 9,
   "metadata": {},
   "outputs": [],
   "source": [
    "# Apply TF-IDF vectorization on 'Preprocessed_Essay' \n",
    "# Apply TF-IDF vectorization on 'Preprocessed_Title' (Optional)\n",
    "from sklearn.feature_extraction.text import TfidfVectorizer\n",
    "def vectorized_tfidf(X_1, X_2, name, min_df = 1, ngram_range = (1, 1)):\n",
    "    # X_1: dataframe X_train\n",
    "    # X_2: dataframe X_test\n",
    "    # name: column name of dataframe  \n",
    "    vectorizer = TfidfVectorizer(min_df = min_df, ngram_range= ngram_range)\n",
    "    vectorizer.fit(X_1[name].values)\n",
    "    vectorized_X_1 = vectorizer.transform(X_1[name].values)\n",
    "    vectorized_X_2 = vectorizer.transform(X_2[name].values)\n",
    "    return vectorized_X_1, vectorized_X_2, vectorizer"
   ]
  },
  {
   "cell_type": "markdown",
   "metadata": {},
   "source": [
    "### TRANSFORMING X_train, X_test TO VECTOR USING TF-IDF"
   ]
  },
  {
   "cell_type": "code",
   "execution_count": 10,
   "metadata": {},
   "outputs": [],
   "source": [
    "X_train_essay_tfidf, X_test_essay_tfidf, vectorizer_essay_tfidf = vectorized_tfidf(X_train, X_test, 'essay', 10, (1,4))\n",
    "X_train_school_state_tfidf, X_test_school_state_tfidf, vectorizer_school_state_tfidf = vectorized_tfidf(X_train, X_test, 'school_state')\n",
    "X_train_teacher_prefix_tfidf, X_test_teacher_prefix_tfidf, vectorizer_teacher_prefix_tfidf = vectorized_tfidf(X_train, X_test, 'teacher_prefix')\n",
    "X_train_project_grade_category_tfidf, X_test_project_grade_category_tfidf, vectorizer_project_grade_category_tfidf = vectorized_tfidf(X_train, X_test, 'project_grade_category')\n",
    "X_train_clean_categories_tfidf, X_test_clean_categories_tfidf, vectorizer_clean_categories_tfidf = vectorized_tfidf(X_train, X_test, 'clean_categories')\n",
    "X_train_clean_subcategories_tfidf, X_test_clean_subcategories_tfidf, vectorizer_clean_subcategories_tfidf = vectorized_tfidf(X_train, X_test, 'clean_subcategories')\n",
    "X_train_tnop_tfidf, X_test_tnop_tfidf = normalize(X_train, X_test, 'teacher_number_of_previously_posted_projects')\n",
    "X_train_price_tfidf, X_test_price_tfidf = normalize(X_train, X_test, 'price')"
   ]
  },
  {
   "cell_type": "markdown",
   "metadata": {
    "id": "bGy86kgHb3dX"
   },
   "source": [
    "<h2>1.4 Make Data Model Ready: encoding numerical, categorical features</h2>"
   ]
  },
  {
   "cell_type": "code",
   "execution_count": 11,
   "metadata": {
    "id": "EfXkofX1b3da"
   },
   "outputs": [],
   "source": [
    "# Apply One-Hot Encoding on the categorical features either using OneHotEncoder() (or) CountVectorizer(binary=True)\n",
    "# Apply Normalization on the numerical features using Normalizer().\n",
    "from scipy.sparse import hstack\n",
    "X_train_BOW = hstack((X_train_essay_BOW,X_train_school_state_BOW,X_train_teacher_prefix_BOW,X_train_project_grade_category_BOW,\n",
    "                      X_train_clean_categories_BOW,X_train_clean_subcategories_BOW,X_train_tnop_BOW,X_train_price_BOW)).tocsr()\n",
    "X_test_BOW = hstack((X_test_essay_BOW,X_test_school_state_BOW,X_test_teacher_prefix_BOW,X_test_project_grade_category_BOW,\n",
    "                      X_test_clean_categories_BOW,X_test_clean_subcategories_BOW,X_test_tnop_BOW,X_test_price_BOW)).tocsr()\n",
    "X_train_tfidf = hstack((X_train_essay_tfidf,X_train_school_state_tfidf,X_train_teacher_prefix_tfidf,X_train_project_grade_category_tfidf,\n",
    "                      X_train_clean_categories_tfidf,X_train_clean_subcategories_tfidf,X_train_tnop_tfidf,X_train_price_tfidf)).tocsr()\n",
    "X_test_tfidf = hstack((X_test_essay_tfidf,X_test_school_state_tfidf,X_test_teacher_prefix_tfidf,X_test_project_grade_category_tfidf,\n",
    "                      X_test_clean_categories_tfidf,X_test_clean_subcategories_tfidf,X_test_tnop_tfidf,X_test_price_tfidf)).tocsr()"
   ]
  },
  {
   "cell_type": "markdown",
   "metadata": {
    "id": "yYHPYadYb3dh"
   },
   "source": [
    "<h2>1.5 Appling NB on different kind of featurization as mentioned in the instructions</h2>\n",
    "\n",
    "<br>Apply NB on different kind of featurization as mentioned in the instructions\n",
    "<br> For Every model that you work on make sure you do the step 2 and step 3 of instrucations"
   ]
  },
  {
   "cell_type": "markdown",
   "metadata": {
    "id": "DNwqilFxb3di"
   },
   "source": [
    "#### Set 1"
   ]
  },
  {
   "cell_type": "code",
   "execution_count": 12,
   "metadata": {},
   "outputs": [],
   "source": [
    "# Perform Hyperparameter Tuning.\n",
    "# Plot the training and the CV AUC scores, for different values of 'alpha', using a 2D line plot\n",
    "from sklearn.model_selection import GridSearchCV\n",
    "from sklearn.naive_bayes import MultinomialNB\n",
    "parameter = {  'alpha': (1000, 100, 10, 1, 0.1, 0.01, 0.001, 0.0001, 0.00001)}  \n",
    "BOW_clf= GridSearchCV(MultinomialNB(), parameter, scoring='roc_auc', n_jobs=-1, verbose=10, return_train_score=True)\n"
   ]
  },
  {
   "cell_type": "code",
   "execution_count": 13,
   "metadata": {},
   "outputs": [
    {
     "name": "stdout",
     "output_type": "stream",
     "text": [
      "Fitting 5 folds for each of 9 candidates, totalling 45 fits\n"
     ]
    },
    {
     "data": {
      "text/plain": [
       "GridSearchCV(estimator=MultinomialNB(), n_jobs=-1,\n",
       "             param_grid={'alpha': (1000, 100, 10, 1, 0.1, 0.01, 0.001, 0.0001,\n",
       "                                   1e-05)},\n",
       "             return_train_score=True, scoring='roc_auc', verbose=10)"
      ]
     },
     "execution_count": 13,
     "metadata": {},
     "output_type": "execute_result"
    }
   ],
   "source": [
    "### fitting naive bayes classifier for bag of words vectorization. ###\n",
    "BOW_clf.fit(X_train_BOW, y_train)"
   ]
  },
  {
   "cell_type": "markdown",
   "metadata": {},
   "source": [
    "### PLOTTING TRAINING AND TEST SCORE WRT ALPHA"
   ]
  },
  {
   "cell_type": "code",
   "execution_count": 14,
   "metadata": {},
   "outputs": [
    {
     "data": {
      "image/png": "[encoded data removed]",
      "text/plain": [
       "<Figure size 432x288 with 1 Axes>"
      ]
     },
     "metadata": {
      "needs_background": "light"
     },
     "output_type": "display_data"
    }
   ],
   "source": [
    "import numpy as np\n",
    "import matplotlib.pyplot as plt\n",
    "plt.plot(np.array(parameter['alpha']).reshape((1,len(parameter['alpha'])))[0],BOW_clf.cv_results_['mean_train_score'].reshape((1,len(parameter['alpha'])))[0])\n",
    "plt.plot(np.array(parameter['alpha']).reshape((1,len(parameter['alpha'])))[0],BOW_clf.cv_results_['mean_test_score'].reshape((1,len(parameter['alpha'])))[0])\n",
    "\n",
    "plt.legend([\"training score\", \"test score\"])\n",
    "plt.xlim(0,1)\n",
    "plt.xlabel('alpha')\n",
    "plt.ylabel('Score')\n",
    "plt.show()"
   ]
  },
  {
   "cell_type": "markdown",
   "metadata": {},
   "source": [
    "### PREDICTING OUTPUT FOR TRAINING AND TEST FOR BAG OF WORDS  "
   ]
  },
  {
   "cell_type": "code",
   "execution_count": 15,
   "metadata": {},
   "outputs": [
    {
     "name": "stdout",
     "output_type": "stream",
     "text": [
      "Best value of alpha :1\n"
     ]
    }
   ],
   "source": [
    "# Obtain the optimal value for 'alpha' and using the obtained optimal 'alpha' value, fit a multinomial naive bayes model, on the train data,\n",
    "# Note: If you have split the datase into 3 parts (ie., train, cv and test sets) in the beginning, then the training datafor this final model would be (train set + cv set)\n",
    "# Make class label and probability predictions on the train and test data.\n",
    "print('Best value of alpha :'+str(BOW_clf.best_params_['alpha']))\n",
    "y_pred_train_BOW = BOW_clf.predict(X_train_BOW)\n",
    "y_pred_test_BOW = BOW_clf.predict(X_test_BOW)"
   ]
  },
  {
   "cell_type": "code",
   "execution_count": 16,
   "metadata": {},
   "outputs": [
    {
     "name": "stdout",
     "output_type": "stream",
     "text": [
      "Train AUC score: 0.8508262473697662\n",
      "Test AUC score: 0.62728980040841\n"
     ]
    },
    {
     "data": {
      "image/png": "[encoded data removed]",
      "text/plain": [
       "<Figure size 432x288 with 1 Axes>"
      ]
     },
     "metadata": {
      "needs_background": "light"
     },
     "output_type": "display_data"
    }
   ],
   "source": [
    "# Plot the ROC-AUC curves using the probability predictions made on train and test data.\n",
    "from sklearn.metrics import confusion_matrix, accuracy_score, roc_curve, auc\n",
    "def ROC_curve(y_train_true, y_train_pred, y_test_true, y_test_pred):\n",
    "    fpr1, tpr1, threshold1 = roc_curve(y_train_true, y_train_pred)\n",
    "    fpr2, tpr2, threshold2 = roc_curve(y_test_true, y_test_pred)\n",
    "    roc_auc1 = auc(fpr1, tpr1)\n",
    "    roc_auc2 = auc(fpr2, tpr2)\n",
    "    print(\"Train AUC score: \" + str(roc_auc1))\n",
    "    print(\"Test AUC score: \" + str(roc_auc2))\n",
    "    plt.plot(fpr1, tpr1, 'b', label = 'Train AUC = %0.2f' % roc_auc1)\n",
    "    plt.plot(fpr2, tpr2, 'c', label = 'Test AUC = %0.2f' % roc_auc2)\n",
    "    plt.legend(loc = 'lower right')\n",
    "    plt.plot([0, 1], [0, 1],'r--')\n",
    "    plt.ylabel('True Positive Rate')\n",
    "    plt.xlabel('False Positive Rate')\n",
    "    plt.show()\n",
    "    return tpr1, fpr1,threshold1, tpr2, fpr2, threshold2\n",
    "tpr_train, fpr_train,threshold_train, tpr_test, fpr_test, threshold_test= ROC_curve(y_train, y_pred_train_BOW, y_test, y_pred_test_BOW)\n",
    "    "
   ]
  },
  {
   "cell_type": "code",
   "execution_count": 17,
   "metadata": {},
   "outputs": [
    {
     "name": "stdout",
     "output_type": "stream",
     "text": [
      "best threshold for maximum value for TPR*(1-FPR) :1\n",
      "Train confusion matrix\n",
      "[[ 9322  1761]\n",
      " [ 8662 53451]]\n"
     ]
    },
    {
     "data": {
      "image/png": "[encoded data removed]",
      "text/plain": [
       "<Figure size 432x288 with 2 Axes>"
      ]
     },
     "metadata": {
      "needs_background": "light"
     },
     "output_type": "display_data"
    }
   ],
   "source": [
    "# Pick the best threshold among the probability estimates, such that it has to yield maximum value for TPR*(1-FPR)\n",
    "# Plot the confusion matrices(each for train and test data) afer encoding the predicted class labels, on the basis of the best threshod probability estimate.\n",
    "def best_threshold_TPR_FPR(threshold, TPR, FPR):\n",
    "    return threshold[np.argmax(TPR*(1-FPR))]\n",
    "print('best threshold for maximum value for TPR*(1-FPR) :' + str(best_threshold_TPR_FPR(threshold_train, tpr_train, fpr_train)))\n",
    "import seaborn as sns\n",
    "cm=confusion_matrix(y_train,y_pred_train_BOW)\n",
    "print('Train confusion matrix')\n",
    "print(cm)\n",
    "sns.heatmap(cm, annot=True, annot_kws={\"size\": 16}) # font size\n",
    "plt.show()"
   ]
  },
  {
   "cell_type": "code",
   "execution_count": 18,
   "metadata": {},
   "outputs": [
    {
     "name": "stdout",
     "output_type": "stream",
     "text": [
      "Test confusion matrix\n",
      "[[ 2356  3103]\n",
      " [ 5415 25178]]\n"
     ]
    },
    {
     "data": {
      "image/png": "[encoded data removed]",
      "text/plain": [
       "<Figure size 432x288 with 2 Axes>"
      ]
     },
     "metadata": {
      "needs_background": "light"
     },
     "output_type": "display_data"
    }
   ],
   "source": [
    "cm=confusion_matrix(y_test,y_pred_test_BOW)\n",
    "print('Test confusion matrix')\n",
    "print(cm)\n",
    "sns.heatmap(cm, annot=True, annot_kws={\"size\": 16}) # font size\n",
    "plt.show()"
   ]
  },
  {
   "cell_type": "markdown",
   "metadata": {},
   "source": [
    "#### Set 2"
   ]
  },
  {
   "cell_type": "code",
   "execution_count": 19,
   "metadata": {},
   "outputs": [
    {
     "name": "stdout",
     "output_type": "stream",
     "text": [
      "Fitting 5 folds for each of 9 candidates, totalling 45 fits\n"
     ]
    },
    {
     "data": {
      "text/plain": [
       "GridSearchCV(estimator=MultinomialNB(), n_jobs=-1,\n",
       "             param_grid={'alpha': (1000, 100, 10, 1, 0.1, 0.01, 0.001, 0.0001,\n",
       "                                   1e-05)},\n",
       "             return_train_score=True, scoring='roc_auc', verbose=10)"
      ]
     },
     "execution_count": 19,
     "metadata": {},
     "output_type": "execute_result"
    }
   ],
   "source": [
    "# Perform Hyperparameter Tuning.\n",
    "# Plot the training and the CV AUC scores, for different values of 'alpha', using a 2D line plot\n",
    "parameter = {  'alpha': (1000, 100, 10, 1, 0.1, 0.01, 0.001, 0.0001, 0.00001)}  \n",
    "tfidf_clf= GridSearchCV(MultinomialNB(), parameter, scoring='roc_auc', n_jobs=-1, verbose=10, return_train_score=True)\n",
    "tfidf_clf.fit(X_train_tfidf, y_train)"
   ]
  },
  {
   "cell_type": "code",
   "execution_count": 20,
   "metadata": {},
   "outputs": [
    {
     "data": {
      "image/png": "[encoded data removed]",
      "text/plain": [
       "<Figure size 432x288 with 1 Axes>"
      ]
     },
     "metadata": {
      "needs_background": "light"
     },
     "output_type": "display_data"
    }
   ],
   "source": [
    "plt.plot(np.array(parameter['alpha']).reshape((1,len(parameter['alpha'])))[0],tfidf_clf.cv_results_['mean_train_score'].reshape((1,len(parameter['alpha'])))[0])\n",
    "plt.plot(np.array(parameter['alpha']).reshape((1,len(parameter['alpha'])))[0],tfidf_clf.cv_results_['mean_test_score'].reshape((1,len(parameter['alpha'])))[0])\n",
    "\n",
    "plt.legend([\"training score\", \"test score\"])\n",
    "plt.xlim(0,1)\n",
    "plt.xlabel('alpha')\n",
    "plt.ylabel('Score')\n",
    "plt.show()"
   ]
  },
  {
   "cell_type": "code",
   "execution_count": 21,
   "metadata": {},
   "outputs": [
    {
     "name": "stdout",
     "output_type": "stream",
     "text": [
      "Best value of alpha :0.1\n"
     ]
    }
   ],
   "source": [
    "# Obtain the optimal value for 'alpha' and using the obtained optimal 'alpha' value, fit a multinomial naive bayes model, on the train data,\n",
    "# Note: If you have split the datase into 3 parts (ie., train, cv and test sets) in the beginning, then the training datafor this final model would be (train set + cv set)\n",
    "# Make class label and probability predictions on the train and test data.\n",
    "print('Best value of alpha :'+str(tfidf_clf.best_params_['alpha']))\n",
    "y_pred_train_tfidf = tfidf_clf.predict(X_train_tfidf)\n",
    "y_pred_test_tfidf = tfidf_clf.predict(X_test_tfidf)"
   ]
  },
  {
   "cell_type": "code",
   "execution_count": 22,
   "metadata": {},
   "outputs": [
    {
     "name": "stdout",
     "output_type": "stream",
     "text": [
      "Train AUC score: 0.6609495037756328\n",
      "Test AUC score: 0.5116869491371051\n"
     ]
    },
    {
     "data": {
      "image/png": "[encoded data removed]",
      "text/plain": [
       "<Figure size 432x288 with 1 Axes>"
      ]
     },
     "metadata": {
      "needs_background": "light"
     },
     "output_type": "display_data"
    }
   ],
   "source": [
    "# Plot the ROC-AUC curves using the probability predictions made on train and test data.\n",
    "tpr_train, fpr_train,threshold_train, tpr_test, fpr_test, threshold_test = ROC_curve(y_train, y_pred_train_tfidf, y_test, y_pred_test_tfidf)"
   ]
  },
  {
   "cell_type": "code",
   "execution_count": 23,
   "metadata": {},
   "outputs": [
    {
     "name": "stdout",
     "output_type": "stream",
     "text": [
      "best threshold for maximum value for TPR*(1-FPR) :1\n",
      "Train TFIDF confusion matrix\n",
      "[[ 3705  7378]\n",
      " [  770 61343]]\n"
     ]
    },
    {
     "data": {
      "image/png": "[encoded data removed]",
      "text/plain": [
       "<Figure size 432x288 with 2 Axes>"
      ]
     },
     "metadata": {
      "needs_background": "light"
     },
     "output_type": "display_data"
    }
   ],
   "source": [
    "# Pick the best threshold among the probability estimates, such that it has to yield maximum value for TPR*(1-FPR)\n",
    "# Plot the confusion matrices(each for train and test data) afer encoding the predicted class labels, on the basis of the best threshod probability estimate.\n",
    "print('best threshold for maximum value for TPR*(1-FPR) :' + str(best_threshold_TPR_FPR(threshold_train, tpr_train, fpr_train)))\n",
    "import seaborn as sns\n",
    "cm=confusion_matrix(y_train,y_pred_train_tfidf)\n",
    "print('Train TFIDF confusion matrix')\n",
    "print(cm)\n",
    "sns.heatmap(cm, annot=True, annot_kws={\"size\": 16}) # font size\n",
    "plt.show()"
   ]
  },
  {
   "cell_type": "code",
   "execution_count": 24,
   "metadata": {},
   "outputs": [
    {
     "name": "stdout",
     "output_type": "stream",
     "text": [
      "Test TFIDF confusion matrix\n",
      "[[  212  5247]\n",
      " [  473 30120]]\n"
     ]
    },
    {
     "data": {
      "image/png": "[encoded data removed]",
      "text/plain": [
       "<Figure size 432x288 with 2 Axes>"
      ]
     },
     "metadata": {
      "needs_background": "light"
     },
     "output_type": "display_data"
    }
   ],
   "source": [
    "cm=confusion_matrix(y_test,y_pred_test_tfidf)\n",
    "print('Test TFIDF confusion matrix')\n",
    "print(cm)\n",
    "sns.heatmap(cm, annot=True, annot_kws={\"size\": 16}) # font size\n",
    "plt.show()"
   ]
  },
  {
   "cell_type": "code",
   "execution_count": 25,
   "metadata": {},
   "outputs": [
    {
     "data": {
      "text/plain": [
       "(259001,)"
      ]
     },
     "execution_count": 25,
     "metadata": {},
     "output_type": "execute_result"
    }
   ],
   "source": [
    "# Either from set 1 (or) set 2, print the names of the top 20 features associated with the positive and negative classes each. (You have to print the names of the features, but not the indexes)\n",
    "model = MultinomialNB(alpha= BOW_clf.best_params_['alpha'],class_prior=[0.5,0.5])\n",
    "model.fit(X_train_BOW, y_train)\n",
    "pos_class= model.feature_log_prob_[0, :].argsort()\n",
    "neg_class= model.feature_log_prob_[1, :].argsort()\n",
    "neg_class.shape"
   ]
  },
  {
   "cell_type": "code",
   "execution_count": 26,
   "metadata": {},
   "outputs": [],
   "source": [
    "features= []\n",
    "for feat in vectorizer_essay_BOW.get_feature_names():\n",
    "    features.append(feat)\n",
    "for feat in vectorizer_school_state_BOW.get_feature_names():\n",
    "    features.append(feat)\n",
    "for feat in vectorizer_teacher_prefix_BOW.get_feature_names():\n",
    "    features.append(feat)\n",
    "for feat in vectorizer_project_grade_category_BOW.get_feature_names():\n",
    "    features.append(feat)\n",
    "for feat in vectorizer_clean_categories_BOW.get_feature_names():\n",
    "    features.append(feat)\n",
    "for feat in vectorizer_clean_subcategories_BOW.get_feature_names():\n",
    "    features.append(feat)\n",
    "features.append('prices')\n",
    "features.append('teacher_number_of_previously_posted_projects')\n",
    "\n"
   ]
  },
  {
   "cell_type": "code",
   "execution_count": 27,
   "metadata": {},
   "outputs": [
    {
     "name": "stdout",
     "output_type": "stream",
     "text": [
      "Top 20 features with positive class are : \n",
      "['reading' 'prices' 'come' 'work' 'need' 'we' 'many' 'nannan'\n",
      " 'teacher_number_of_previously_posted_projects' 'my students' 'the' 'help'\n",
      " 'they' 'learn' 'not' 'classroom' 'my' 'learning' 'school' 'students']\n"
     ]
    }
   ],
   "source": [
    "print('Top 20 features with positive class are : \\n' + str(np.take(features, pos_class[-20:])))"
   ]
  },
  {
   "cell_type": "code",
   "execution_count": 28,
   "metadata": {},
   "outputs": [
    {
     "name": "stdout",
     "output_type": "stream",
     "text": [
      "Top 20 features with positive class are : \n",
      "['prices' 'use' 'reading' 'need' 'work' 'we' 'nannan' 'many'\n",
      " 'teacher_number_of_previously_posted_projects' 'help' 'learn'\n",
      " 'my students' 'they' 'not' 'the' 'classroom' 'learning' 'my' 'school'\n",
      " 'students']\n"
     ]
    }
   ],
   "source": [
    "print('Top 20 features with negative class are : \\n' + str(np.take(features, neg_class[-20:])))"
   ]
  },
  {
   "cell_type": "markdown",
   "metadata": {
    "id": "lS9hIHdib3dp"
   },
   "source": [
    "<h1>3. Summary</h1>\n",
    "\n",
    "<br> as mentioned in the step 5 of instructions"
   ]
  },
  {
   "cell_type": "code",
   "execution_count": 29,
   "metadata": {},
   "outputs": [
    {
     "name": "stdout",
     "output_type": "stream",
     "text": [
      "+-------------+------------+------------+-----------------+----------------+\n",
      "|    model    | Vectorizor | best alpha | Train auc_score | Test auc_score |\n",
      "+-------------+------------+------------+-----------------+----------------+\n",
      "| Naive Bayes |    BOW     |     1      |      0.846      |     0.619      |\n",
      "| Naive Bayes |   Tf-idf   |    0.1     |      0.667      |     0.513      |\n",
      "+-------------+------------+------------+-----------------+----------------+\n"
     ]
    }
   ],
   "source": [
    "#Summarize your assignment work here in a few points, and also compare the final models (from set 1 and set 2), in terms of optimal hyperparameter value 'alpha', training AUC and test AUC scores.\n",
    "# You can either use a pretty table or any other tabular structure.\n",
    "# Reference Link for Pretty table:  https://pypi.org/project/prettytable/\n",
    "from prettytable import PrettyTable\n",
    "myTable = PrettyTable([\"model\", \"Vectorizor\", \"best alpha\", \"Train auc_score\", \"Test auc_score\"])\n",
    "myTable.add_row([\"Naive Bayes\", \"BOW\", 1, 0.846, 0.619])\n",
    "myTable.add_row([\"Naive Bayes\", \"Tf-idf\", 0.1, 0.667, 0.513])\n",
    "print(myTable)"
   ]
  },
  {
   "cell_type": "code",
   "execution_count": null,
   "metadata": {},
   "outputs": [],
   "source": []
  }
 ],
 "metadata": {
  "colab": {
   "collapsed_sections": [],
   "name": "6_Assignment_NB_Instructions.ipynb",
   "provenance": []
  },
  "kernelspec": {
   "display_name": "Python 3",
   "language": "python",
   "name": "python3"
  },
  "language_info": {
   "codemirror_mode": {
    "name": "ipython",
    "version": 3
   },
   "file_extension": ".py",
   "mimetype": "text/x-python",
   "name": "python",
   "nbconvert_exporter": "python",
   "pygments_lexer": "ipython3",
   "version": "3.9.5"
  }
 },
 "nbformat": 4,
 "nbformat_minor": 1
}
