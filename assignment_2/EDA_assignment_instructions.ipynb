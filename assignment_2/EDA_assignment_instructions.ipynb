{
 "cells": [
  {
   "cell_type": "markdown",
   "metadata": {
    "id": "VEAMh3sdCGR3"
   },
   "source": [
    "# Assignment Instructions:\n",
    "\n",
    "1. Download Haberman Cancer Survival dataset from Kaggle. You may have to create a Kaggle account to donwload data. (https://www.kaggle.com/gilsousa/habermans-survival-data-set) or you can also run the below cell and load the data directly. \n",
    "2. Perform a similar anlaysis as done in the reference notebook on this dataset.\n"
   ]
  },
  {
   "cell_type": "code",
   "execution_count": 15,
   "metadata": {
    "id": "m4tUjTfZCGR_",
    "outputId": "2b8077e4-f934-4ffe-f30c-f4ec6d9cf34b"
   },
   "outputs": [
    {
     "data": {
      "text/html": [
       "<div>\n",
       "<style scoped>\n",
       "    .dataframe tbody tr th:only-of-type {\n",
       "        vertical-align: middle;\n",
       "    }\n",
       "\n",
       "    .dataframe tbody tr th {\n",
       "        vertical-align: top;\n",
       "    }\n",
       "\n",
       "    .dataframe thead th {\n",
       "        text-align: right;\n",
       "    }\n",
       "</style>\n",
       "<table border=\"1\" class=\"dataframe\">\n",
       "  <thead>\n",
       "    <tr style=\"text-align: right;\">\n",
       "      <th></th>\n",
       "      <th>age</th>\n",
       "      <th>operation_Year</th>\n",
       "      <th>axil_nodes</th>\n",
       "      <th>survival_status</th>\n",
       "    </tr>\n",
       "  </thead>\n",
       "  <tbody>\n",
       "    <tr>\n",
       "      <th>0</th>\n",
       "      <td>age</td>\n",
       "      <td>year</td>\n",
       "      <td>nodes</td>\n",
       "      <td>status</td>\n",
       "    </tr>\n",
       "    <tr>\n",
       "      <th>1</th>\n",
       "      <td>30</td>\n",
       "      <td>64</td>\n",
       "      <td>1</td>\n",
       "      <td>1</td>\n",
       "    </tr>\n",
       "    <tr>\n",
       "      <th>2</th>\n",
       "      <td>30</td>\n",
       "      <td>62</td>\n",
       "      <td>3</td>\n",
       "      <td>1</td>\n",
       "    </tr>\n",
       "    <tr>\n",
       "      <th>3</th>\n",
       "      <td>30</td>\n",
       "      <td>65</td>\n",
       "      <td>0</td>\n",
       "      <td>1</td>\n",
       "    </tr>\n",
       "    <tr>\n",
       "      <th>4</th>\n",
       "      <td>31</td>\n",
       "      <td>59</td>\n",
       "      <td>2</td>\n",
       "      <td>1</td>\n",
       "    </tr>\n",
       "  </tbody>\n",
       "</table>\n",
       "</div>"
      ],
      "text/plain": [
       "   age operation_Year axil_nodes survival_status\n",
       "0  age           year      nodes          status\n",
       "1   30             64          1               1\n",
       "2   30             62          3               1\n",
       "3   30             65          0               1\n",
       "4   31             59          2               1"
      ]
     },
     "execution_count": 15,
     "metadata": {},
     "output_type": "execute_result"
    }
   ],
   "source": [
    "import pandas as pd\n",
    "import numpy as np\n",
    "import matplotlib.pyplot as plt\n",
    "import seaborn as sns\n",
    "%matplotlib inline\n",
    "# we can read the data directly from raw github link\n",
    "# we are also defining the name of the columns.\n",
    "#make sure that your csv file and ipynb notebook are in the same folder. If they are in different folder then you have to define the complete path\n",
    "df=pd.read_csv('haberman.csv',names=[\"age\",\"operation_Year\",\"axil_nodes\",\"survival_status\"])\n",
    "df.head()"
   ]
  },
  {
   "cell_type": "markdown",
   "metadata": {
    "id": "uphWe11hCGSC"
   },
   "source": [
    "### 1.1 Analyze high level statistics of the dataset: number of points, numer of   features, number of classes, data-points per class.\n",
    "- You have to write all of your observations in Markdown cell with proper formatting.You can go through the following blog to understand formatting in markdown cells - https://www.markdownguide.org/basic-syntax/\n",
    "- Do not write your observations as comments in code cells.\n",
    "- Write comments in your code cells in order to explain the code that you are writing. Proper use of commenting can make code maintenance much easier, as well as helping make finding bugs faster. \n",
    "- You can add extra cells using <b>Insert cell below command</b> in Insert tab. You can also use the shortcut Alt+Enter\n",
    "- It is a good programming practise to define all the libraries that you would be using in a single cell"
   ]
  },
  {
   "cell_type": "markdown",
   "metadata": {},
   "source": [
    "## Printing shape, column names, value_counts for output label"
   ]
  },
  {
   "cell_type": "code",
   "execution_count": 16,
   "metadata": {
    "id": "WNEPPYK_CGSD"
   },
   "outputs": [
    {
     "name": "stdout",
     "output_type": "stream",
     "text": [
      "df shape:(307, 4)\n",
      "columns:Index(['age', 'operation_Year', 'axil_nodes', 'survival_status'], dtype='object')\n",
      "*************************************************************\n",
      "1         225\n",
      "2          81\n",
      "status      1\n",
      "Name: survival_status, dtype: int64\n"
     ]
    }
   ],
   "source": [
    "print(\"df shape:\"+ str(df.shape)+\"\\n\" +\"columns:\"+ str(df.columns))\n",
    "print(\"*************************************************************\")\n",
    "print(df[\"survival_status\"].value_counts())"
   ]
  },
  {
   "cell_type": "markdown",
   "metadata": {
    "id": "AKPyMm0VCGSD"
   },
   "source": [
    "As survival status has 225 as \"1\" and 81 as \"2\" therefore 225/(225+81)= 73.5% as \"1\" and 26.5% as \"2\", So it is fairly balanced data."
   ]
  },
  {
   "cell_type": "markdown",
   "metadata": {},
   "source": [
    "## Checking unique values in each columns"
   ]
  },
  {
   "cell_type": "code",
   "execution_count": 17,
   "metadata": {},
   "outputs": [
    {
     "data": {
      "text/plain": [
       "array(['age', '30', '31', '33', '34', '35', '36', '37', '38', '39', '40',\n",
       "       '41', '42', '43', '44', '45', '46', '47', '48', '49', '50', '51',\n",
       "       '52', '53', '54', '55', '56', '57', '58', '59', '60', '61', '62',\n",
       "       '63', '64', '65', '66', '67', '68', '69', '70', '71', '72', '73',\n",
       "       '74', '75', '76', '77', '78', '83'], dtype=object)"
      ]
     },
     "execution_count": 17,
     "metadata": {},
     "output_type": "execute_result"
    }
   ],
   "source": [
    "df.age.unique()"
   ]
  },
  {
   "cell_type": "code",
   "execution_count": 18,
   "metadata": {},
   "outputs": [
    {
     "data": {
      "text/plain": [
       "array(['year', '64', '62', '65', '59', '58', '60', '66', '61', '67', '63',\n",
       "       '69', '68'], dtype=object)"
      ]
     },
     "execution_count": 18,
     "metadata": {},
     "output_type": "execute_result"
    }
   ],
   "source": [
    "df.operation_Year.unique()"
   ]
  },
  {
   "cell_type": "code",
   "execution_count": 19,
   "metadata": {},
   "outputs": [
    {
     "data": {
      "text/plain": [
       "13"
      ]
     },
     "execution_count": 19,
     "metadata": {},
     "output_type": "execute_result"
    }
   ],
   "source": [
    "len(df.operation_Year.unique())"
   ]
  },
  {
   "cell_type": "code",
   "execution_count": 20,
   "metadata": {},
   "outputs": [
    {
     "data": {
      "text/plain": [
       "array(['nodes', '1', '3', '0', '2', '4', '10', '9', '30', '7', '13', '6',\n",
       "       '15', '21', '11', '5', '23', '8', '20', '52', '14', '19', '16',\n",
       "       '12', '24', '46', '18', '22', '35', '17', '25', '28'], dtype=object)"
      ]
     },
     "execution_count": 20,
     "metadata": {},
     "output_type": "execute_result"
    }
   ],
   "source": [
    "df.axil_nodes.unique()"
   ]
  },
  {
   "cell_type": "code",
   "execution_count": 21,
   "metadata": {},
   "outputs": [
    {
     "data": {
      "text/plain": [
       "array(['status', '1', '2'], dtype=object)"
      ]
     },
     "execution_count": 21,
     "metadata": {},
     "output_type": "execute_result"
    }
   ],
   "source": [
    "df.survival_status.unique()"
   ]
  },
  {
   "cell_type": "code",
   "execution_count": 22,
   "metadata": {},
   "outputs": [],
   "source": [
    "df['age'] = pd.to_numeric(df['age'],errors = 'coerce')"
   ]
  },
  {
   "cell_type": "code",
   "execution_count": 23,
   "metadata": {},
   "outputs": [],
   "source": [
    "df['operation_Year'] = pd.to_numeric(df['operation_Year'],errors = 'coerce')"
   ]
  },
  {
   "cell_type": "code",
   "execution_count": 24,
   "metadata": {},
   "outputs": [],
   "source": [
    "df['axil_nodes'] = pd.to_numeric(df['axil_nodes'],errors = 'coerce')"
   ]
  },
  {
   "cell_type": "code",
   "execution_count": 27,
   "metadata": {},
   "outputs": [],
   "source": [
    "df['survival_status'] = pd.to_numeric(df['survival_status'],errors = 'coerce')"
   ]
  },
  {
   "cell_type": "markdown",
   "metadata": {
    "id": "fQpYFXLBCGSE"
   },
   "source": [
    "## Checking for nan value"
   ]
  },
  {
   "cell_type": "code",
   "execution_count": 36,
   "metadata": {},
   "outputs": [
    {
     "name": "stdout",
     "output_type": "stream",
     "text": [
      "age type: float64\n"
     ]
    }
   ],
   "source": [
    "print(\"age type: \"+str(df['age'].dtypes))"
   ]
  },
  {
   "cell_type": "code",
   "execution_count": 38,
   "metadata": {},
   "outputs": [],
   "source": [
    "df.drop(index=df.index[0], \n",
    "        axis=0, \n",
    "        inplace=True)"
   ]
  },
  {
   "cell_type": "code",
   "execution_count": 39,
   "metadata": {},
   "outputs": [
    {
     "data": {
      "text/html": [
       "<div>\n",
       "<style scoped>\n",
       "    .dataframe tbody tr th:only-of-type {\n",
       "        vertical-align: middle;\n",
       "    }\n",
       "\n",
       "    .dataframe tbody tr th {\n",
       "        vertical-align: top;\n",
       "    }\n",
       "\n",
       "    .dataframe thead th {\n",
       "        text-align: right;\n",
       "    }\n",
       "</style>\n",
       "<table border=\"1\" class=\"dataframe\">\n",
       "  <thead>\n",
       "    <tr style=\"text-align: right;\">\n",
       "      <th></th>\n",
       "      <th>age</th>\n",
       "      <th>operation_Year</th>\n",
       "      <th>axil_nodes</th>\n",
       "      <th>survival_status</th>\n",
       "    </tr>\n",
       "  </thead>\n",
       "  <tbody>\n",
       "    <tr>\n",
       "      <th>1</th>\n",
       "      <td>30.0</td>\n",
       "      <td>64.0</td>\n",
       "      <td>1.0</td>\n",
       "      <td>1.0</td>\n",
       "    </tr>\n",
       "    <tr>\n",
       "      <th>2</th>\n",
       "      <td>30.0</td>\n",
       "      <td>62.0</td>\n",
       "      <td>3.0</td>\n",
       "      <td>1.0</td>\n",
       "    </tr>\n",
       "    <tr>\n",
       "      <th>3</th>\n",
       "      <td>30.0</td>\n",
       "      <td>65.0</td>\n",
       "      <td>0.0</td>\n",
       "      <td>1.0</td>\n",
       "    </tr>\n",
       "    <tr>\n",
       "      <th>4</th>\n",
       "      <td>31.0</td>\n",
       "      <td>59.0</td>\n",
       "      <td>2.0</td>\n",
       "      <td>1.0</td>\n",
       "    </tr>\n",
       "    <tr>\n",
       "      <th>5</th>\n",
       "      <td>31.0</td>\n",
       "      <td>65.0</td>\n",
       "      <td>4.0</td>\n",
       "      <td>1.0</td>\n",
       "    </tr>\n",
       "  </tbody>\n",
       "</table>\n",
       "</div>"
      ],
      "text/plain": [
       "    age  operation_Year  axil_nodes  survival_status\n",
       "1  30.0            64.0         1.0              1.0\n",
       "2  30.0            62.0         3.0              1.0\n",
       "3  30.0            65.0         0.0              1.0\n",
       "4  31.0            59.0         2.0              1.0\n",
       "5  31.0            65.0         4.0              1.0"
      ]
     },
     "execution_count": 39,
     "metadata": {},
     "output_type": "execute_result"
    }
   ],
   "source": [
    "df.head()"
   ]
  },
  {
   "cell_type": "code",
   "execution_count": 40,
   "metadata": {
    "id": "HrNViwWNCGSE"
   },
   "outputs": [
    {
     "data": {
      "text/plain": [
       "age                0\n",
       "operation_Year     0\n",
       "axil_nodes         0\n",
       "survival_status    0\n",
       "dtype: int64"
      ]
     },
     "execution_count": 40,
     "metadata": {},
     "output_type": "execute_result"
    }
   ],
   "source": [
    "df.isna().sum()"
   ]
  },
  {
   "cell_type": "markdown",
   "metadata": {},
   "source": [
    "There is no nan values in dataframe"
   ]
  },
  {
   "cell_type": "markdown",
   "metadata": {
    "id": "L9BtVtk0CGSF"
   },
   "source": [
    "### 1.2 - Explain the objective of the problem.\n",
    "(The objective for a problem can be defined as a brief explanation of problem that you are trying to solve using the given dataset)"
   ]
  },
  {
   "cell_type": "markdown",
   "metadata": {
    "id": "CWZwrVWJCGSF"
   },
   "source": [
    "1. The objective of the problem is to do EDA by plotting various plots.\n",
    "2. We need to find which feature is important(feature importance).\n",
    "3. See if data is linearly separable or not and which classifier is suitable for it."
   ]
  },
  {
   "cell_type": "markdown",
   "metadata": {
    "id": "oPyY9znoCGSH"
   },
   "source": [
    "### 1.3 Perform Univariate analysis - Plot PDF, CDF, Boxplot, Voilin plots\n",
    "- Plot the required charts to understand which feature are important for classification.\n",
    "- Make sure that you add titles, legends and labels for each and every plots.\n",
    "- Suppress the warnings you get in python, in that way it makes your notebook more presentable. \n",
    "- Do write observations/inference for each plot."
   ]
  },
  {
   "cell_type": "markdown",
   "metadata": {},
   "source": [
    "## PDF PLOT"
   ]
  },
  {
   "cell_type": "code",
   "execution_count": 41,
   "metadata": {
    "id": "bn_64VH6CGSI"
   },
   "outputs": [
    {
     "name": "stdout",
     "output_type": "stream",
     "text": [
      "float64\n"
     ]
    },
    {
     "name": "stderr",
     "output_type": "stream",
     "text": [
      "c:\\users\\divya\\appdata\\local\\programs\\python\\python39\\lib\\site-packages\\seaborn\\distributions.py:2557: FutureWarning: `distplot` is a deprecated function and will be removed in a future version. Please adapt your code to use either `displot` (a figure-level function with similar flexibility) or `histplot` (an axes-level function for histograms).\n",
      "  warnings.warn(msg, FutureWarning)\n",
      "c:\\users\\divya\\appdata\\local\\programs\\python\\python39\\lib\\site-packages\\seaborn\\distributions.py:2557: FutureWarning: `distplot` is a deprecated function and will be removed in a future version. Please adapt your code to use either `displot` (a figure-level function with similar flexibility) or `histplot` (an axes-level function for histograms).\n",
      "  warnings.warn(msg, FutureWarning)\n"
     ]
    },
    {
     "data": {
      "image/png": "[encoded data removed]",
      "text/plain": [
       "<Figure size 435.125x360 with 1 Axes>"
      ]
     },
     "metadata": {},
     "output_type": "display_data"
    }
   ],
   "source": [
    "print(df['age'].dtype)\n",
    "sns.set_style('whitegrid')\n",
    "sns.FacetGrid(df, hue= 'survival_status',height=5).map(sns.distplot,\"age\").add_legend()\n",
    "plt.show()"
   ]
  },
  {
   "cell_type": "code",
   "execution_count": 42,
   "metadata": {},
   "outputs": [
    {
     "name": "stderr",
     "output_type": "stream",
     "text": [
      "c:\\users\\divya\\appdata\\local\\programs\\python\\python39\\lib\\site-packages\\seaborn\\distributions.py:2557: FutureWarning: `distplot` is a deprecated function and will be removed in a future version. Please adapt your code to use either `displot` (a figure-level function with similar flexibility) or `histplot` (an axes-level function for histograms).\n",
      "  warnings.warn(msg, FutureWarning)\n",
      "c:\\users\\divya\\appdata\\local\\programs\\python\\python39\\lib\\site-packages\\seaborn\\distributions.py:2557: FutureWarning: `distplot` is a deprecated function and will be removed in a future version. Please adapt your code to use either `displot` (a figure-level function with similar flexibility) or `histplot` (an axes-level function for histograms).\n",
      "  warnings.warn(msg, FutureWarning)\n"
     ]
    },
    {
     "data": {
      "image/png": "[encoded data removed]",
      "text/plain": [
       "<Figure size 435.125x360 with 1 Axes>"
      ]
     },
     "metadata": {},
     "output_type": "display_data"
    }
   ],
   "source": [
    "sns.set_style('whitegrid')\n",
    "sns.FacetGrid(df, hue= 'survival_status',height=5).map(sns.distplot,\"operation_Year\").add_legend()\n",
    "plt.show()"
   ]
  },
  {
   "cell_type": "code",
   "execution_count": 43,
   "metadata": {},
   "outputs": [
    {
     "name": "stderr",
     "output_type": "stream",
     "text": [
      "c:\\users\\divya\\appdata\\local\\programs\\python\\python39\\lib\\site-packages\\seaborn\\distributions.py:2557: FutureWarning: `distplot` is a deprecated function and will be removed in a future version. Please adapt your code to use either `displot` (a figure-level function with similar flexibility) or `histplot` (an axes-level function for histograms).\n",
      "  warnings.warn(msg, FutureWarning)\n",
      "c:\\users\\divya\\appdata\\local\\programs\\python\\python39\\lib\\site-packages\\seaborn\\distributions.py:2557: FutureWarning: `distplot` is a deprecated function and will be removed in a future version. Please adapt your code to use either `displot` (a figure-level function with similar flexibility) or `histplot` (an axes-level function for histograms).\n",
      "  warnings.warn(msg, FutureWarning)\n"
     ]
    },
    {
     "data": {
      "image/png": "[encoded data removed]",
      "text/plain": [
       "<Figure size 435.125x360 with 1 Axes>"
      ]
     },
     "metadata": {},
     "output_type": "display_data"
    }
   ],
   "source": [
    "sns.set_style('whitegrid')\n",
    "sns.FacetGrid(df, hue= 'survival_status',height=5).map(sns.distplot,\"axil_nodes\").add_legend()\n",
    "plt.show()"
   ]
  },
  {
   "cell_type": "markdown",
   "metadata": {},
   "source": [
    "*OBSERVATION On PDF PLOT:*<br>\n",
    "Looking all the 3 pdf plots (age,operation_year,axil_nodes) wrt 'survival_status', i can say that for each feature , pdf of output label(survival status) is highly overlapping. Thus we can not separate 1,2 class using if-else.<br>\n",
    "PDF of \"age\" wrt survival status is normal distribution.<br>\n",
    "PDF of \"operation_Year\" wrt survival status is like to normal distribution.<br>\n",
    "PDF of \"axil_nodes\" wrt survival status is pareto distribution.for blue pdf we can see majority of survival_status=1 is at axil_nodes=0.<br>\n",
    "As number of survival_status = 1 > that of 2, so we can consider those datapoints that are in $\\mu+3\\sigma$ of blue pdf(survival_status = 1) as important and eliminate other data points in blue pdf."
   ]
  },
  {
   "cell_type": "markdown",
   "metadata": {
    "id": "7SL3zDVZCGSI"
   },
   "source": [
    "## CDF PLOT"
   ]
  },
  {
   "cell_type": "code",
   "execution_count": 44,
   "metadata": {},
   "outputs": [
    {
     "name": "stdout",
     "output_type": "stream",
     "text": [
      "[0.05228758 0.08823529 0.1503268  0.17320261 0.17973856 0.13398693\n",
      " 0.13398693 0.05882353 0.02287582 0.00653595]\n",
      "[30.  35.3 40.6 45.9 51.2 56.5 61.8 67.1 72.4 77.7 83. ]\n"
     ]
    },
    {
     "data": {
      "image/png": "[encoded data removed]",
      "text/plain": [
       "<Figure size 432x288 with 1 Axes>"
      ]
     },
     "metadata": {},
     "output_type": "display_data"
    }
   ],
   "source": [
    "counts, bin_edges = np.histogram(df[\"age\"], bins=10, \n",
    "                                 density = True)\n",
    "pdf = counts/(sum(counts))\n",
    "print(pdf);\n",
    "print(bin_edges);\n",
    "cdf = np.cumsum(pdf)\n",
    "plt.plot(bin_edges[1:],pdf);\n",
    "plt.plot(bin_edges[1:], cdf)\n",
    "plt.show()"
   ]
  },
  {
   "cell_type": "code",
   "execution_count": null,
   "metadata": {},
   "outputs": [],
   "source": [
    "plt.figure(figsize=(15,15))\n",
    "sns.set_style('whitegrid')\n",
    "sns.FacetGrid(df, hue= 'survival_status',height=5).map(sns.ecdfplot,\"age\").add_legend()\n",
    "plt.xticks(rotation = 90)\n",
    "plt.show()"
   ]
  },
  {
   "cell_type": "markdown",
   "metadata": {},
   "source": [
    "\n"
   ]
  },
  {
   "cell_type": "code",
   "execution_count": null,
   "metadata": {},
   "outputs": [],
   "source": [
    "sns.set_style('whitegrid')\n",
    "sns.FacetGrid(df, hue= 'survival_status',height=5).map(sns.ecdfplot,\"operation_Year\").add_legend()\n",
    "plt.show()"
   ]
  },
  {
   "cell_type": "code",
   "execution_count": null,
   "metadata": {
    "scrolled": true
   },
   "outputs": [],
   "source": [
    "sns.set_style('whitegrid')\n",
    "sns.FacetGrid(df, hue= 'survival_status',height=5).map(sns.ecdfplot,\"axil_nodes\").add_legend()\n",
    "plt.xticks(rotation = 90)\n",
    "plt.show()"
   ]
  },
  {
   "cell_type": "markdown",
   "metadata": {},
   "source": [
    "*OBSERVATION OF CDF PLOT:*<br>\n",
    "In CDF plot of axil_nodes, nearly 80 percent of survival_data is \"1\" at axil_nodes=0 whereas nearly 45 percent of survival_data is \"0\" at axil_nodes=0"
   ]
  },
  {
   "cell_type": "markdown",
   "metadata": {},
   "source": [
    "## BOX PLOT"
   ]
  },
  {
   "cell_type": "code",
   "execution_count": null,
   "metadata": {},
   "outputs": [],
   "source": [
    "sns.boxplot(x='survival_status',y='age', data=df.astype(\"int64\"))\n",
    "plt.show()"
   ]
  },
  {
   "cell_type": "code",
   "execution_count": null,
   "metadata": {},
   "outputs": [],
   "source": [
    "sns.boxplot(x='survival_status',y='operation_Year', data=df.astype(\"int64\"))\n",
    "plt.show()"
   ]
  },
  {
   "cell_type": "code",
   "execution_count": null,
   "metadata": {},
   "outputs": [],
   "source": [
    "sns.boxplot(x='survival_status',y='axil_nodes', data=df.astype(\"int64\"))\n",
    "plt.show()"
   ]
  },
  {
   "cell_type": "markdown",
   "metadata": {},
   "source": [
    "*OBSERVATION OF BOXPLOT:*<br>\n",
    "In the boxplot of \"axil_nodes\", We can see many outliers in survival_status=1 but very few outliers survival_status=0.\n",
    "and the 25 percentile of survival_status=1 and 50 percentile of survival_status=0 are equal. So we can think that axil_nodes is important feature"
   ]
  },
  {
   "cell_type": "markdown",
   "metadata": {},
   "source": [
    "## VIOLIN PLOT"
   ]
  },
  {
   "cell_type": "code",
   "execution_count": null,
   "metadata": {},
   "outputs": [],
   "source": [
    "sns.violinplot(x='survival_status',y='age', data=df.astype(\"int64\"))\n",
    "plt.show()"
   ]
  },
  {
   "cell_type": "code",
   "execution_count": null,
   "metadata": {},
   "outputs": [],
   "source": [
    "sns.violinplot(x='survival_status',y='operation_Year', data=df.astype(\"int64\"))\n",
    "plt.show()"
   ]
  },
  {
   "cell_type": "code",
   "execution_count": null,
   "metadata": {},
   "outputs": [],
   "source": [
    "sns.violinplot(x='survival_status',y='axil_nodes', data=df.astype(\"int64\"))\n",
    "plt.show()"
   ]
  },
  {
   "cell_type": "markdown",
   "metadata": {},
   "source": [
    "*OBSERVATION OF VIOLIN PLOT:*<br>\n",
    "So similar to box plot, if we see violin plot of axil_nodes we can see majority of data(survival_status=1) is situated at axil_nodes=0, while that of data(survival_status=0) is spreaded(variance is high)."
   ]
  },
  {
   "cell_type": "markdown",
   "metadata": {
    "id": "eyL8AJqUCGSJ"
   },
   "source": [
    "### 1.4 Perform Bivariate analysis - Plot 2D Scatter plots and Pair plots\n",
    "- Plot the required Scatter plots and Pair plots of different features to see which combination of features are useful for clasification task\n",
    "- Make sure that you add titles, legends and labels for each and every plots.\n",
    "- Suppress the warnings you get in python, in that way it makes your notebook more presentable. \n",
    "- Do write observations/inference for each  plot.\n"
   ]
  },
  {
   "cell_type": "markdown",
   "metadata": {},
   "source": [
    "## 2D SCATTERPLOT"
   ]
  },
  {
   "cell_type": "code",
   "execution_count": null,
   "metadata": {},
   "outputs": [],
   "source": [
    "sns.set_style('whitegrid')\n",
    "sns.FacetGrid(df, hue= 'survival_status',height=5).map(plt.scatter,'age',\"operation_Year\").add_legend()\n",
    "plt.xticks(rotation = 90)\n",
    "plt.show()"
   ]
  },
  {
   "cell_type": "code",
   "execution_count": null,
   "metadata": {},
   "outputs": [],
   "source": [
    "sns.set_style('whitegrid')\n",
    "sns.FacetGrid(df, hue= 'survival_status',height=5).map(plt.scatter,'age',\"axil_nodes\").add_legend()\n",
    "plt.xticks(rotation = 90)\n",
    "plt.show()"
   ]
  },
  {
   "cell_type": "code",
   "execution_count": null,
   "metadata": {},
   "outputs": [],
   "source": [
    "sns.set_style('whitegrid')\n",
    "sns.FacetGrid(df, hue= 'survival_status',height=5).map(plt.scatter,'operation_Year',\"axil_nodes\").add_legend()\n",
    "plt.xticks(rotation = 90)\n",
    "plt.show()"
   ]
  },
  {
   "cell_type": "markdown",
   "metadata": {},
   "source": [
    "*OBSERVATION OF 2D SCATTER PLOT:*<br>\n",
    "In 1st and 3rd 2D scatterplot, we can see survival_status is highly overlapping. So if we have to choose two out of three feature i will choose 'axil_nodes' and 'age'. "
   ]
  },
  {
   "cell_type": "code",
   "execution_count": null,
   "metadata": {},
   "outputs": [],
   "source": [
    "df.astype(\"int64\").corr()"
   ]
  },
  {
   "cell_type": "markdown",
   "metadata": {},
   "source": [
    "Seeing correlation matrix , we can see we can not remove any column. because there is very little correlation between the feature."
   ]
  },
  {
   "cell_type": "markdown",
   "metadata": {},
   "source": [
    "## PAIRPLOT"
   ]
  },
  {
   "cell_type": "code",
   "execution_count": null,
   "metadata": {
    "id": "vpnS1onJCGSK"
   },
   "outputs": [],
   "source": [
    "sns.pairplot(df.astype('int64'), hue=\"survival_status\",palette=\"bright\")"
   ]
  },
  {
   "cell_type": "markdown",
   "metadata": {
    "id": "wYgoO_MLCGSK"
   },
   "source": [
    "*OBSERVATION OF PAIRPLOT:*<br>\n",
    "Observation of pairplot is similar to that of 2D scatterplot. "
   ]
  },
  {
   "cell_type": "markdown",
   "metadata": {
    "id": "R_eaFdSVCGSK"
   },
   "source": [
    "### 1.5 Summarize your final conclusions of the Exploration\n",
    "- You can desrcibe the key features that are important for the Classification task.\n",
    "- Try to quantify your results i.e. while writing observations include numbers,percentages, fractions etc.\n",
    "- Write a brief of your exploratory analysis in 3-5 points\n",
    "- Write your observations in english as crisply and unambigously as possible."
   ]
  },
  {
   "cell_type": "markdown",
   "metadata": {},
   "source": [
    "## CONCLUSION"
   ]
  },
  {
   "cell_type": "markdown",
   "metadata": {
    "id": "oOrR_rJeCGSM"
   },
   "source": [
    "1. The output label is highly overlapping, So data is non linear in nature.\n",
    "2. Moreover we can not draw any decision boundary to separate output.\n",
    "3. The data is separated in density form, So we can use KNN algorithm to get output.\n",
    "4. We can not remove any feature as there is very less corellation between features."
   ]
  }
 ],
 "metadata": {
  "colab": {
   "collapsed_sections": [],
   "name": "EDA_assignment_instructions.ipynb",
   "provenance": []
  },
  "kernelspec": {
   "display_name": "Python 3",
   "language": "python",
   "name": "python3"
  },
  "language_info": {
   "codemirror_mode": {
    "name": "ipython",
    "version": 3
   },
   "file_extension": ".py",
   "mimetype": "text/x-python",
   "name": "python",
   "nbconvert_exporter": "python",
   "pygments_lexer": "ipython3",
   "version": "3.9.5"
  }
 },
 "nbformat": 4,
 "nbformat_minor": 1
}
