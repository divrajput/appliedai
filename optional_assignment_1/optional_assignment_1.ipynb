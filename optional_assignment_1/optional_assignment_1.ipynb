{
 "cells": [
  {
   "cell_type": "markdown",
   "id": "enclosed-public",
   "metadata": {},
   "source": [
    "# Q1) Write a function that inputs a number and gives multiplication table"
   ]
  },
  {
   "cell_type": "code",
   "execution_count": 1,
   "id": "polish-review",
   "metadata": {},
   "outputs": [
    {
     "name": "stdout",
     "output_type": "stream",
     "text": [
      "Enter a number:\n",
      "4\n",
      "4 * 1 = 4\n",
      "4 * 2 = 8\n",
      "4 * 3 = 12\n",
      "4 * 4 = 16\n",
      "4 * 5 = 20\n",
      "4 * 6 = 24\n",
      "4 * 7 = 28\n",
      "4 * 8 = 32\n",
      "4 * 9 = 36\n",
      "4 * 10 = 40\n"
     ]
    }
   ],
   "source": [
    "def mul_table():\n",
    "    print(\"Enter a number:\")\n",
    "    a= int(input())\n",
    "    i=0\n",
    "    while i<10:\n",
    "        print(\"{} * {} = {}\".format(a,i+1,a*(i+1)))\n",
    "        i+=1\n",
    "mul_table()"
   ]
  },
  {
   "cell_type": "markdown",
   "id": "raising-relief",
   "metadata": {},
   "source": [
    "# Q2) Write a program to print twin prime less than 100."
   ]
  },
  {
   "cell_type": "code",
   "execution_count": 2,
   "id": "forty-perception",
   "metadata": {},
   "outputs": [
    {
     "name": "stdout",
     "output_type": "stream",
     "text": [
      "(3,5)\n",
      "(5,7)\n",
      "(7,11)\n",
      "(11,13)\n",
      "(13,17)\n",
      "(17,19)\n",
      "(19,23)\n",
      "(23,29)\n",
      "(29,31)\n",
      "(31,37)\n",
      "(37,41)\n",
      "(41,43)\n",
      "(43,47)\n",
      "(47,53)\n",
      "(53,59)\n",
      "(59,61)\n",
      "(61,67)\n",
      "(67,71)\n",
      "(71,73)\n",
      "(73,79)\n",
      "(79,83)\n",
      "(83,89)\n",
      "(89,97)\n"
     ]
    }
   ],
   "source": [
    "a=1;b=1;\n",
    "for i in range(2,100):\n",
    "    flag= True\n",
    "    for j in range(2,i):\n",
    "        if i%j==0:\n",
    "            flag=False\n",
    "            break\n",
    "    if flag:\n",
    "        b=i\n",
    "        if b%2==1 and a%2==1:\n",
    "            print(\"({},{})\".format(a,b))\n",
    "        a=b"
   ]
  },
  {
   "cell_type": "markdown",
   "id": "configured-fourth",
   "metadata": {},
   "source": [
    "# Q3) Write a program to find out prime factors of a number"
   ]
  },
  {
   "cell_type": "code",
   "execution_count": 3,
   "id": "driven-appendix",
   "metadata": {},
   "outputs": [
    {
     "name": "stdout",
     "output_type": "stream",
     "text": [
      "2\n",
      "2\n",
      "3\n"
     ]
    }
   ],
   "source": [
    "def prime_factor(num):\n",
    "    if num==1:\n",
    "        return\n",
    "    for i in range(2,num+1):\n",
    "        if num%i==0:\n",
    "            print(i)\n",
    "            num = num//i\n",
    "            return prime_factor(num)\n",
    "    \n",
    "prime_factor(12)"
   ]
  },
  {
   "cell_type": "markdown",
   "id": "infrared-staff",
   "metadata": {},
   "source": [
    "# Q4) Program to implement formulae of permutation and combination"
   ]
  },
  {
   "cell_type": "code",
   "execution_count": 4,
   "id": "radio-teddy",
   "metadata": {},
   "outputs": [
    {
     "name": "stdout",
     "output_type": "stream",
     "text": [
      "Permutation is 20.0 and Combination is 10.0\n"
     ]
    }
   ],
   "source": [
    "def fact(num):\n",
    "    if num==1:    \n",
    "        return 1 \n",
    "    return num* fact(num-1)\n",
    "def PandC(n,r):\n",
    "    perm= fact(n)/fact(n-r)\n",
    "    comb= perm/ fact(r)\n",
    "    print(\"Permutation is {} and Combination is {}\".format(perm, comb))\n",
    "PandC(5,2)"
   ]
  },
  {
   "cell_type": "markdown",
   "id": "vietnamese-killing",
   "metadata": {},
   "source": [
    "# Q5) Program to print decimal to binary"
   ]
  },
  {
   "cell_type": "code",
   "execution_count": 5,
   "id": "classical-syria",
   "metadata": {},
   "outputs": [
    {
     "name": "stdout",
     "output_type": "stream",
     "text": [
      "1\n",
      "1\n",
      "1\n",
      "0\n",
      "1\n"
     ]
    }
   ],
   "source": [
    "def dectobin(num,lst):\n",
    "    if num==1:\n",
    "        return lst.append(1)\n",
    "    lst.append(num%2)\n",
    "    num= num//2\n",
    "    #print(\"num:{} and list:{}\".format(num,lst))\n",
    "    return dectobin(num, lst)\n",
    "lst=[];num=29\n",
    "dectobin(num,lst)\n",
    "for i in reversed(lst):\n",
    "    print(\"{}\".format(i))\n",
    "    "
   ]
  },
  {
   "cell_type": "markdown",
   "id": "disturbed-dance",
   "metadata": {},
   "source": [
    "# Q6) Write a function cubesum() that accept integer and return sum of cubes of individual digits. Write a function PrintArmstrong() and IsArmstrong() to check if number is an armstrong number."
   ]
  },
  {
   "cell_type": "code",
   "execution_count": 60,
   "id": "cross-projection",
   "metadata": {},
   "outputs": [
    {
     "name": "stdout",
     "output_type": "stream",
     "text": [
      "36\n",
      "Enter a number:\n",
      "1634\n",
      "1634 is not a armstrong number.\n"
     ]
    }
   ],
   "source": [
    "def cubesum(num):\n",
    "    print\n",
    "    sum=0;n=1;\n",
    "    while num!=0:\n",
    "        sum+= (num % 10)**3\n",
    "        num= num// (10)\n",
    "    return sum\n",
    "print(cubesum(123))\n",
    "def IsArmstrong(num):\n",
    "    if num== cubesum(num):\n",
    "        print(\"{} is a armstrong number.\".format(num))\n",
    "    else:\n",
    "        print(\"{} is not a armstrong number.\".format(num))\n",
    "    return\n",
    "def PrintArmstrong():\n",
    "    print(\"Enter a number:\")\n",
    "    num= int(input())\n",
    "    IsArmstrong(num)\n",
    "    return\n",
    "PrintArmstrong()\n",
    "\n",
    "#def PrintArmstrong():\n",
    "    \n",
    "\n"
   ]
  },
  {
   "cell_type": "markdown",
   "id": "apparent-details",
   "metadata": {},
   "source": [
    "# Q7) Write a function prodDigits() to product digits of a number."
   ]
  },
  {
   "cell_type": "code",
   "execution_count": 17,
   "id": "strategic-illinois",
   "metadata": {},
   "outputs": [
    {
     "name": "stdout",
     "output_type": "stream",
     "text": [
      "Enter a number:\n",
      "12345\n",
      "product of a number:120\n"
     ]
    }
   ],
   "source": [
    "def prodDigits(num):\n",
    "    prod=1\n",
    "    while num!=0:\n",
    "        prod*= (num%10)\n",
    "        num= num//10\n",
    "    return prod\n",
    "print(\"Enter a number:\")\n",
    "num= int(input())\n",
    "prod=prodDigits(num)\n",
    "print(\"product of a number:{}\".format(prod))"
   ]
  },
  {
   "cell_type": "markdown",
   "id": "timely-zambia",
   "metadata": {},
   "source": [
    "# Q8) Write functions MDR() and MPersistence() that input a number and return its multiplicative digital root and multiplicative persistence respectively."
   ]
  },
  {
   "cell_type": "code",
   "execution_count": 19,
   "id": "arctic-plasma",
   "metadata": {},
   "outputs": [
    {
     "name": "stdout",
     "output_type": "stream",
     "text": [
      "Enter a number:\n",
      "86\n",
      "Multiplicative digital root of 86 is 6\n"
     ]
    }
   ],
   "source": [
    "def MDR():\n",
    "    print(\"Enter a number:\")\n",
    "    num= int(input())\n",
    "    a= num\n",
    "    while num>9:\n",
    "        num= prodDigits(num)\n",
    "    print(\"Multiplicative digital root of {} is {}\".format(a,num))\n",
    "    return\n",
    "MDR()"
   ]
  },
  {
   "cell_type": "code",
   "execution_count": 23,
   "id": "joint-parameter",
   "metadata": {},
   "outputs": [
    {
     "name": "stdout",
     "output_type": "stream",
     "text": [
      "Enter a number:\n",
      "341\n",
      "Multiplicative persistence of 341 is 2\n"
     ]
    }
   ],
   "source": [
    "def MPersistence():\n",
    "    print(\"Enter a number:\")\n",
    "    num= int(input())\n",
    "    a= num\n",
    "    n=0\n",
    "    while num>9:\n",
    "        num= prodDigits(num)\n",
    "        n+=1\n",
    "    print(\"Multiplicative persistence of {} is {}\".format(a,n))\n",
    "    return\n",
    "MPersistence()"
   ]
  },
  {
   "cell_type": "markdown",
   "id": "preceding-collective",
   "metadata": {},
   "source": [
    "# Q9) Write a function sumPdivisors() that find sum of proper divisor."
   ]
  },
  {
   "cell_type": "code",
   "execution_count": 26,
   "id": "painful-couple",
   "metadata": {},
   "outputs": [
    {
     "name": "stdout",
     "output_type": "stream",
     "text": [
      "Enter a number:\n",
      "28\n",
      "Sum of proper divisor of 28 is 28\n",
      "[1, 2, 4, 7, 14]\n"
     ]
    }
   ],
   "source": [
    "def sumPdivisors(num):\n",
    "    lst=[]\n",
    "    for i in range(1,num):\n",
    "        if num%i==0:\n",
    "            lst.append(i)\n",
    "    return lst\n",
    "print(\"Enter a number:\")\n",
    "num= int(input())\n",
    "lst= sumPdivisors(num)\n",
    "print(\"Sum of proper divisor of {} is {}\".format(num,sum(lst)))\n",
    "print(lst)\n"
   ]
  },
  {
   "cell_type": "markdown",
   "id": "vital-operation",
   "metadata": {},
   "source": [
    "# Q 10)  Write a program to print all perfect number in a given range."
   ]
  },
  {
   "cell_type": "code",
   "execution_count": 30,
   "id": "saving-instrument",
   "metadata": {},
   "outputs": [
    {
     "name": "stdout",
     "output_type": "stream",
     "text": [
      "Enter a two value for range: 1 1000\n",
      "6\n",
      "28\n",
      "496\n"
     ]
    }
   ],
   "source": [
    "def Perfect_num(a,b):\n",
    "    for i in range(a,b+1):\n",
    "        lst= sumPdivisors(i)\n",
    "        if i== sum(lst):\n",
    "            print(i)\n",
    "    return\n",
    "x, y = input(\"Enter a two value for range: \").split()\n",
    "Perfect_num(int(x),int(y))"
   ]
  },
  {
   "cell_type": "markdown",
   "id": "stainless-exchange",
   "metadata": {},
   "source": [
    "# Q11) Write a function to print pairs of amicable number in range."
   ]
  },
  {
   "cell_type": "code",
   "execution_count": 48,
   "id": "serious-knight",
   "metadata": {},
   "outputs": [
    {
     "name": "stdout",
     "output_type": "stream",
     "text": [
      "Enter a two value for range: 100 2000\n",
      "(220,284)\n",
      "(1184,1210)\n"
     ]
    }
   ],
   "source": [
    "def amicable(a,b):\n",
    "    for i in range(a,b):\n",
    "        for j in range(i+1, b+1):\n",
    "            if sum(sumPdivisors(i))==j and sum(sumPdivisors(j))==i:\n",
    "                print(\"({},{})\".format(i,j))\n",
    "x, y = input(\"Enter a two value for range: \").split()\n",
    "amicable(int(x),int(y))\n",
    "        \n",
    "    "
   ]
  },
  {
   "cell_type": "markdown",
   "id": "creative-savings",
   "metadata": {},
   "source": [
    "# Q12) Write a function to filter odd number in a list by using filter function."
   ]
  },
  {
   "cell_type": "code",
   "execution_count": 51,
   "id": "violent-europe",
   "metadata": {},
   "outputs": [
    {
     "name": "stdout",
     "output_type": "stream",
     "text": [
      "[1, 3, 33, 5, 7, 467, 979]\n"
     ]
    }
   ],
   "source": [
    "def filter_func(lst):\n",
    "    result= list(filter(lambda x: (x%2!=0), lst))\n",
    "    print(result)\n",
    "    return\n",
    "lst=[1,3,5,33,34,5,532,3,4,467,7,688,979,664]\n",
    "filter_func(lst)"
   ]
  },
  {
   "cell_type": "markdown",
   "id": "early-raleigh",
   "metadata": {},
   "source": [
    "# Q13) Write a function which can map() to make a list  whose element are cube of elements in a list."
   ]
  },
  {
   "cell_type": "code",
   "execution_count": 53,
   "id": "encouraging-reservation",
   "metadata": {},
   "outputs": [
    {
     "name": "stdout",
     "output_type": "stream",
     "text": [
      "[1, 8, 27, 64, 125, 216, 343, 512, 729]\n"
     ]
    }
   ],
   "source": [
    "def cube(num):\n",
    "    return num**3\n",
    "lst=[1,2,3,4,5,6,7,8,9]\n",
    "result= list(map(cube,lst))\n",
    "print(result)"
   ]
  },
  {
   "cell_type": "markdown",
   "id": "scenic-designation",
   "metadata": {},
   "source": [
    "# Q14) Write a function which can map() and filter() to make a list whose elements are cube of even number in given list."
   ]
  },
  {
   "cell_type": "code",
   "execution_count": 58,
   "id": "beautiful-treasurer",
   "metadata": {},
   "outputs": [
    {
     "name": "stdout",
     "output_type": "stream",
     "text": [
      "[8, 64, 216, 512]\n"
     ]
    }
   ],
   "source": [
    "def even_cube(num):\n",
    "    if num%2==0:\n",
    "        return num**3\n",
    "    else:\n",
    "        return\n",
    "lst=[1,2,3,4,5,6,7,8,9]\n",
    "result= list(filter(lambda x: (x!= None), map(even_cube,lst)))\n",
    "print(result)"
   ]
  },
  {
   "cell_type": "code",
   "execution_count": null,
   "id": "overall-chance",
   "metadata": {},
   "outputs": [],
   "source": []
  }
 ],
 "metadata": {
  "kernelspec": {
   "display_name": "Python 3",
   "language": "python",
   "name": "python3"
  },
  "language_info": {
   "codemirror_mode": {
    "name": "ipython",
    "version": 3
   },
   "file_extension": ".py",
   "mimetype": "text/x-python",
   "name": "python",
   "nbconvert_exporter": "python",
   "pygments_lexer": "ipython3",
   "version": "3.9.5"
  }
 },
 "nbformat": 4,
 "nbformat_minor": 5
}
