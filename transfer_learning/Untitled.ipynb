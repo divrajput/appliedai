{
 "cells": [
  {
   "cell_type": "code",
   "execution_count": 12,
   "id": "suburban-patrick",
   "metadata": {},
   "outputs": [
    {
     "name": "stdout",
     "output_type": "stream",
     "text": [
      "Collecting tensorflow==2.2.0\n",
      "  Using cached tensorflow-2.2.0-cp37-cp37m-win_amd64.whl (459.2 MB)\n",
      "Requirement already satisfied: termcolor>=1.1.0 in c:\\users\\divya\\anaconda3\\envs\\divenv\\lib\\site-packages (from tensorflow==2.2.0) (1.1.0)\n",
      "Requirement already satisfied: keras-preprocessing>=1.1.0 in c:\\users\\divya\\anaconda3\\envs\\divenv\\lib\\site-packages (from tensorflow==2.2.0) (1.1.2)\n",
      "Requirement already satisfied: numpy<2.0,>=1.16.0 in c:\\users\\divya\\anaconda3\\envs\\divenv\\lib\\site-packages (from tensorflow==2.2.0) (1.21.6)\n",
      "Requirement already satisfied: h5py<2.11.0,>=2.10.0 in c:\\users\\divya\\anaconda3\\envs\\divenv\\lib\\site-packages (from tensorflow==2.2.0) (2.10.0)\n",
      "Requirement already satisfied: grpcio>=1.8.6 in c:\\users\\divya\\anaconda3\\envs\\divenv\\lib\\site-packages (from tensorflow==2.2.0) (1.44.0)\n",
      "Requirement already satisfied: google-pasta>=0.1.8 in c:\\users\\divya\\anaconda3\\envs\\divenv\\lib\\site-packages (from tensorflow==2.2.0) (0.2.0)\n",
      "Requirement already satisfied: scipy==1.4.1 in c:\\users\\divya\\anaconda3\\envs\\divenv\\lib\\site-packages (from tensorflow==2.2.0) (1.4.1)\n",
      "Requirement already satisfied: astunparse==1.6.3 in c:\\users\\divya\\anaconda3\\envs\\divenv\\lib\\site-packages (from tensorflow==2.2.0) (1.6.3)\n",
      "Requirement already satisfied: tensorboard<2.3.0,>=2.2.0 in c:\\users\\divya\\anaconda3\\envs\\divenv\\lib\\site-packages (from tensorflow==2.2.0) (2.2.2)\n",
      "Requirement already satisfied: gast==0.3.3 in c:\\users\\divya\\anaconda3\\envs\\divenv\\lib\\site-packages (from tensorflow==2.2.0) (0.3.3)\n",
      "Requirement already satisfied: six>=1.12.0 in c:\\users\\divya\\anaconda3\\envs\\divenv\\lib\\site-packages (from tensorflow==2.2.0) (1.16.0)\n",
      "Requirement already satisfied: protobuf>=3.8.0 in c:\\users\\divya\\anaconda3\\envs\\divenv\\lib\\site-packages (from tensorflow==2.2.0) (3.20.0)\n",
      "Requirement already satisfied: wheel>=0.26 in c:\\users\\divya\\anaconda3\\envs\\divenv\\lib\\site-packages (from tensorflow==2.2.0) (0.37.1)\n",
      "Collecting tensorflow-estimator<2.3.0,>=2.2.0\n",
      "  Using cached tensorflow_estimator-2.2.0-py2.py3-none-any.whl (454 kB)\n",
      "Requirement already satisfied: absl-py>=0.7.0 in c:\\users\\divya\\anaconda3\\envs\\divenv\\lib\\site-packages (from tensorflow==2.2.0) (1.0.0)\n",
      "Requirement already satisfied: wrapt>=1.11.1 in c:\\users\\divya\\anaconda3\\envs\\divenv\\lib\\site-packages (from tensorflow==2.2.0) (1.14.0)\n",
      "Requirement already satisfied: opt-einsum>=2.3.2 in c:\\users\\divya\\anaconda3\\envs\\divenv\\lib\\site-packages (from tensorflow==2.2.0) (3.3.0)\n",
      "Requirement already satisfied: tensorboard-plugin-wit>=1.6.0 in c:\\users\\divya\\anaconda3\\envs\\divenv\\lib\\site-packages (from tensorboard<2.3.0,>=2.2.0->tensorflow==2.2.0) (1.8.1)\n",
      "Requirement already satisfied: markdown>=2.6.8 in c:\\users\\divya\\anaconda3\\envs\\divenv\\lib\\site-packages (from tensorboard<2.3.0,>=2.2.0->tensorflow==2.2.0) (3.3.6)\n",
      "Requirement already satisfied: setuptools>=41.0.0 in c:\\users\\divya\\anaconda3\\envs\\divenv\\lib\\site-packages (from tensorboard<2.3.0,>=2.2.0->tensorflow==2.2.0) (61.2.0)\n",
      "Requirement already satisfied: werkzeug>=0.11.15 in c:\\users\\divya\\anaconda3\\envs\\divenv\\lib\\site-packages (from tensorboard<2.3.0,>=2.2.0->tensorflow==2.2.0) (2.1.1)\n",
      "Requirement already satisfied: google-auth<2,>=1.6.3 in c:\\users\\divya\\anaconda3\\envs\\divenv\\lib\\site-packages (from tensorboard<2.3.0,>=2.2.0->tensorflow==2.2.0) (1.35.0)\n",
      "Requirement already satisfied: google-auth-oauthlib<0.5,>=0.4.1 in c:\\users\\divya\\anaconda3\\envs\\divenv\\lib\\site-packages (from tensorboard<2.3.0,>=2.2.0->tensorflow==2.2.0) (0.4.6)\n",
      "Requirement already satisfied: requests<3,>=2.21.0 in c:\\users\\divya\\anaconda3\\envs\\divenv\\lib\\site-packages (from tensorboard<2.3.0,>=2.2.0->tensorflow==2.2.0) (2.27.1)\n",
      "Requirement already satisfied: pyasn1-modules>=0.2.1 in c:\\users\\divya\\anaconda3\\envs\\divenv\\lib\\site-packages (from google-auth<2,>=1.6.3->tensorboard<2.3.0,>=2.2.0->tensorflow==2.2.0) (0.2.8)\n",
      "Requirement already satisfied: rsa<5,>=3.1.4 in c:\\users\\divya\\anaconda3\\envs\\divenv\\lib\\site-packages (from google-auth<2,>=1.6.3->tensorboard<2.3.0,>=2.2.0->tensorflow==2.2.0) (4.8)\n",
      "Requirement already satisfied: cachetools<5.0,>=2.0.0 in c:\\users\\divya\\anaconda3\\envs\\divenv\\lib\\site-packages (from google-auth<2,>=1.6.3->tensorboard<2.3.0,>=2.2.0->tensorflow==2.2.0) (4.2.4)\n",
      "Requirement already satisfied: requests-oauthlib>=0.7.0 in c:\\users\\divya\\anaconda3\\envs\\divenv\\lib\\site-packages (from google-auth-oauthlib<0.5,>=0.4.1->tensorboard<2.3.0,>=2.2.0->tensorflow==2.2.0) (1.3.1)\n",
      "Requirement already satisfied: importlib-metadata>=4.4 in c:\\users\\divya\\anaconda3\\envs\\divenv\\lib\\site-packages (from markdown>=2.6.8->tensorboard<2.3.0,>=2.2.0->tensorflow==2.2.0) (4.11.3)\n",
      "Requirement already satisfied: typing-extensions>=3.6.4 in c:\\users\\divya\\anaconda3\\envs\\divenv\\lib\\site-packages (from importlib-metadata>=4.4->markdown>=2.6.8->tensorboard<2.3.0,>=2.2.0->tensorflow==2.2.0) (4.1.1)\n",
      "Requirement already satisfied: zipp>=0.5 in c:\\users\\divya\\anaconda3\\envs\\divenv\\lib\\site-packages (from importlib-metadata>=4.4->markdown>=2.6.8->tensorboard<2.3.0,>=2.2.0->tensorflow==2.2.0) (3.8.0)\n",
      "Requirement already satisfied: pyasn1<0.5.0,>=0.4.6 in c:\\users\\divya\\anaconda3\\envs\\divenv\\lib\\site-packages (from pyasn1-modules>=0.2.1->google-auth<2,>=1.6.3->tensorboard<2.3.0,>=2.2.0->tensorflow==2.2.0) (0.4.8)\n",
      "Requirement already satisfied: idna<4,>=2.5 in c:\\users\\divya\\anaconda3\\envs\\divenv\\lib\\site-packages (from requests<3,>=2.21.0->tensorboard<2.3.0,>=2.2.0->tensorflow==2.2.0) (3.3)\n",
      "Requirement already satisfied: urllib3<1.27,>=1.21.1 in c:\\users\\divya\\anaconda3\\envs\\divenv\\lib\\site-packages (from requests<3,>=2.21.0->tensorboard<2.3.0,>=2.2.0->tensorflow==2.2.0) (1.26.9)\n",
      "Requirement already satisfied: certifi>=2017.4.17 in c:\\users\\divya\\anaconda3\\envs\\divenv\\lib\\site-packages (from requests<3,>=2.21.0->tensorboard<2.3.0,>=2.2.0->tensorflow==2.2.0) (2021.10.8)\n",
      "Requirement already satisfied: charset-normalizer~=2.0.0 in c:\\users\\divya\\anaconda3\\envs\\divenv\\lib\\site-packages (from requests<3,>=2.21.0->tensorboard<2.3.0,>=2.2.0->tensorflow==2.2.0) (2.0.12)\n",
      "Requirement already satisfied: oauthlib>=3.0.0 in c:\\users\\divya\\anaconda3\\envs\\divenv\\lib\\site-packages (from requests-oauthlib>=0.7.0->google-auth-oauthlib<0.5,>=0.4.1->tensorboard<2.3.0,>=2.2.0->tensorflow==2.2.0) (3.2.0)\n",
      "Installing collected packages: tensorflow-estimator, tensorflow\n"
     ]
    },
    {
     "name": "stderr",
     "output_type": "stream",
     "text": [
      "ERROR: Could not install packages due to an OSError: [WinError 5] Access is denied: 'C:\\\\Users\\\\divya\\\\anaconda3\\\\envs\\\\divenv\\\\Lib\\\\site-packages\\\\tensorflow\\\\lite\\\\experimental\\\\microfrontend\\\\python\\\\ops\\\\_audio_microfrontend_op.so'\n",
      "Consider using the `--user` option or check the permissions.\n",
      "\n"
     ]
    }
   ],
   "source": [
    "!pip install tensorflow==2.2.0"
   ]
  },
  {
   "cell_type": "code",
   "execution_count": 1,
   "id": "former-wells",
   "metadata": {},
   "outputs": [],
   "source": [
    "import matplotlib.pyplot as plt\n",
    "import numpy as np\n",
    "import pandas as pd\n",
    "import tensorflow as tf\n",
    "# import keras\n",
    "# from tensorflow import keras\n",
    "from tensorflow.keras.models import Model\n",
    "from keras_preprocessing.image import ImageDataGenerator\n",
    "from tensorflow.keras.layers import Dense, Conv2D, MaxPool2D , Flatten, Input"
   ]
  },
  {
   "cell_type": "code",
   "execution_count": 2,
   "id": "569ae132",
   "metadata": {},
   "outputs": [
    {
     "name": "stdout",
     "output_type": "stream",
     "text": [
      "['/device:CPU:0', '/device:XLA_CPU:0', '/device:GPU:0', '/device:XLA_GPU:0']\n"
     ]
    }
   ],
   "source": [
    "from tensorflow.python.client import device_lib\n",
    "\n",
    "def get_available_devices():\n",
    "    local_device_protos = device_lib.list_local_devices()\n",
    "    return [x.name for x in local_device_protos]\n",
    "\n",
    "print(get_available_devices())"
   ]
  },
  {
   "cell_type": "code",
   "execution_count": 3,
   "id": "f9b54ce1",
   "metadata": {},
   "outputs": [
    {
     "name": "stdout",
     "output_type": "stream",
     "text": [
      "WARNING:tensorflow:From C:\\Users\\divya\\AppData\\Local\\Temp\\ipykernel_3796\\337460670.py:1: is_gpu_available (from tensorflow.python.framework.test_util) is deprecated and will be removed in a future version.\n",
      "Instructions for updating:\n",
      "Use `tf.config.list_physical_devices('GPU')` instead.\n"
     ]
    },
    {
     "data": {
      "text/plain": [
       "True"
      ]
     },
     "execution_count": 3,
     "metadata": {},
     "output_type": "execute_result"
    }
   ],
   "source": [
    "tf.test.is_gpu_available()"
   ]
  },
  {
   "cell_type": "code",
   "execution_count": 4,
   "id": "3dda6545",
   "metadata": {},
   "outputs": [
    {
     "name": "stdout",
     "output_type": "stream",
     "text": [
      "# conda environments:\n",
      "#\n",
      "base                     C:\\Users\\divya\\anaconda3\n",
      "divenv                *  C:\\Users\\divya\\anaconda3\\envs\\divenv\n",
      "gpu_test                 C:\\Users\\divya\\anaconda3\\envs\\gpu_test\n",
      "gpu_test_1               C:\\Users\\divya\\anaconda3\\envs\\gpu_test_1\n",
      "\n"
     ]
    }
   ],
   "source": [
    "! conda info -e"
   ]
  },
  {
   "cell_type": "code",
   "execution_count": 5,
   "id": "c77e543f",
   "metadata": {},
   "outputs": [
    {
     "data": {
      "text/plain": [
       "'2.2.0'"
      ]
     },
     "execution_count": 5,
     "metadata": {},
     "output_type": "execute_result"
    }
   ],
   "source": [
    "tf.__version__"
   ]
  },
  {
   "cell_type": "code",
   "execution_count": 6,
   "id": "characteristic-military",
   "metadata": {},
   "outputs": [],
   "source": [
    "# import os\n",
    "# os.environ['KMP_DUPLICATE_LIB_OK']='True'"
   ]
  },
  {
   "cell_type": "code",
   "execution_count": 7,
   "id": "outer-maximum",
   "metadata": {},
   "outputs": [],
   "source": [
    "# import zipfile\n",
    "# path = r'C:\\Users\\divya\\PycharmProjects\\Applied_ai\\transfer_learning\\aaic-assignment-tl.zip'\n",
    "# unzip_path = r'C:\\Users\\divya\\PycharmProjects\\Applied_ai\\transfer_learning\\aaic-assignment-tl'\n",
    "# with zipfile.ZipFile(path, 'r') as zip_ref:\n",
    "#     zip_ref.extractall(unzip_path)"
   ]
  },
  {
   "cell_type": "code",
   "execution_count": 8,
   "id": "renewable-logan",
   "metadata": {},
   "outputs": [
    {
     "data": {
      "text/plain": [
       "'C:\\\\Users\\\\divya\\\\PycharmProjects\\\\Applied_ai\\\\transfer_learning'"
      ]
     },
     "execution_count": 8,
     "metadata": {},
     "output_type": "execute_result"
    }
   ],
   "source": [
    "import os\n",
    "os.getcwd()"
   ]
  },
  {
   "cell_type": "code",
   "execution_count": 2,
   "id": "prostate-waste",
   "metadata": {},
   "outputs": [],
   "source": [
    "df = pd.read_csv(r'labels_final.csv',dtype=str)"
   ]
  },
  {
   "cell_type": "code",
   "execution_count": 3,
   "id": "potential-australia",
   "metadata": {},
   "outputs": [
    {
     "data": {
      "text/html": [
       "<div>\n",
       "<style scoped>\n",
       "    .dataframe tbody tr th:only-of-type {\n",
       "        vertical-align: middle;\n",
       "    }\n",
       "\n",
       "    .dataframe tbody tr th {\n",
       "        vertical-align: top;\n",
       "    }\n",
       "\n",
       "    .dataframe thead th {\n",
       "        text-align: right;\n",
       "    }\n",
       "</style>\n",
       "<table border=\"1\" class=\"dataframe\">\n",
       "  <thead>\n",
       "    <tr style=\"text-align: right;\">\n",
       "      <th></th>\n",
       "      <th>path</th>\n",
       "      <th>label</th>\n",
       "    </tr>\n",
       "  </thead>\n",
       "  <tbody>\n",
       "    <tr>\n",
       "      <th>0</th>\n",
       "      <td>imagesv/v/o/h/voh71d00/509132755+-2755.tif</td>\n",
       "      <td>3</td>\n",
       "    </tr>\n",
       "    <tr>\n",
       "      <th>1</th>\n",
       "      <td>imagesl/l/x/t/lxt19d00/502213303.tif</td>\n",
       "      <td>3</td>\n",
       "    </tr>\n",
       "    <tr>\n",
       "      <th>2</th>\n",
       "      <td>imagesx/x/e/d/xed05a00/2075325674.tif</td>\n",
       "      <td>2</td>\n",
       "    </tr>\n",
       "    <tr>\n",
       "      <th>3</th>\n",
       "      <td>imageso/o/j/b/ojb60d00/517511301+-1301.tif</td>\n",
       "      <td>3</td>\n",
       "    </tr>\n",
       "    <tr>\n",
       "      <th>4</th>\n",
       "      <td>imagesq/q/z/k/qzk17e00/2031320195.tif</td>\n",
       "      <td>7</td>\n",
       "    </tr>\n",
       "  </tbody>\n",
       "</table>\n",
       "</div>"
      ],
      "text/plain": [
       "                                         path label\n",
       "0  imagesv/v/o/h/voh71d00/509132755+-2755.tif     3\n",
       "1        imagesl/l/x/t/lxt19d00/502213303.tif     3\n",
       "2       imagesx/x/e/d/xed05a00/2075325674.tif     2\n",
       "3  imageso/o/j/b/ojb60d00/517511301+-1301.tif     3\n",
       "4       imagesq/q/z/k/qzk17e00/2031320195.tif     7"
      ]
     },
     "execution_count": 3,
     "metadata": {},
     "output_type": "execute_result"
    }
   ],
   "source": [
    "df.head()"
   ]
  },
  {
   "cell_type": "code",
   "execution_count": 4,
   "id": "floppy-calvin",
   "metadata": {},
   "outputs": [],
   "source": [
    "data_gen = ImageDataGenerator(rescale=1/255., validation_split=0.25)"
   ]
  },
  {
   "cell_type": "code",
   "execution_count": 5,
   "id": "consecutive-analysis",
   "metadata": {},
   "outputs": [
    {
     "name": "stdout",
     "output_type": "stream",
     "text": [
      "Found 36000 validated image filenames belonging to 16 classes.\n"
     ]
    }
   ],
   "source": [
    "colnames=['path', 'label'] \n",
    "train_data = data_gen.flow_from_dataframe(dataframe=df, directory=\"./aaic-assignment-tl/data_final\", x_col=colnames[0], y_col=colnames[1], \n",
    "                                          class_mode=\"categorical\", target_size=(256,256), batch_size=32, subset='training', seed = 9)"
   ]
  },
  {
   "cell_type": "code",
   "execution_count": 6,
   "id": "patent-beast",
   "metadata": {},
   "outputs": [
    {
     "name": "stdout",
     "output_type": "stream",
     "text": [
      "Found 12000 validated image filenames belonging to 16 classes.\n"
     ]
    }
   ],
   "source": [
    "validation_data = data_gen.flow_from_dataframe(dataframe=df, directory=\"./aaic-assignment-tl/data_final\", x_col=colnames[0], y_col=colnames[1], \n",
    "                                          class_mode=\"categorical\", target_size=(256,256), batch_size=32, subset='validation', seed = 9)"
   ]
  },
  {
   "cell_type": "code",
   "execution_count": 7,
   "id": "waiting-myanmar",
   "metadata": {},
   "outputs": [],
   "source": [
    "import tensorflow as tf\n",
    "# import keras\n",
    "from tensorflow.keras.applications.vgg16 import VGG16\n",
    "def model_1(input_shape = (256,256,3), n_classes = 16):\n",
    "  # X_input = Input(input_shape)\n",
    "    vgg = VGG16(weights='imagenet', include_top=False, input_shape= input_shape)\n",
    "    for layer in vgg.layers:\n",
    "        layer.trainable = False\n",
    "    vgg_out = vgg.layers[-1].output\n",
    "    x = Conv2D(filters=8,kernel_size=(3,3),padding=\"same\",strides=2, activation=\"relu\")(vgg_out)\n",
    "    x = MaxPool2D(pool_size=(2,2))(x)\n",
    "    x = Flatten()(x)\n",
    "    x = Dense(64, activation = 'relu')(x)\n",
    "    x = Dense(32, activation = 'relu')(x)\n",
    "    output = Dense(n_classes, activation = 'softmax')(x)\n",
    "    model = Model(inputs=vgg.input, outputs=output)\n",
    "    return model\n"
   ]
  },
  {
   "cell_type": "code",
   "execution_count": 16,
   "id": "daily-transparency",
   "metadata": {},
   "outputs": [
    {
     "name": "stdout",
     "output_type": "stream",
     "text": [
      "Model: \"model\"\n",
      "_________________________________________________________________\n",
      "Layer (type)                 Output Shape              Param #   \n",
      "=================================================================\n",
      "input_1 (InputLayer)         [(None, 256, 256, 3)]     0         \n",
      "_________________________________________________________________\n",
      "block1_conv1 (Conv2D)        (None, 256, 256, 64)      1792      \n",
      "_________________________________________________________________\n",
      "block1_conv2 (Conv2D)        (None, 256, 256, 64)      36928     \n",
      "_________________________________________________________________\n",
      "block1_pool (MaxPooling2D)   (None, 128, 128, 64)      0         \n",
      "_________________________________________________________________\n",
      "block2_conv1 (Conv2D)        (None, 128, 128, 128)     73856     \n",
      "_________________________________________________________________\n",
      "block2_conv2 (Conv2D)        (None, 128, 128, 128)     147584    \n",
      "_________________________________________________________________\n",
      "block2_pool (MaxPooling2D)   (None, 64, 64, 128)       0         \n",
      "_________________________________________________________________\n",
      "block3_conv1 (Conv2D)        (None, 64, 64, 256)       295168    \n",
      "_________________________________________________________________\n",
      "block3_conv2 (Conv2D)        (None, 64, 64, 256)       590080    \n",
      "_________________________________________________________________\n",
      "block3_conv3 (Conv2D)        (None, 64, 64, 256)       590080    \n",
      "_________________________________________________________________\n",
      "block3_pool (MaxPooling2D)   (None, 32, 32, 256)       0         \n",
      "_________________________________________________________________\n",
      "block4_conv1 (Conv2D)        (None, 32, 32, 512)       1180160   \n",
      "_________________________________________________________________\n",
      "block4_conv2 (Conv2D)        (None, 32, 32, 512)       2359808   \n",
      "_________________________________________________________________\n",
      "block4_conv3 (Conv2D)        (None, 32, 32, 512)       2359808   \n",
      "_________________________________________________________________\n",
      "block4_pool (MaxPooling2D)   (None, 16, 16, 512)       0         \n",
      "_________________________________________________________________\n",
      "block5_conv1 (Conv2D)        (None, 16, 16, 512)       2359808   \n",
      "_________________________________________________________________\n",
      "block5_conv2 (Conv2D)        (None, 16, 16, 512)       2359808   \n",
      "_________________________________________________________________\n",
      "block5_conv3 (Conv2D)        (None, 16, 16, 512)       2359808   \n",
      "_________________________________________________________________\n",
      "block5_pool (MaxPooling2D)   (None, 8, 8, 512)         0         \n",
      "_________________________________________________________________\n",
      "conv2d (Conv2D)              (None, 4, 4, 8)           36872     \n",
      "_________________________________________________________________\n",
      "max_pooling2d (MaxPooling2D) (None, 2, 2, 8)           0         \n",
      "_________________________________________________________________\n",
      "flatten (Flatten)            (None, 32)                0         \n",
      "_________________________________________________________________\n",
      "dense (Dense)                (None, 64)                2112      \n",
      "_________________________________________________________________\n",
      "dense_1 (Dense)              (None, 32)                2080      \n",
      "_________________________________________________________________\n",
      "dense_2 (Dense)              (None, 16)                528       \n",
      "=================================================================\n",
      "Total params: 14,756,280\n",
      "Trainable params: 41,592\n",
      "Non-trainable params: 14,714,688\n",
      "_________________________________________________________________\n",
      "None\n"
     ]
    }
   ],
   "source": [
    "model_1 = model_1(input_shape = (256,256,3), n_classes = 16)\n",
    "print(model_1.summary())"
   ]
  },
  {
   "cell_type": "code",
   "execution_count": 17,
   "id": "durable-celtic",
   "metadata": {},
   "outputs": [],
   "source": [
    "model_1.compile(loss = \"categorical_crossentropy\", optimizer ='Adam', metrics=[\"accuracy\"])"
   ]
  },
  {
   "cell_type": "code",
   "execution_count": 18,
   "id": "roman-nursing",
   "metadata": {},
   "outputs": [],
   "source": [
    "batch_size = 32\n",
    "train_steps = train_data.samples // batch_size\n",
    "val_steps = validation_data.samples // batch_size"
   ]
  },
  {
   "cell_type": "code",
   "execution_count": null,
   "id": "communist-jersey",
   "metadata": {},
   "outputs": [
    {
     "name": "stdout",
     "output_type": "stream",
     "text": [
      "Epoch 1/20\n",
      "1125/1125 [==============================] - 716s 637ms/step - loss: 1.6358 - accuracy: 0.4869 - val_loss: 1.3520 - val_accuracy: 0.5860\n",
      "Epoch 2/20\n",
      "1125/1125 [==============================] - 678s 602ms/step - loss: 1.2390 - accuracy: 0.6182 - val_loss: 1.2294 - val_accuracy: 0.6248\n",
      "Epoch 3/20\n",
      "1125/1125 [==============================] - 555s 493ms/step - loss: 1.1168 - accuracy: 0.6562 - val_loss: 1.1428 - val_accuracy: 0.6546\n",
      "Epoch 4/20\n",
      "1125/1125 [==============================] - 556s 494ms/step - loss: 1.0344 - accuracy: 0.6812 - val_loss: 1.1269 - val_accuracy: 0.6646\n",
      "Epoch 5/20\n",
      "1125/1125 [==============================] - 553s 492ms/step - loss: 0.9748 - accuracy: 0.6998 - val_loss: 1.1122 - val_accuracy: 0.6690\n",
      "Epoch 6/20\n",
      "1125/1125 [==============================] - 545s 484ms/step - loss: 0.9265 - accuracy: 0.7160 - val_loss: 1.1220 - val_accuracy: 0.6728\n",
      "Epoch 7/20\n",
      "1125/1125 [==============================] - 539s 479ms/step - loss: 0.8836 - accuracy: 0.7275 - val_loss: 1.1622 - val_accuracy: 0.6575\n",
      "Epoch 8/20\n",
      "1125/1125 [==============================] - 538s 478ms/step - loss: 0.8499 - accuracy: 0.7378 - val_loss: 1.0960 - val_accuracy: 0.6808\n",
      "Epoch 9/20\n",
      "1125/1125 [==============================] - 537s 477ms/step - loss: 0.8205 - accuracy: 0.7460 - val_loss: 1.1337 - val_accuracy: 0.6764\n",
      "Epoch 10/20\n",
      "1125/1125 [==============================] - 536s 476ms/step - loss: 0.7984 - accuracy: 0.7530 - val_loss: 1.1273 - val_accuracy: 0.6767\n",
      "Epoch 11/20\n",
      "1125/1125 [==============================] - 538s 478ms/step - loss: 0.7685 - accuracy: 0.7611 - val_loss: 1.1309 - val_accuracy: 0.6758\n",
      "Epoch 12/20\n",
      "1125/1125 [==============================] - 537s 477ms/step - loss: 0.7502 - accuracy: 0.7655 - val_loss: 1.1083 - val_accuracy: 0.6823\n",
      "Epoch 13/20\n",
      "1125/1125 [==============================] - 536s 477ms/step - loss: 0.7244 - accuracy: 0.7719 - val_loss: 1.1052 - val_accuracy: 0.6914\n",
      "Epoch 14/20\n",
      "1125/1125 [==============================] - 535s 476ms/step - loss: 0.7095 - accuracy: 0.7784 - val_loss: 1.1516 - val_accuracy: 0.6762\n",
      "Epoch 15/20\n",
      "1125/1125 [==============================] - 536s 477ms/step - loss: 0.6927 - accuracy: 0.7836 - val_loss: 1.1440 - val_accuracy: 0.6800\n",
      "Epoch 16/20\n",
      "1125/1125 [==============================] - 534s 475ms/step - loss: 0.6775 - accuracy: 0.7879 - val_loss: 1.1540 - val_accuracy: 0.6858\n",
      "Epoch 17/20\n",
      "1125/1125 [==============================] - 536s 476ms/step - loss: 0.6630 - accuracy: 0.7910 - val_loss: 1.1686 - val_accuracy: 0.6754\n",
      "Epoch 18/20\n",
      "1125/1125 [==============================] - 534s 475ms/step - loss: 0.6505 - accuracy: 0.7958 - val_loss: 1.1714 - val_accuracy: 0.6782\n",
      "Epoch 19/20\n",
      "1125/1125 [==============================] - 533s 474ms/step - loss: 0.6376 - accuracy: 0.8002 - val_loss: 1.2473 - val_accuracy: 0.6700\n",
      "Epoch 20/20\n",
      "1125/1125 [==============================] - ETA: 0s - loss: 0.6216 - accuracy: 0.8068"
     ]
    }
   ],
   "source": [
    "history = model_1.fit(train_data,steps_per_epoch=train_steps, epochs=20,\n",
    "                              validation_data=validation_data,validation_steps=val_steps)"
   ]
  },
  {
   "cell_type": "code",
   "execution_count": null,
   "id": "d47c5201",
   "metadata": {},
   "outputs": [],
   "source": [
    "loss_train = history.history['acc']\n",
    "loss_val = history.history['val_acc']\n",
    "epochs = range(epochs)\n",
    "plt.plot(epochs, loss_train, 'g', label='Training accuracy')\n",
    "plt.plot(epochs, loss_val, 'b', label='validation accuracy')\n",
    "plt.title('Training and Validation accuracy')\n",
    "plt.xlabel('Epochs')\n",
    "plt.ylabel('Accuracy')\n",
    "plt.legend()\n",
    "plt.title(\"Accuracy of Model 1\")\n",
    "plt.show()"
   ]
  },
  {
   "cell_type": "code",
   "execution_count": null,
   "id": "3f93286f",
   "metadata": {},
   "outputs": [],
   "source": [
    "tf.keras.utils.plot_model(model_1, to_file='model_1.png')"
   ]
  },
  {
   "cell_type": "code",
   "execution_count": null,
   "id": "serial-liability",
   "metadata": {},
   "outputs": [],
   "source": [
    "def model_2(input_shape = (256,256,3), n_classes = 16):\n",
    "  # X_input = Input(input_shape)\n",
    "    vgg = VGG16(weights='imagenet', include_top=False, input_shape= input_shape)\n",
    "    for layer in vgg.layers:\n",
    "        layer.trainable = False\n",
    "    vgg_out = vgg.layers[-1].output\n",
    "    x = Conv2D(filters=4096,kernel_size=8,padding=\"same\",strides=1, activation=\"relu\")(vgg_out)\n",
    "    x = Conv2D(filters=4096,kernel_size=1,padding=\"same\",strides=1, activation=\"relu\")(x)\n",
    "    x = MaxPool2D(pool_size=(2,2))(x)\n",
    "    x = Flatten()(x)\n",
    "    output = Dense(n_classes, activation = 'softmax')(x)\n",
    "    model = Model(inputs=vgg.input, outputs=output)\n",
    "    return model"
   ]
  },
  {
   "cell_type": "code",
   "execution_count": null,
   "id": "10e71616",
   "metadata": {},
   "outputs": [],
   "source": [
    "model_2 = model_2(input_shape = (256,256,3), n_classes = 16)\n",
    "print(model_2.summary())"
   ]
  },
  {
   "cell_type": "code",
   "execution_count": null,
   "id": "51d8a126",
   "metadata": {},
   "outputs": [],
   "source": [
    "model_2.compile(loss = \"categorical_crossentropy\", optimizer ='Adam', metrics=[\"accuracy\"])\n",
    "history = model_2.fit(train_data,steps_per_epoch=train_steps, epochs=20,\n",
    "                              validation_data=validation_data,validation_steps=val_steps)"
   ]
  },
  {
   "cell_type": "code",
   "execution_count": null,
   "id": "7d057f86",
   "metadata": {},
   "outputs": [],
   "source": [
    "loss_train = history.history['acc']\n",
    "loss_val = history.history['val_acc']\n",
    "epochs = range(epochs)\n",
    "plt.plot(epochs, loss_train, 'g', label='Training accuracy')\n",
    "plt.plot(epochs, loss_val, 'b', label='validation accuracy')\n",
    "plt.title('Training and Validation accuracy')\n",
    "plt.xlabel('Epochs')\n",
    "plt.ylabel('Accuracy')\n",
    "plt.legend()\n",
    "plt.title(\"Accuracy of Model 1\")\n",
    "plt.show()"
   ]
  },
  {
   "cell_type": "code",
   "execution_count": null,
   "id": "591f3b2e",
   "metadata": {},
   "outputs": [],
   "source": [
    "tf.keras.utils.plot_model(model_2, to_file='model_2.png')"
   ]
  },
  {
   "cell_type": "code",
   "execution_count": 8,
   "id": "d13f92f4",
   "metadata": {},
   "outputs": [],
   "source": [
    "def model_3(input_shape = (256,256,3), n_classes = 16):\n",
    "  # X_input = Input(input_shape)\n",
    "    vgg = VGG16(weights='imagenet', include_top=False, input_shape= input_shape)\n",
    "    for layer in vgg.layers[-6:]:\n",
    "        layer.trainable = True\n",
    "    vgg_out = vgg.layers[-1].output\n",
    "    x = Conv2D(filters=4096,kernel_size=8,padding=\"same\",strides=1, activation=\"relu\")(vgg_out)\n",
    "    x = Conv2D(filters=4096,kernel_size=1,padding=\"same\",strides=1, activation=\"relu\")(x)\n",
    "    x = MaxPool2D(pool_size=(2,2))(x)\n",
    "    x = Flatten()(x)\n",
    "    output = Dense(n_classes, activation = 'softmax')(x)\n",
    "    model = Model(inputs=vgg.input, outputs=output)\n",
    "    return model"
   ]
  },
  {
   "cell_type": "code",
   "execution_count": null,
   "id": "b06757e5",
   "metadata": {},
   "outputs": [],
   "source": [
    "model_3 = model_3(input_shape = (256,256,3), n_classes = 16)\n",
    "print(model_3.summary())"
   ]
  },
  {
   "cell_type": "code",
   "execution_count": null,
   "id": "6ed4a5a0",
   "metadata": {},
   "outputs": [],
   "source": [
    "model_3.compile(loss = \"categorical_crossentropy\", optimizer ='Adam', metrics=[\"accuracy\"])\n",
    "history = model_3.fit(train_data,steps_per_epoch=train_steps, epochs=20,\n",
    "                              validation_data=validation_data,validation_steps=val_steps)"
   ]
  },
  {
   "cell_type": "code",
   "execution_count": null,
   "id": "f0bcf861",
   "metadata": {},
   "outputs": [],
   "source": [
    "loss_train = history.history['acc']\n",
    "loss_val = history.history['val_acc']\n",
    "epochs = range(epochs)\n",
    "plt.plot(epochs, loss_train, 'g', label='Training accuracy')\n",
    "plt.plot(epochs, loss_val, 'b', label='validation accuracy')\n",
    "plt.title('Training and Validation accuracy')\n",
    "plt.xlabel('Epochs')\n",
    "plt.ylabel('Accuracy')\n",
    "plt.legend()\n",
    "plt.title(\"Accuracy of Model 1\")\n",
    "plt.show()"
   ]
  },
  {
   "cell_type": "code",
   "execution_count": null,
   "id": "bfd2215b",
   "metadata": {},
   "outputs": [],
   "source": [
    "tf.keras.utils.plot_model(model_3, to_file='model_3.png')"
   ]
  },
  {
   "cell_type": "code",
   "execution_count": null,
   "id": "6ea01bdb",
   "metadata": {},
   "outputs": [],
   "source": []
  },
  {
   "cell_type": "code",
   "execution_count": null,
   "id": "92296a48",
   "metadata": {},
   "outputs": [],
   "source": []
  }
 ],
 "metadata": {
  "kernelspec": {
   "display_name": "Python 3 (ipykernel)",
   "language": "python",
   "name": "python3"
  },
  "language_info": {
   "codemirror_mode": {
    "name": "ipython",
    "version": 3
   },
   "file_extension": ".py",
   "mimetype": "text/x-python",
   "name": "python",
   "nbconvert_exporter": "python",
   "pygments_lexer": "ipython3",
   "version": "3.7.13"
  }
 },
 "nbformat": 4,
 "nbformat_minor": 5
}
