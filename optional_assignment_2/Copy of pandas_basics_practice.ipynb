{
 "cells": [
  {
   "cell_type": "markdown",
   "metadata": {
    "id": "WFYuAxS2hcu6"
   },
   "source": [
    "**Consider the following Python dictionary data and Python list labels:**\n",
    "\n",
    "data = {'birds': ['Cranes', 'Cranes', 'plovers', 'spoonbills', 'spoonbills', 'Cranes', 'plovers', 'Cranes', 'spoonbills', 'spoonbills'],\n",
    "        'age': [3.5, 4, 1.5, np.nan, 6, 3, 5.5, np.nan, 8, 4],\n",
    "        'visits': [2, 4, 3, 4, 3, 4, 2, 2, 3, 2],\n",
    "        'priority': ['yes', 'yes', 'no', 'yes', 'no', 'no', 'no', 'yes', 'no', 'no']}\n",
    "\n",
    "labels = ['a', 'b', 'c', 'd', 'e', 'f', 'g', 'h', 'i', 'j']\n"
   ]
  },
  {
   "cell_type": "markdown",
   "metadata": {
    "id": "KaY8jRX3hcu9"
   },
   "source": [
    "**1. Create a DataFrame birds from this dictionary data which has the index labels.**"
   ]
  },
  {
   "cell_type": "code",
   "execution_count": 21,
   "metadata": {
    "colab": {
     "base_uri": "https://localhost:8080/",
     "height": 363
    },
    "executionInfo": {
     "elapsed": 399,
     "status": "ok",
     "timestamp": 1637922714421,
     "user": {
      "displayName": "Divyansh Rajput",
      "photoUrl": "https://lh3.googleusercontent.com/a/default-user=s64",
      "userId": "15087616457252387846"
     },
     "user_tz": -330
    },
    "id": "AWrM74tnhcu_",
    "outputId": "4365326f-11d9-4d4e-85c6-c5ac61694388"
   },
   "outputs": [
    {
     "data": {
      "text/html": [
       "<div>\n",
       "<style scoped>\n",
       "    .dataframe tbody tr th:only-of-type {\n",
       "        vertical-align: middle;\n",
       "    }\n",
       "\n",
       "    .dataframe tbody tr th {\n",
       "        vertical-align: top;\n",
       "    }\n",
       "\n",
       "    .dataframe thead th {\n",
       "        text-align: right;\n",
       "    }\n",
       "</style>\n",
       "<table border=\"1\" class=\"dataframe\">\n",
       "  <thead>\n",
       "    <tr style=\"text-align: right;\">\n",
       "      <th></th>\n",
       "      <th>birds</th>\n",
       "      <th>age</th>\n",
       "      <th>visits</th>\n",
       "      <th>priority</th>\n",
       "    </tr>\n",
       "  </thead>\n",
       "  <tbody>\n",
       "    <tr>\n",
       "      <th>a</th>\n",
       "      <td>Cranes</td>\n",
       "      <td>3.5</td>\n",
       "      <td>2</td>\n",
       "      <td>yes</td>\n",
       "    </tr>\n",
       "    <tr>\n",
       "      <th>b</th>\n",
       "      <td>Cranes</td>\n",
       "      <td>4.0</td>\n",
       "      <td>4</td>\n",
       "      <td>yes</td>\n",
       "    </tr>\n",
       "    <tr>\n",
       "      <th>c</th>\n",
       "      <td>plovers</td>\n",
       "      <td>1.5</td>\n",
       "      <td>3</td>\n",
       "      <td>no</td>\n",
       "    </tr>\n",
       "    <tr>\n",
       "      <th>d</th>\n",
       "      <td>spoonbills</td>\n",
       "      <td>NaN</td>\n",
       "      <td>4</td>\n",
       "      <td>yes</td>\n",
       "    </tr>\n",
       "    <tr>\n",
       "      <th>e</th>\n",
       "      <td>spoonbills</td>\n",
       "      <td>6.0</td>\n",
       "      <td>3</td>\n",
       "      <td>no</td>\n",
       "    </tr>\n",
       "    <tr>\n",
       "      <th>f</th>\n",
       "      <td>Cranes</td>\n",
       "      <td>3.0</td>\n",
       "      <td>4</td>\n",
       "      <td>no</td>\n",
       "    </tr>\n",
       "    <tr>\n",
       "      <th>g</th>\n",
       "      <td>plovers</td>\n",
       "      <td>5.5</td>\n",
       "      <td>2</td>\n",
       "      <td>no</td>\n",
       "    </tr>\n",
       "    <tr>\n",
       "      <th>h</th>\n",
       "      <td>Cranes</td>\n",
       "      <td>NaN</td>\n",
       "      <td>2</td>\n",
       "      <td>yes</td>\n",
       "    </tr>\n",
       "    <tr>\n",
       "      <th>i</th>\n",
       "      <td>spoonbills</td>\n",
       "      <td>8.0</td>\n",
       "      <td>3</td>\n",
       "      <td>no</td>\n",
       "    </tr>\n",
       "    <tr>\n",
       "      <th>j</th>\n",
       "      <td>spoonbills</td>\n",
       "      <td>4.0</td>\n",
       "      <td>2</td>\n",
       "      <td>no</td>\n",
       "    </tr>\n",
       "  </tbody>\n",
       "</table>\n",
       "</div>"
      ],
      "text/plain": [
       "        birds  age  visits priority\n",
       "a      Cranes  3.5       2      yes\n",
       "b      Cranes  4.0       4      yes\n",
       "c     plovers  1.5       3       no\n",
       "d  spoonbills  NaN       4      yes\n",
       "e  spoonbills  6.0       3       no\n",
       "f      Cranes  3.0       4       no\n",
       "g     plovers  5.5       2       no\n",
       "h      Cranes  NaN       2      yes\n",
       "i  spoonbills  8.0       3       no\n",
       "j  spoonbills  4.0       2       no"
      ]
     },
     "execution_count": 21,
     "metadata": {},
     "output_type": "execute_result"
    }
   ],
   "source": [
    "import numpy as np\n",
    "import pandas as pd\n",
    "data = {'birds': ['Cranes', 'Cranes', 'plovers', 'spoonbills', 'spoonbills', 'Cranes', 'plovers', 'Cranes', 'spoonbills', 'spoonbills'], 'age': [3.5, 4, 1.5, np.nan, 6, 3, 5.5, np.nan, 8, 4], 'visits': [2, 4, 3, 4, 3, 4, 2, 2, 3, 2], 'priority': ['yes', 'yes', 'no', 'yes', 'no', 'no', 'no', 'yes', 'no', 'no']}\n",
    "birds= pd.DataFrame(data=data,index=['a', 'b', 'c', 'd', 'e', 'f', 'g', 'h', 'i', 'j'])\n",
    "birds"
   ]
  },
  {
   "cell_type": "markdown",
   "metadata": {
    "id": "31bQ4H55hcvG"
   },
   "source": [
    "**2. Display a summary of the basic information about birds DataFrame and its data.**"
   ]
  },
  {
   "cell_type": "code",
   "execution_count": 3,
   "metadata": {
    "colab": {
     "base_uri": "https://localhost:8080/",
     "height": 300
    },
    "executionInfo": {
     "elapsed": 9,
     "status": "ok",
     "timestamp": 1637922154019,
     "user": {
      "displayName": "Divyansh Rajput",
      "photoUrl": "https://lh3.googleusercontent.com/a/default-user=s64",
      "userId": "15087616457252387846"
     },
     "user_tz": -330
    },
    "id": "PT7e5BiThcvI",
    "outputId": "8670d757-80f9-486b-d4a0-57b7b1f53048"
   },
   "outputs": [
    {
     "data": {
      "text/html": [
       "<div>\n",
       "<style scoped>\n",
       "    .dataframe tbody tr th:only-of-type {\n",
       "        vertical-align: middle;\n",
       "    }\n",
       "\n",
       "    .dataframe tbody tr th {\n",
       "        vertical-align: top;\n",
       "    }\n",
       "\n",
       "    .dataframe thead th {\n",
       "        text-align: right;\n",
       "    }\n",
       "</style>\n",
       "<table border=\"1\" class=\"dataframe\">\n",
       "  <thead>\n",
       "    <tr style=\"text-align: right;\">\n",
       "      <th></th>\n",
       "      <th>age</th>\n",
       "      <th>visits</th>\n",
       "    </tr>\n",
       "  </thead>\n",
       "  <tbody>\n",
       "    <tr>\n",
       "      <th>count</th>\n",
       "      <td>8.000000</td>\n",
       "      <td>10.000000</td>\n",
       "    </tr>\n",
       "    <tr>\n",
       "      <th>mean</th>\n",
       "      <td>4.437500</td>\n",
       "      <td>2.900000</td>\n",
       "    </tr>\n",
       "    <tr>\n",
       "      <th>std</th>\n",
       "      <td>2.007797</td>\n",
       "      <td>0.875595</td>\n",
       "    </tr>\n",
       "    <tr>\n",
       "      <th>min</th>\n",
       "      <td>1.500000</td>\n",
       "      <td>2.000000</td>\n",
       "    </tr>\n",
       "    <tr>\n",
       "      <th>25%</th>\n",
       "      <td>3.375000</td>\n",
       "      <td>2.000000</td>\n",
       "    </tr>\n",
       "    <tr>\n",
       "      <th>50%</th>\n",
       "      <td>4.000000</td>\n",
       "      <td>3.000000</td>\n",
       "    </tr>\n",
       "    <tr>\n",
       "      <th>75%</th>\n",
       "      <td>5.625000</td>\n",
       "      <td>3.750000</td>\n",
       "    </tr>\n",
       "    <tr>\n",
       "      <th>max</th>\n",
       "      <td>8.000000</td>\n",
       "      <td>4.000000</td>\n",
       "    </tr>\n",
       "  </tbody>\n",
       "</table>\n",
       "</div>"
      ],
      "text/plain": [
       "            age     visits\n",
       "count  8.000000  10.000000\n",
       "mean   4.437500   2.900000\n",
       "std    2.007797   0.875595\n",
       "min    1.500000   2.000000\n",
       "25%    3.375000   2.000000\n",
       "50%    4.000000   3.000000\n",
       "75%    5.625000   3.750000\n",
       "max    8.000000   4.000000"
      ]
     },
     "execution_count": 3,
     "metadata": {},
     "output_type": "execute_result"
    }
   ],
   "source": [
    "birds.describe()"
   ]
  },
  {
   "cell_type": "markdown",
   "metadata": {
    "id": "ppsyynzjhcvN"
   },
   "source": [
    "**3. Print the first 2 rows of the birds dataframe **"
   ]
  },
  {
   "cell_type": "code",
   "execution_count": 4,
   "metadata": {
    "colab": {
     "base_uri": "https://localhost:8080/",
     "height": 0
    },
    "executionInfo": {
     "elapsed": 537,
     "status": "ok",
     "timestamp": 1637922154548,
     "user": {
      "displayName": "Divyansh Rajput",
      "photoUrl": "https://lh3.googleusercontent.com/a/default-user=s64",
      "userId": "15087616457252387846"
     },
     "user_tz": -330
    },
    "id": "mJtG2ES9hcvQ",
    "outputId": "3e3421c4-d3c9-405f-a61a-f5804a0338f0"
   },
   "outputs": [
    {
     "name": "stdout",
     "output_type": "stream",
     "text": [
      "    birds  age  visits priority\n",
      "a  Cranes  3.5       2      yes\n",
      "b  Cranes  4.0       4      yes\n"
     ]
    }
   ],
   "source": [
    "print(birds.head(n=2))"
   ]
  },
  {
   "cell_type": "markdown",
   "metadata": {
    "id": "331CiAQDhcvW"
   },
   "source": [
    "**4. Print all the rows with only 'birds' and 'age' columns from the dataframe**"
   ]
  },
  {
   "cell_type": "code",
   "execution_count": 5,
   "metadata": {
    "colab": {
     "base_uri": "https://localhost:8080/",
     "height": 0
    },
    "executionInfo": {
     "elapsed": 25,
     "status": "ok",
     "timestamp": 1637922154549,
     "user": {
      "displayName": "Divyansh Rajput",
      "photoUrl": "https://lh3.googleusercontent.com/a/default-user=s64",
      "userId": "15087616457252387846"
     },
     "user_tz": -330
    },
    "id": "eJm1icJhhcvY",
    "outputId": "7a5e785e-c874-4bbe-c294-3b1dcc00648e"
   },
   "outputs": [
    {
     "name": "stdout",
     "output_type": "stream",
     "text": [
      "        birds  age\n",
      "a      Cranes  3.5\n",
      "b      Cranes  4.0\n",
      "c     plovers  1.5\n",
      "d  spoonbills  NaN\n",
      "e  spoonbills  6.0\n",
      "f      Cranes  3.0\n",
      "g     plovers  5.5\n",
      "h      Cranes  NaN\n",
      "i  spoonbills  8.0\n",
      "j  spoonbills  4.0\n"
     ]
    }
   ],
   "source": [
    "print(birds[['birds','age']])"
   ]
  },
  {
   "cell_type": "markdown",
   "metadata": {
    "id": "33v_rzNyhcvf"
   },
   "source": [
    "**5. select [2, 3, 7] rows and in columns ['birds', 'age', 'visits']**"
   ]
  },
  {
   "cell_type": "code",
   "execution_count": 6,
   "metadata": {
    "colab": {
     "base_uri": "https://localhost:8080/",
     "height": 0
    },
    "executionInfo": {
     "elapsed": 24,
     "status": "ok",
     "timestamp": 1637922154550,
     "user": {
      "displayName": "Divyansh Rajput",
      "photoUrl": "https://lh3.googleusercontent.com/a/default-user=s64",
      "userId": "15087616457252387846"
     },
     "user_tz": -330
    },
    "id": "ia5weqCOhcvh",
    "outputId": "a35412fc-6755-4610-c6a0-63e420c2dc4c"
   },
   "outputs": [
    {
     "name": "stdout",
     "output_type": "stream",
     "text": [
      "birds     plovers\n",
      "age           1.5\n",
      "visits          3\n",
      "Name: c, dtype: object\n",
      "birds     spoonbills\n",
      "age              NaN\n",
      "visits             4\n",
      "Name: d, dtype: object\n",
      "birds     Cranes\n",
      "age          NaN\n",
      "visits         2\n",
      "Name: h, dtype: object\n"
     ]
    }
   ],
   "source": [
    "df= birds[['birds', 'age', 'visits']]\n",
    "\n",
    "for i in [2,3,7]:\n",
    "  print(df.iloc[i])"
   ]
  },
  {
   "cell_type": "markdown",
   "metadata": {
    "id": "uulxo5y-hcvo"
   },
   "source": [
    "**6. select the rows where the number of visits is less than 4**"
   ]
  },
  {
   "cell_type": "code",
   "execution_count": 7,
   "metadata": {
    "colab": {
     "base_uri": "https://localhost:8080/",
     "height": 0
    },
    "executionInfo": {
     "elapsed": 24,
     "status": "ok",
     "timestamp": 1637922154551,
     "user": {
      "displayName": "Divyansh Rajput",
      "photoUrl": "https://lh3.googleusercontent.com/a/default-user=s64",
      "userId": "15087616457252387846"
     },
     "user_tz": -330
    },
    "id": "6Khj7LfZhcvq",
    "outputId": "b821f697-4f87-4578-9492-4d4052a6c7a5"
   },
   "outputs": [
    {
     "name": "stdout",
     "output_type": "stream",
     "text": [
      "        birds  age  visits priority\n",
      "a      Cranes  3.5       2      yes\n",
      "c     plovers  1.5       3       no\n",
      "e  spoonbills  6.0       3       no\n",
      "g     plovers  5.5       2       no\n",
      "h      Cranes  NaN       2      yes\n",
      "i  spoonbills  8.0       3       no\n",
      "j  spoonbills  4.0       2       no\n"
     ]
    }
   ],
   "source": [
    "print(birds[birds['visits']<4])"
   ]
  },
  {
   "cell_type": "markdown",
   "metadata": {
    "id": "sB8icEBVhcvy"
   },
   "source": [
    "**7. select the rows with columns ['birds', 'visits'] where the age is missing i.e NaN**"
   ]
  },
  {
   "cell_type": "code",
   "execution_count": 8,
   "metadata": {
    "colab": {
     "base_uri": "https://localhost:8080/",
     "height": 112
    },
    "executionInfo": {
     "elapsed": 23,
     "status": "ok",
     "timestamp": 1637922154552,
     "user": {
      "displayName": "Divyansh Rajput",
      "photoUrl": "https://lh3.googleusercontent.com/a/default-user=s64",
      "userId": "15087616457252387846"
     },
     "user_tz": -330
    },
    "id": "dHoZ2z2ghcv2",
    "outputId": "ddfa2d7a-dfe5-4a05-9f06-55662b93d95d"
   },
   "outputs": [
    {
     "data": {
      "text/html": [
       "<div>\n",
       "<style scoped>\n",
       "    .dataframe tbody tr th:only-of-type {\n",
       "        vertical-align: middle;\n",
       "    }\n",
       "\n",
       "    .dataframe tbody tr th {\n",
       "        vertical-align: top;\n",
       "    }\n",
       "\n",
       "    .dataframe thead th {\n",
       "        text-align: right;\n",
       "    }\n",
       "</style>\n",
       "<table border=\"1\" class=\"dataframe\">\n",
       "  <thead>\n",
       "    <tr style=\"text-align: right;\">\n",
       "      <th></th>\n",
       "      <th>birds</th>\n",
       "      <th>visits</th>\n",
       "    </tr>\n",
       "  </thead>\n",
       "  <tbody>\n",
       "    <tr>\n",
       "      <th>d</th>\n",
       "      <td>spoonbills</td>\n",
       "      <td>4</td>\n",
       "    </tr>\n",
       "    <tr>\n",
       "      <th>h</th>\n",
       "      <td>Cranes</td>\n",
       "      <td>2</td>\n",
       "    </tr>\n",
       "  </tbody>\n",
       "</table>\n",
       "</div>"
      ],
      "text/plain": [
       "        birds  visits\n",
       "d  spoonbills       4\n",
       "h      Cranes       2"
      ]
     },
     "execution_count": 8,
     "metadata": {},
     "output_type": "execute_result"
    }
   ],
   "source": [
    "birds['age'].isnull()\n",
    "birds[birds['age'].isnull()][['birds','visits']]"
   ]
  },
  {
   "cell_type": "markdown",
   "metadata": {
    "id": "sgiIkh1Ghcv-"
   },
   "source": [
    "**8. Select the rows where the birds is a Cranes and the age is less than 4**"
   ]
  },
  {
   "cell_type": "code",
   "execution_count": 9,
   "metadata": {
    "colab": {
     "base_uri": "https://localhost:8080/",
     "height": 0
    },
    "executionInfo": {
     "elapsed": 23,
     "status": "ok",
     "timestamp": 1637922154553,
     "user": {
      "displayName": "Divyansh Rajput",
      "photoUrl": "https://lh3.googleusercontent.com/a/default-user=s64",
      "userId": "15087616457252387846"
     },
     "user_tz": -330
    },
    "id": "4of7A8gehcwC",
    "outputId": "d560578e-9e20-429f-9fff-b1ac55904880"
   },
   "outputs": [
    {
     "name": "stdout",
     "output_type": "stream",
     "text": [
      "    birds  age  visits priority\n",
      "a  Cranes  3.5       2      yes\n",
      "h  Cranes  NaN       2      yes\n"
     ]
    }
   ],
   "source": [
    "print(birds.iloc[np.intersect1d(np.where(birds['birds']=='Cranes'), np.where(birds['visits']<4))])"
   ]
  },
  {
   "cell_type": "markdown",
   "metadata": {
    "id": "IZrFrd1AhcwH"
   },
   "source": [
    "**9. Select the rows the age is between 2 and 4(inclusive)**"
   ]
  },
  {
   "cell_type": "code",
   "execution_count": 10,
   "metadata": {
    "colab": {
     "base_uri": "https://localhost:8080/",
     "height": 0
    },
    "executionInfo": {
     "elapsed": 23,
     "status": "ok",
     "timestamp": 1637922154554,
     "user": {
      "displayName": "Divyansh Rajput",
      "photoUrl": "https://lh3.googleusercontent.com/a/default-user=s64",
      "userId": "15087616457252387846"
     },
     "user_tz": -330
    },
    "id": "Ij6co9oJhcwT",
    "outputId": "b434b4ea-920f-4d35-8913-3bb1658cd247"
   },
   "outputs": [
    {
     "name": "stdout",
     "output_type": "stream",
     "text": [
      "        birds  age  visits priority\n",
      "a      Cranes  3.5       2      yes\n",
      "b      Cranes  4.0       4      yes\n",
      "f      Cranes  3.0       4       no\n",
      "j  spoonbills  4.0       2       no\n"
     ]
    }
   ],
   "source": [
    "print(birds.iloc[np.intersect1d(np.where(birds['age'] <=4),np.where(birds['age'] >=2))])"
   ]
  },
  {
   "cell_type": "markdown",
   "metadata": {
    "id": "KvV1eyyehcwX"
   },
   "source": [
    "**10. Find the total number of visits of the bird Cranes**"
   ]
  },
  {
   "cell_type": "code",
   "execution_count": 11,
   "metadata": {
    "colab": {
     "base_uri": "https://localhost:8080/",
     "height": 0
    },
    "executionInfo": {
     "elapsed": 20,
     "status": "ok",
     "timestamp": 1637922154555,
     "user": {
      "displayName": "Divyansh Rajput",
      "photoUrl": "https://lh3.googleusercontent.com/a/default-user=s64",
      "userId": "15087616457252387846"
     },
     "user_tz": -330
    },
    "id": "y5NyL569hcwY",
    "outputId": "d47caa87-7a83-4756-c967-99216d6f6d9d"
   },
   "outputs": [
    {
     "name": "stdout",
     "output_type": "stream",
     "text": [
      "visits    12\n",
      "dtype: int64\n"
     ]
    }
   ],
   "source": [
    "print(birds[['visits']][birds['birds']=='Cranes'].sum())"
   ]
  },
  {
   "cell_type": "markdown",
   "metadata": {
    "id": "S-1B7oDehcwf"
   },
   "source": [
    "**11. Calculate the mean age for each different birds in dataframe.**"
   ]
  },
  {
   "cell_type": "code",
   "execution_count": 12,
   "metadata": {
    "colab": {
     "base_uri": "https://localhost:8080/",
     "height": 0
    },
    "executionInfo": {
     "elapsed": 19,
     "status": "ok",
     "timestamp": 1637922154556,
     "user": {
      "displayName": "Divyansh Rajput",
      "photoUrl": "https://lh3.googleusercontent.com/a/default-user=s64",
      "userId": "15087616457252387846"
     },
     "user_tz": -330
    },
    "id": "ljKjf7nyhcwg",
    "outputId": "8275aef1-7c12-4de5-f063-a6efe985158e"
   },
   "outputs": [
    {
     "name": "stdout",
     "output_type": "stream",
     "text": [
      "name:Cranes\t mean:3.5\n",
      "name:plovers\t mean:3.5\n",
      "name:spoonbills\t mean:6.0\n"
     ]
    }
   ],
   "source": [
    "g=birds.groupby('birds')\n",
    "for name,birds_df in g:\n",
    "  print('name:{}\\t mean:{}'.format(name,birds_df['age'].mean()))"
   ]
  },
  {
   "cell_type": "markdown",
   "metadata": {
    "id": "B5HIznnMhcwl"
   },
   "source": [
    "**12. Append a new row 'k' to dataframe with your choice of values for each column. Then delete that row to return the original DataFrame.**"
   ]
  },
  {
   "cell_type": "code",
   "execution_count": 13,
   "metadata": {
    "colab": {
     "base_uri": "https://localhost:8080/",
     "height": 0
    },
    "executionInfo": {
     "elapsed": 19,
     "status": "ok",
     "timestamp": 1637922154557,
     "user": {
      "displayName": "Divyansh Rajput",
      "photoUrl": "https://lh3.googleusercontent.com/a/default-user=s64",
      "userId": "15087616457252387846"
     },
     "user_tz": -330
    },
    "id": "GDDd9mXEhcwm",
    "outputId": "8a6aa436-e5b7-46c7-ba96-e75975d2555b"
   },
   "outputs": [
    {
     "name": "stdout",
     "output_type": "stream",
     "text": [
      "        birds  age  visits priority\n",
      "a      Cranes  3.5       2      yes\n",
      "b      Cranes  4.0       4      yes\n",
      "c     plovers  1.5       3       no\n",
      "d  spoonbills  NaN       4      yes\n",
      "e  spoonbills  6.0       3       no\n",
      "f      Cranes  3.0       4       no\n",
      "g     plovers  5.5       2       no\n",
      "h      Cranes  NaN       2      yes\n",
      "i  spoonbills  8.0       3       no\n",
      "j  spoonbills  4.0       2       no\n",
      "k        kuko  3.0       1      yes\n",
      "**************************************\n",
      "        birds  age  visits priority\n",
      "a      Cranes  3.5       2      yes\n",
      "b      Cranes  4.0       4      yes\n",
      "c     plovers  1.5       3       no\n",
      "d  spoonbills  NaN       4      yes\n",
      "e  spoonbills  6.0       3       no\n",
      "f      Cranes  3.0       4       no\n",
      "g     plovers  5.5       2       no\n",
      "h      Cranes  NaN       2      yes\n",
      "i  spoonbills  8.0       3       no\n",
      "j  spoonbills  4.0       2       no\n"
     ]
    }
   ],
   "source": [
    "birds.loc['k']=['kuko', 3,1,'yes']\n",
    "print(birds)\n",
    "birds.drop(birds.index[-1],inplace= True)\n",
    "print('**************************************')\n",
    "print(birds)\n"
   ]
  },
  {
   "cell_type": "markdown",
   "metadata": {
    "id": "_cLx6xLahcwq"
   },
   "source": [
    "**13. Find the number of each type of birds in dataframe (Counts)**"
   ]
  },
  {
   "cell_type": "code",
   "execution_count": 14,
   "metadata": {
    "colab": {
     "base_uri": "https://localhost:8080/",
     "height": 0
    },
    "executionInfo": {
     "elapsed": 17,
     "status": "ok",
     "timestamp": 1637922154557,
     "user": {
      "displayName": "Divyansh Rajput",
      "photoUrl": "https://lh3.googleusercontent.com/a/default-user=s64",
      "userId": "15087616457252387846"
     },
     "user_tz": -330
    },
    "id": "aTHV8JJMhcws",
    "outputId": "036b95f4-d623-4281-c832-37ecaf6f4cf4"
   },
   "outputs": [
    {
     "data": {
      "text/plain": [
       "spoonbills    4\n",
       "Cranes        4\n",
       "plovers       2\n",
       "Name: birds, dtype: int64"
      ]
     },
     "execution_count": 14,
     "metadata": {},
     "output_type": "execute_result"
    }
   ],
   "source": [
    "birds['birds'].value_counts()"
   ]
  },
  {
   "cell_type": "markdown",
   "metadata": {
    "id": "-SJ6OYuYhcww"
   },
   "source": [
    "**14. Sort dataframe (birds) first by the values in the 'age' in decending order, then by the value in the 'visits' column in ascending order.**"
   ]
  },
  {
   "cell_type": "code",
   "execution_count": 16,
   "metadata": {
    "colab": {
     "base_uri": "https://localhost:8080/",
     "height": 0
    },
    "executionInfo": {
     "elapsed": 373,
     "status": "ok",
     "timestamp": 1637922216992,
     "user": {
      "displayName": "Divyansh Rajput",
      "photoUrl": "https://lh3.googleusercontent.com/a/default-user=s64",
      "userId": "15087616457252387846"
     },
     "user_tz": -330
    },
    "id": "1oeqEqBjhcwy",
    "outputId": "e06f3f98-a5c9-4c13-d3c1-b72490b4201f"
   },
   "outputs": [
    {
     "name": "stdout",
     "output_type": "stream",
     "text": [
      "        birds  age  visits priority\n",
      "i  spoonbills  8.0       3       no\n",
      "e  spoonbills  6.0       3       no\n",
      "g     plovers  5.5       2       no\n",
      "b      Cranes  4.0       4      yes\n",
      "j  spoonbills  4.0       2       no\n",
      "a      Cranes  3.5       2      yes\n",
      "f      Cranes  3.0       4       no\n",
      "c     plovers  1.5       3       no\n",
      "d  spoonbills  NaN       4      yes\n",
      "h      Cranes  NaN       2      yes\n",
      "********************************************\n",
      "        birds  age  visits priority\n",
      "a      Cranes  3.5       2      yes\n",
      "g     plovers  5.5       2       no\n",
      "h      Cranes  NaN       2      yes\n",
      "j  spoonbills  4.0       2       no\n",
      "c     plovers  1.5       3       no\n",
      "e  spoonbills  6.0       3       no\n",
      "i  spoonbills  8.0       3       no\n",
      "b      Cranes  4.0       4      yes\n",
      "d  spoonbills  NaN       4      yes\n",
      "f      Cranes  3.0       4       no\n"
     ]
    }
   ],
   "source": [
    "print(birds.sort_values(by='age', ascending=False))\n",
    "print(\"********************************************\")\n",
    "print(birds.sort_values(by='visits', ascending=True))\n"
   ]
  },
  {
   "cell_type": "markdown",
   "metadata": {
    "id": "JaKj7ZQUhcw7"
   },
   "source": [
    "**15. Replace the priority column values with'yes' should be 1 and 'no' should be 0**"
   ]
  },
  {
   "cell_type": "code",
   "execution_count": 23,
   "metadata": {
    "colab": {
     "base_uri": "https://localhost:8080/",
     "height": 0
    },
    "executionInfo": {
     "elapsed": 690,
     "status": "ok",
     "timestamp": 1637922755749,
     "user": {
      "displayName": "Divyansh Rajput",
      "photoUrl": "https://lh3.googleusercontent.com/a/default-user=s64",
      "userId": "15087616457252387846"
     },
     "user_tz": -330
    },
    "id": "AJAPYiIHhcw9",
    "outputId": "9b13a521-8fa5-4515-e4d3-2a00c521da32"
   },
   "outputs": [
    {
     "name": "stdout",
     "output_type": "stream",
     "text": [
      "[1 1 0 1 0 0 0 1 0 0]\n",
      "        birds  age  visits  priority\n",
      "a      Cranes  3.5       2         1\n",
      "b      Cranes  4.0       4         1\n",
      "c     plovers  1.5       3         0\n",
      "d  spoonbills  NaN       4         1\n",
      "e  spoonbills  6.0       3         0\n",
      "f      Cranes  3.0       4         0\n",
      "g     plovers  5.5       2         0\n",
      "h      Cranes  NaN       2         1\n",
      "i  spoonbills  8.0       3         0\n",
      "j  spoonbills  4.0       2         0\n"
     ]
    }
   ],
   "source": [
    "d= np.where(birds[\"priority\"] ==\"yes\",1,0)\n",
    "print(d)\n",
    "birds[\"priority\"]= d\n",
    "print(birds)"
   ]
  },
  {
   "cell_type": "markdown",
   "metadata": {
    "id": "E2EFmujbhcxA"
   },
   "source": [
    "**16. In the 'birds' column, change the 'Cranes' entries to 'trumpeters'.**"
   ]
  },
  {
   "cell_type": "code",
   "execution_count": 29,
   "metadata": {
    "colab": {
     "base_uri": "https://localhost:8080/",
     "height": 0
    },
    "executionInfo": {
     "elapsed": 399,
     "status": "ok",
     "timestamp": 1637923207881,
     "user": {
      "displayName": "Divyansh Rajput",
      "photoUrl": "https://lh3.googleusercontent.com/a/default-user=s64",
      "userId": "15087616457252387846"
     },
     "user_tz": -330
    },
    "id": "Bi29Cc6lhcxC",
    "outputId": "2387ea90-226a-4be6-ffb7-bc99fe5dee96"
   },
   "outputs": [
    {
     "name": "stdout",
     "output_type": "stream",
     "text": [
      "        birds  age  visits  priority\n",
      "a  trumpeters  3.5       2         1\n",
      "b  trumpeters  4.0       4         1\n",
      "c     plovers  1.5       3         0\n",
      "d  spoonbills  NaN       4         1\n",
      "e  spoonbills  6.0       3         0\n",
      "f  trumpeters  3.0       4         0\n",
      "g     plovers  5.5       2         0\n",
      "h  trumpeters  NaN       2         1\n",
      "i  spoonbills  8.0       3         0\n",
      "j  spoonbills  4.0       2         0\n"
     ]
    }
   ],
   "source": [
    "birds[\"birds\"]= birds[\"birds\"].replace([\"Cranes\"],\"trumpeters\")\n",
    "print(birds)"
   ]
  },
  {
   "cell_type": "code",
   "execution_count": null,
   "metadata": {
    "id": "bbI9rLX7z9Xd"
   },
   "outputs": [],
   "source": []
  }
 ],
 "metadata": {
  "accelerator": "GPU",
  "colab": {
   "name": "Copy of pandas_basics_practice.ipynb",
   "provenance": [
    {
     "file_id": "1VB3wJSt_Mq0HLP9uaqgsZBR4BLMFnkmY",
     "timestamp": 1637923370966
    }
   ]
  },
  "kernelspec": {
   "display_name": "Python 3",
   "language": "python",
   "name": "python3"
  },
  "language_info": {
   "codemirror_mode": {
    "name": "ipython",
    "version": 3
   },
   "file_extension": ".py",
   "mimetype": "text/x-python",
   "name": "python",
   "nbconvert_exporter": "python",
   "pygments_lexer": "ipython3",
   "version": "3.9.5"
  }
 },
 "nbformat": 4,
 "nbformat_minor": 1
}
