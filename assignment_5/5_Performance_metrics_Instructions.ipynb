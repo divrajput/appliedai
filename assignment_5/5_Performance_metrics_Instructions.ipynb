{
 "cells": [
  {
   "cell_type": "markdown",
   "metadata": {
    "id": "s0Ej_bXyQvnV"
   },
   "source": [
    "# Compute performance metrics for the given Y and Y_score without sklearn"
   ]
  },
  {
   "cell_type": "code",
   "execution_count": 17,
   "metadata": {
    "id": "4CHb6NE7Qvnc"
   },
   "outputs": [],
   "source": [
    "import numpy as np\n",
    "import pandas as pd\n",
    "# other than these two you should not import any other packages"
   ]
  },
  {
   "cell_type": "markdown",
   "metadata": {
    "id": "KbsWXuDaQvnq"
   },
   "source": [
    "\n",
    "## A. Compute performance metrics for the given data '5_a.csv'\n",
    " <pre>  <b>Note 1:</b> in this data you can see number of positive points >> number of negatives points\n",
    "   <b>Note 2:</b> use pandas or numpy to read the data from <b>5_a.csv</b>\n",
    "   <b>Note 3:</b> you need to derive the class labels from given score</pre> $y^{pred}= \\text{[0 if y_score < 0.5 else 1]}$\n",
    "\n",
    "<pre>\n",
    "<ol>\n",
    "<li> Compute Confusion Matrix </li>\n",
    "<li> Compute F1 Score </li>\n",
    "<li> Compute AUC Score, you need to compute different thresholds and for each threshold compute tpr,fpr and then use               numpy.trapz(tpr_array, fpr_array) <a href='https://stackoverflow.com/q/53603376/4084039'>https://stackoverflow.com/q/53603376/4084039</a>, <a href='https://stackoverflow.com/a/39678975/4084039'>https://stackoverflow.com/a/39678975/4084039</a> Note: it should be numpy.trapz(tpr_array, fpr_array) not numpy.trapz(fpr_array, tpr_array)\n",
    "Note- Make sure that you arrange your probability scores in descending order while calculating AUC</li>\n",
    "<li> Compute Accuracy Score </li>\n",
    "</ol>\n",
    "</pre>"
   ]
  },
  {
   "cell_type": "code",
   "execution_count": 18,
   "metadata": {
    "colab": {
     "base_uri": "https://localhost:8080/",
     "height": 206
    },
    "id": "WaFLW7oBQvnt",
    "outputId": "28466b9d-1b4c-4e7c-a9c4-62313d898172"
   },
   "outputs": [
    {
     "data": {
      "text/html": [
       "<div>\n",
       "<style scoped>\n",
       "    .dataframe tbody tr th:only-of-type {\n",
       "        vertical-align: middle;\n",
       "    }\n",
       "\n",
       "    .dataframe tbody tr th {\n",
       "        vertical-align: top;\n",
       "    }\n",
       "\n",
       "    .dataframe thead th {\n",
       "        text-align: right;\n",
       "    }\n",
       "</style>\n",
       "<table border=\"1\" class=\"dataframe\">\n",
       "  <thead>\n",
       "    <tr style=\"text-align: right;\">\n",
       "      <th></th>\n",
       "      <th>y</th>\n",
       "      <th>proba</th>\n",
       "    </tr>\n",
       "  </thead>\n",
       "  <tbody>\n",
       "    <tr>\n",
       "      <th>0</th>\n",
       "      <td>1.0</td>\n",
       "      <td>0.637387</td>\n",
       "    </tr>\n",
       "    <tr>\n",
       "      <th>1</th>\n",
       "      <td>1.0</td>\n",
       "      <td>0.635165</td>\n",
       "    </tr>\n",
       "    <tr>\n",
       "      <th>2</th>\n",
       "      <td>1.0</td>\n",
       "      <td>0.766586</td>\n",
       "    </tr>\n",
       "    <tr>\n",
       "      <th>3</th>\n",
       "      <td>1.0</td>\n",
       "      <td>0.724564</td>\n",
       "    </tr>\n",
       "    <tr>\n",
       "      <th>4</th>\n",
       "      <td>1.0</td>\n",
       "      <td>0.889199</td>\n",
       "    </tr>\n",
       "  </tbody>\n",
       "</table>\n",
       "</div>"
      ],
      "text/plain": [
       "     y     proba\n",
       "0  1.0  0.637387\n",
       "1  1.0  0.635165\n",
       "2  1.0  0.766586\n",
       "3  1.0  0.724564\n",
       "4  1.0  0.889199"
      ]
     },
     "execution_count": 18,
     "metadata": {},
     "output_type": "execute_result"
    }
   ],
   "source": [
    "df_a=pd.read_csv('5_a.csv')\n",
    "df_a.head()"
   ]
  },
  {
   "cell_type": "markdown",
   "metadata": {
    "id": "yg8uUJvGAfCM"
   },
   "source": [
    "## CONVERTING PROBABILITIES TO OUTPUT LABEL"
   ]
  },
  {
   "cell_type": "code",
   "execution_count": 19,
   "metadata": {
    "id": "RozkOkrZfdgG"
   },
   "outputs": [],
   "source": [
    "def convert_prob2label(prob,threshold):\n",
    "    # prob : list of predicted output\n",
    "    #threshold : threshold value to make output 1 or 0\n",
    "    return list(np.where(np.array(prob) > threshold, 1, 0))"
   ]
  },
  {
   "cell_type": "markdown",
   "metadata": {
    "id": "Lg0G3_LmfdgH"
   },
   "source": [
    "## FUNCTION TO GET CONFUSION MATRIX WHICH INCLUDE TRUE POSITIVE, TRUE NEGATIVE, FALSE POSITIVE, FALSE NEGATIVE"
   ]
  },
  {
   "cell_type": "code",
   "execution_count": 20,
   "metadata": {
    "id": "Dg2wehCBfdgH"
   },
   "outputs": [],
   "source": [
    "def confusion_matrix(true_label, predicted_prob):\n",
    "    #true_label : list of predefined true label\n",
    "    #predicted_prob : list of output predicted probabilities\n",
    "    predicted_label= convert_prob2label(predicted_prob, 0.5) # converting output predicted probabilities to label with threshold= 0.5\n",
    "    T_N = 0  # initializing True negative value\n",
    "    T_P = 0  # initializing True positive value\n",
    "    F_P = 0  # initializing false positive value\n",
    "    F_N = 0  # initializing false negative value\n",
    "    conf_mat = np.array([[0,0],[0,0]])   # initializing confusion matrix\n",
    "    for i in range(len(true_label)):\n",
    "        if true_label[i] == 0 and predicted_label[i] == 0:\n",
    "            T_N += 1\n",
    "        elif true_label[i] == 1 and predicted_label[i] == 1:\n",
    "            T_P += 1\n",
    "        elif true_label[i] == 1 and predicted_label[i] == 0:\n",
    "            F_N += 1\n",
    "        else: \n",
    "            F_P += 1\n",
    "\n",
    "    conf_mat[0,0]= T_N\n",
    "    conf_mat[0,1]= F_N\n",
    "    conf_mat[1,0]= F_P\n",
    "    conf_mat[1,1]= T_P\n",
    "    return T_N, F_N, F_P, T_P, conf_mat"
   ]
  },
  {
   "cell_type": "markdown",
   "metadata": {
    "id": "FJ9yOk3sfdgH"
   },
   "source": [
    "## COMPUTING F1 SCORE"
   ]
  },
  {
   "cell_type": "code",
   "execution_count": 21,
   "metadata": {
    "id": "D6IUCMWSfdgI"
   },
   "outputs": [],
   "source": [
    "def F1_score(a,b):\n",
    "    # a : list of true label\n",
    "    # b : list of predicted probabilities\n",
    "    T_N, F_N, F_P, T_P, _ = confusion_matrix(a, b)\n",
    "    precision = T_P / (T_P+F_P)   # precision value\n",
    "    recall = T_P / (F_N+T_P)      # recall value\n",
    "    f1_score = (2* precision * recall)/ (precision+recall)\n",
    "    return f1_score"
   ]
  },
  {
   "cell_type": "markdown",
   "metadata": {
    "id": "HiXAcLcnfdgI"
   },
   "source": [
    "## FUNCTION TO GET TPR/FPR FOR ROC CURVE"
   ]
  },
  {
   "cell_type": "code",
   "execution_count": 22,
   "metadata": {
    "id": "s8xe-q59fdgI"
   },
   "outputs": [],
   "source": [
    "def ROC_Curve_TPR_FPR(true_label, predicted_prob):\n",
    "    # true_label : list of true label\n",
    "    # predicted_prob : list of predicted probabilities\n",
    "    lst_threshold = sorted(predicted_prob, reverse=True)  # To order predicted_prob in descending order to get threshold value\n",
    "    TPR = []     # initializing list of TPR to build ROC curve\n",
    "    FPR = []     # initializing list of FPR to build ROC curve\n",
    "    for threshold in lst_threshold:\n",
    "        predicted_label = convert_prob2label(predicted_prob,threshold)\n",
    "        T_N, F_N, F_P, T_P, _ = confusion_matrix(true_label, predicted_label)\n",
    "        TPR.append(T_P / (F_N + T_P))\n",
    "        FPR.append(F_P / (T_N +F_P))\n",
    "    return TPR, FPR"
   ]
  },
  {
   "cell_type": "markdown",
   "metadata": {
    "id": "0AyOc55hfdgJ"
   },
   "source": [
    "## FUNCTION TO DISPLAY ROC CURVE"
   ]
  },
  {
   "cell_type": "code",
   "execution_count": 23,
   "metadata": {
    "id": "I622NuopfdgJ"
   },
   "outputs": [],
   "source": [
    "def display_ROC_curve(TPR,FPR):\n",
    "    df_roc= pd.DataFrame({'tpr': TPR, 'fpr': FPR })\n",
    "    df_roc.plot(x= 'fpr', y= 'tpr')\n",
    "    return"
   ]
  },
  {
   "cell_type": "markdown",
   "metadata": {
    "id": "sGyu0sMDfdgJ"
   },
   "source": [
    "## COMPUTING AUC SCORE"
   ]
  },
  {
   "cell_type": "code",
   "execution_count": 24,
   "metadata": {
    "id": "LMfO5ETJfdgJ"
   },
   "outputs": [],
   "source": [
    "def auc_score(TPR, FPR):\n",
    "    return np.trapz(TPR, FPR)"
   ]
  },
  {
   "cell_type": "code",
   "execution_count": 54,
   "metadata": {},
   "outputs": [],
   "source": [
    "def accuracy_score(true_label, predicted_prob):\n",
    "    accuracy= 0\n",
    "    predicted_label= convert_prob2label(predicted_prob, 0.5)\n",
    "    return np.sum(np.where(np.array(true_label) == np.array(predicted_label) , 1 , 0)) / len(true_label)"
   ]
  },
  {
   "cell_type": "markdown",
   "metadata": {
    "id": "DTgBnIFcfdgJ"
   },
   "source": [
    "## CONFUSION MATRIX"
   ]
  },
  {
   "cell_type": "code",
   "execution_count": 26,
   "metadata": {
    "colab": {
     "base_uri": "https://localhost:8080/"
    },
    "id": "C1f0CbZXfdgK",
    "outputId": "cdce0fc4-cb93-4875-aedf-6a4a930bc1b0"
   },
   "outputs": [
    {
     "data": {
      "text/plain": [
       "array([[    0,     0],\n",
       "       [  100, 10000]])"
      ]
     },
     "execution_count": 26,
     "metadata": {},
     "output_type": "execute_result"
    }
   ],
   "source": [
    "T_N, F_N, F_P, T_P, conf_mat = confusion_matrix((df_a['y'].astype(int)).tolist(), df_a['proba'].tolist())\n",
    "conf_mat"
   ]
  },
  {
   "cell_type": "markdown",
   "metadata": {
    "id": "DbqZy-d5fdgK"
   },
   "source": [
    "## F1-SCORE"
   ]
  },
  {
   "cell_type": "code",
   "execution_count": 27,
   "metadata": {
    "colab": {
     "base_uri": "https://localhost:8080/"
    },
    "id": "812oCsZcfdgK",
    "outputId": "cc055004-c63d-4717-b093-1a0508539315"
   },
   "outputs": [
    {
     "data": {
      "text/plain": [
       "0.9950248756218906"
      ]
     },
     "execution_count": 27,
     "metadata": {},
     "output_type": "execute_result"
    }
   ],
   "source": [
    "f1_score = F1_score((df_a['y'].astype(int)).tolist(),df_a['proba'].tolist())\n",
    "f1_score"
   ]
  },
  {
   "cell_type": "markdown",
   "metadata": {
    "id": "v1Rc3PVzfdgK"
   },
   "source": [
    "Though f1 score is good but as data is imbalanced we do not give importance to f1 score, we will check auc score."
   ]
  },
  {
   "cell_type": "markdown",
   "metadata": {
    "id": "mFlleWG4fdgL"
   },
   "source": [
    "## PLOTTING ROC-CURVE"
   ]
  },
  {
   "cell_type": "code",
   "execution_count": 28,
   "metadata": {
    "id": "KbgL8CI9fdgL"
   },
   "outputs": [],
   "source": [
    "TPR, FPR = ROC_Curve_TPR_FPR((df_a['y'].astype(int)).tolist(), df_a['proba'].tolist())"
   ]
  },
  {
   "cell_type": "code",
   "execution_count": 29,
   "metadata": {
    "colab": {
     "base_uri": "https://localhost:8080/",
     "height": 279
    },
    "id": "EE4QWjcKfdgL",
    "outputId": "b371c4b3-714b-4165-b55a-bf89c02b0b5f"
   },
   "outputs": [
    {
     "data": {
      "image/png": "[encoded data removed]",
      "text/plain": [
       "<Figure size 432x288 with 1 Axes>"
      ]
     },
     "metadata": {
      "needs_background": "light"
     },
     "output_type": "display_data"
    }
   ],
   "source": [
    "display_ROC_curve(TPR, FPR)"
   ]
  },
  {
   "cell_type": "markdown",
   "metadata": {
    "id": "hJdlKo3-fdgL"
   },
   "source": [
    "As we can see the curve is similar to y=x line so the model is worse."
   ]
  },
  {
   "cell_type": "markdown",
   "metadata": {
    "id": "Nk7Lz_TofdgL"
   },
   "source": [
    "## AUC-SCORE"
   ]
  },
  {
   "cell_type": "code",
   "execution_count": 30,
   "metadata": {
    "colab": {
     "base_uri": "https://localhost:8080/"
    },
    "id": "KDIMc2gPfdgM",
    "outputId": "8b685b19-bbea-4554-9c41-6c60dd68fb63"
   },
   "outputs": [
    {
     "name": "stdout",
     "output_type": "stream",
     "text": [
      "AUC Score:0.48829900000000004\n"
     ]
    }
   ],
   "source": [
    "print('AUC Score:' + str(auc_score(TPR, FPR)))"
   ]
  },
  {
   "cell_type": "markdown",
   "metadata": {},
   "source": [
    "## ACCURACY SCORE"
   ]
  },
  {
   "cell_type": "code",
   "execution_count": 55,
   "metadata": {},
   "outputs": [
    {
     "name": "stdout",
     "output_type": "stream",
     "text": [
      "Accuracy Score:0.9900990099009901\n"
     ]
    }
   ],
   "source": [
    "print('Accuracy Score:' + str(accuracy_score((df_a['y'].astype(int)).tolist(), df_a['proba'].tolist())) )"
   ]
  },
  {
   "cell_type": "markdown",
   "metadata": {},
   "source": [
    "Though the accuracy is high but the model is dumb, So we will look at AUC-Score."
   ]
  },
  {
   "cell_type": "markdown",
   "metadata": {
    "id": "V5KZem1BQvn2"
   },
   "source": [
    "\n",
    "\n",
    "## B. Compute performance metrics for the given data '5_b.csv'\n",
    "<pre>\n",
    "   <b>Note 1:</b> in this data you can see number of positive points << number of negatives points\n",
    "   <b>Note 2:</b> use pandas or numpy to read the data from <b>5_b.csv</b>\n",
    "   <b>Note 3:</b> you need to derive the class labels from given score</pre> $y^{pred}= \\text{[0 if y_score < 0.5 else 1]}$\n",
    "\n",
    "<pre>\n",
    "<ol>\n",
    "<li> Compute Confusion Matrix </li>\n",
    "<li> Compute F1 Score </li>\n",
    "<li> Compute AUC Score, you need to compute different thresholds and for each threshold compute tpr,fpr and then use               numpy.trapz(tpr_array, fpr_array) <a href='https://stackoverflow.com/q/53603376/4084039'>https://stackoverflow.com/q/53603376/4084039</a>, <a href='https://stackoverflow.com/a/39678975/4084039'>https://stackoverflow.com/a/39678975/4084039</a>\n",
    "Note- Make sure that you arrange your probability scores in descending order while calculating AUC</li>\n",
    "<li> Compute Accuracy Score </li>\n",
    "</ol>\n",
    "</pre>"
   ]
  },
  {
   "cell_type": "code",
   "execution_count": 32,
   "metadata": {
    "colab": {
     "base_uri": "https://localhost:8080/",
     "height": 206
    },
    "id": "U2sKlq0YQvn5",
    "outputId": "1d562116-5497-4abf-c5b8-f70350e78b48"
   },
   "outputs": [
    {
     "data": {
      "text/html": [
       "<div>\n",
       "<style scoped>\n",
       "    .dataframe tbody tr th:only-of-type {\n",
       "        vertical-align: middle;\n",
       "    }\n",
       "\n",
       "    .dataframe tbody tr th {\n",
       "        vertical-align: top;\n",
       "    }\n",
       "\n",
       "    .dataframe thead th {\n",
       "        text-align: right;\n",
       "    }\n",
       "</style>\n",
       "<table border=\"1\" class=\"dataframe\">\n",
       "  <thead>\n",
       "    <tr style=\"text-align: right;\">\n",
       "      <th></th>\n",
       "      <th>y</th>\n",
       "      <th>proba</th>\n",
       "    </tr>\n",
       "  </thead>\n",
       "  <tbody>\n",
       "    <tr>\n",
       "      <th>0</th>\n",
       "      <td>0.0</td>\n",
       "      <td>0.281035</td>\n",
       "    </tr>\n",
       "    <tr>\n",
       "      <th>1</th>\n",
       "      <td>0.0</td>\n",
       "      <td>0.465152</td>\n",
       "    </tr>\n",
       "    <tr>\n",
       "      <th>2</th>\n",
       "      <td>0.0</td>\n",
       "      <td>0.352793</td>\n",
       "    </tr>\n",
       "    <tr>\n",
       "      <th>3</th>\n",
       "      <td>0.0</td>\n",
       "      <td>0.157818</td>\n",
       "    </tr>\n",
       "    <tr>\n",
       "      <th>4</th>\n",
       "      <td>0.0</td>\n",
       "      <td>0.276648</td>\n",
       "    </tr>\n",
       "  </tbody>\n",
       "</table>\n",
       "</div>"
      ],
      "text/plain": [
       "     y     proba\n",
       "0  0.0  0.281035\n",
       "1  0.0  0.465152\n",
       "2  0.0  0.352793\n",
       "3  0.0  0.157818\n",
       "4  0.0  0.276648"
      ]
     },
     "execution_count": 32,
     "metadata": {},
     "output_type": "execute_result"
    }
   ],
   "source": [
    "df_b=pd.read_csv('5_b.csv')\n",
    "df_b.head()"
   ]
  },
  {
   "cell_type": "markdown",
   "metadata": {
    "id": "zqymINJgfdgM"
   },
   "source": [
    "## CONFUSION MATRIX"
   ]
  },
  {
   "cell_type": "code",
   "execution_count": 33,
   "metadata": {
    "colab": {
     "base_uri": "https://localhost:8080/"
    },
    "id": "yk1w9aVafdgM",
    "outputId": "627310e6-23e1-43b1-8bb8-c9d05f73a7cc"
   },
   "outputs": [
    {
     "name": "stdout",
     "output_type": "stream",
     "text": [
      "confusion matrix: [[9761   45]\n",
      " [ 239   55]]\n"
     ]
    }
   ],
   "source": [
    "T_N, F_N, F_P, T_P, conf_mat = confusion_matrix((df_b['y'].astype(int)).tolist(), df_b['proba'].tolist())\n",
    "print('confusion matrix: ' +str(conf_mat))"
   ]
  },
  {
   "cell_type": "markdown",
   "metadata": {
    "id": "lScxg-E7fdgM"
   },
   "source": [
    "## F1-SCORE"
   ]
  },
  {
   "cell_type": "code",
   "execution_count": 34,
   "metadata": {
    "id": "W436q_kPfdgN"
   },
   "outputs": [],
   "source": [
    "f1_score = F1_score((df_b['y'].astype(int)).tolist(),df_b['proba'].tolist())"
   ]
  },
  {
   "cell_type": "code",
   "execution_count": 35,
   "metadata": {
    "colab": {
     "base_uri": "https://localhost:8080/"
    },
    "id": "N7JnjIgQfdgN",
    "outputId": "a61ebd4b-7dd2-48c9-fc14-27db2c43b244"
   },
   "outputs": [
    {
     "data": {
      "text/plain": [
       "0.2791878172588833"
      ]
     },
     "execution_count": 35,
     "metadata": {},
     "output_type": "execute_result"
    }
   ],
   "source": [
    "f1_score"
   ]
  },
  {
   "cell_type": "markdown",
   "metadata": {
    "id": "-fx9RUNkfdgN"
   },
   "source": [
    "## PLOTTING ROC-CURVE"
   ]
  },
  {
   "cell_type": "code",
   "execution_count": 36,
   "metadata": {
    "id": "z2ZkZ-dEfdgN"
   },
   "outputs": [],
   "source": [
    "TPR, FPR = ROC_Curve_TPR_FPR((df_b['y'].astype(int)).tolist(), df_b['proba'].tolist())"
   ]
  },
  {
   "cell_type": "code",
   "execution_count": 37,
   "metadata": {
    "colab": {
     "base_uri": "https://localhost:8080/",
     "height": 279
    },
    "id": "1gDC0_ZPfdgN",
    "outputId": "60b2911c-8943-4452-ef08-55a561c1df4d"
   },
   "outputs": [
    {
     "data": {
      "image/png": "[encoded data removed]",
      "text/plain": [
       "<Figure size 432x288 with 1 Axes>"
      ]
     },
     "metadata": {
      "needs_background": "light"
     },
     "output_type": "display_data"
    }
   ],
   "source": [
    "display_ROC_curve(TPR, FPR)"
   ]
  },
  {
   "cell_type": "markdown",
   "metadata": {},
   "source": [
    "Looking at ROC curve, we can say the model is quite good."
   ]
  },
  {
   "cell_type": "markdown",
   "metadata": {
    "id": "_g4jRy6tfdgO"
   },
   "source": [
    "## AUC-SCORE"
   ]
  },
  {
   "cell_type": "code",
   "execution_count": 51,
   "metadata": {
    "colab": {
     "base_uri": "https://localhost:8080/"
    },
    "id": "GdcJqMerfdgO",
    "outputId": "65d63491-119a-4c30-9669-3e367c59399d"
   },
   "outputs": [
    {
     "name": "stdout",
     "output_type": "stream",
     "text": [
      "AUC Score:0.9376570000000001\n"
     ]
    }
   ],
   "source": [
    "print('AUC Score:' + str(auc_score(TPR, FPR)))"
   ]
  },
  {
   "cell_type": "markdown",
   "metadata": {},
   "source": [
    "## ACCURACY SCORE"
   ]
  },
  {
   "cell_type": "code",
   "execution_count": 56,
   "metadata": {},
   "outputs": [
    {
     "name": "stdout",
     "output_type": "stream",
     "text": [
      "Accuracy Score:0.9718811881188119\n"
     ]
    }
   ],
   "source": [
    "print('Accuracy Score:' + str(accuracy_score((df_b['y'].astype(int)).tolist(), df_b['proba'].tolist())))"
   ]
  },
  {
   "cell_type": "markdown",
   "metadata": {
    "id": "GiPGonTzQvoB"
   },
   "source": [
    "### C. Compute the best threshold (similarly to ROC curve computation) of probability which gives lowest values of metric <b>A</b> for the given data \n",
    "<br>\n",
    "\n",
    "you will be predicting label of a data points like this: $y^{pred}= \\text{[0 if y_score < threshold  else 1]}$\n",
    "\n",
    "$ A = 500 \\times \\text{number of false negative} + 100 \\times \\text{numebr of false positive}$\n",
    "\n",
    "<pre>\n",
    "   <b>Note 1:</b> in this data you can see number of negative points > number of positive points\n",
    "   <b>Note 2:</b> use pandas or numpy to read the data from <b>5_c.csv</b>\n",
    "</pre>"
   ]
  },
  {
   "cell_type": "code",
   "execution_count": 39,
   "metadata": {
    "id": "x5HIJzq1QvoE"
   },
   "outputs": [
    {
     "data": {
      "text/html": [
       "<div>\n",
       "<style scoped>\n",
       "    .dataframe tbody tr th:only-of-type {\n",
       "        vertical-align: middle;\n",
       "    }\n",
       "\n",
       "    .dataframe tbody tr th {\n",
       "        vertical-align: top;\n",
       "    }\n",
       "\n",
       "    .dataframe thead th {\n",
       "        text-align: right;\n",
       "    }\n",
       "</style>\n",
       "<table border=\"1\" class=\"dataframe\">\n",
       "  <thead>\n",
       "    <tr style=\"text-align: right;\">\n",
       "      <th></th>\n",
       "      <th>y</th>\n",
       "      <th>prob</th>\n",
       "    </tr>\n",
       "  </thead>\n",
       "  <tbody>\n",
       "    <tr>\n",
       "      <th>0</th>\n",
       "      <td>0</td>\n",
       "      <td>0.458521</td>\n",
       "    </tr>\n",
       "    <tr>\n",
       "      <th>1</th>\n",
       "      <td>0</td>\n",
       "      <td>0.505037</td>\n",
       "    </tr>\n",
       "    <tr>\n",
       "      <th>2</th>\n",
       "      <td>0</td>\n",
       "      <td>0.418652</td>\n",
       "    </tr>\n",
       "    <tr>\n",
       "      <th>3</th>\n",
       "      <td>0</td>\n",
       "      <td>0.412057</td>\n",
       "    </tr>\n",
       "    <tr>\n",
       "      <th>4</th>\n",
       "      <td>0</td>\n",
       "      <td>0.375579</td>\n",
       "    </tr>\n",
       "  </tbody>\n",
       "</table>\n",
       "</div>"
      ],
      "text/plain": [
       "   y      prob\n",
       "0  0  0.458521\n",
       "1  0  0.505037\n",
       "2  0  0.418652\n",
       "3  0  0.412057\n",
       "4  0  0.375579"
      ]
     },
     "execution_count": 39,
     "metadata": {},
     "output_type": "execute_result"
    }
   ],
   "source": [
    "df_c=pd.read_csv('5_c.csv')\n",
    "df_c.head()"
   ]
  },
  {
   "cell_type": "markdown",
   "metadata": {
    "id": "GBXeGifMfdgO"
   },
   "source": [
    "## FUNCTION TO GET BEST THRESHOLD VALUE FOR SMALLER 'A'"
   ]
  },
  {
   "cell_type": "code",
   "execution_count": 40,
   "metadata": {
    "id": "nzJ4pdvEfdgO"
   },
   "outputs": [],
   "source": [
    "def best_threshold_fn(true_label,predicted_prob):\n",
    "    best_threshold= 0\n",
    "    prev_A=1e8\n",
    "    lst_threshold= sorted(predicted_prob, reverse=True)\n",
    "\n",
    "    for threshold in lst_threshold:\n",
    "        predicted_label = convert_prob2label(predicted_prob,threshold)\n",
    "        T_N, F_N, F_P, T_P, _ = confusion_matrix(true_label, predicted_label)\n",
    "        A = 500 * F_N + 100 * F_P\n",
    "        if A < prev_A : \n",
    "            best_threshold = threshold\n",
    "            prev_A = A\n",
    "    return best_threshold"
   ]
  },
  {
   "cell_type": "code",
   "execution_count": 41,
   "metadata": {
    "id": "6gsZjoccfdgP"
   },
   "outputs": [],
   "source": [
    "best_threshold = best_threshold_fn((df_c['y'].astype(int)).tolist(),df_c['prob'].tolist())"
   ]
  },
  {
   "cell_type": "markdown",
   "metadata": {
    "id": "gqUYuPXEfdgP"
   },
   "source": [
    "## PRINT BEST THRESHOLD VALUE"
   ]
  },
  {
   "cell_type": "code",
   "execution_count": 42,
   "metadata": {
    "id": "47mxdojYfdgP"
   },
   "outputs": [
    {
     "name": "stdout",
     "output_type": "stream",
     "text": [
      "Best threshold value :0.2298716443615991\n"
     ]
    }
   ],
   "source": [
    "print('Best threshold value :' +str(best_threshold))"
   ]
  },
  {
   "cell_type": "code",
   "execution_count": 43,
   "metadata": {
    "id": "eAPjewjzAfCa"
   },
   "outputs": [],
   "source": [
    " # write your code for task C"
   ]
  },
  {
   "cell_type": "markdown",
   "metadata": {
    "id": "sD4CcgjXQvoL"
   },
   "source": [
    "\n",
    "## D.</b></font> Compute performance metrics(for regression) for the given data 5_d.csv\n",
    "<pre>    <b>Note 2:</b> use pandas or numpy to read the data from <b>5_d.csv</b>\n",
    "    <b>Note 1:</b> <b>5_d.csv</b> will having two columns Y and predicted_Y both are real valued features\n",
    "<ol>\n",
    "<li> Compute Mean Square Error </li>\n",
    "<li> Compute MAPE: https://www.youtube.com/watch?v=ly6ztgIkUxk</li>\n",
    "<li> Compute R^2 error: https://en.wikipedia.org/wiki/Coefficient_of_determination#Definitions </li>\n",
    "</ol>\n",
    "</pre>"
   ]
  },
  {
   "cell_type": "code",
   "execution_count": 44,
   "metadata": {
    "id": "sVOj-bF9AfCd"
   },
   "outputs": [
    {
     "data": {
      "text/html": [
       "<div>\n",
       "<style scoped>\n",
       "    .dataframe tbody tr th:only-of-type {\n",
       "        vertical-align: middle;\n",
       "    }\n",
       "\n",
       "    .dataframe tbody tr th {\n",
       "        vertical-align: top;\n",
       "    }\n",
       "\n",
       "    .dataframe thead th {\n",
       "        text-align: right;\n",
       "    }\n",
       "</style>\n",
       "<table border=\"1\" class=\"dataframe\">\n",
       "  <thead>\n",
       "    <tr style=\"text-align: right;\">\n",
       "      <th></th>\n",
       "      <th>y</th>\n",
       "      <th>pred</th>\n",
       "    </tr>\n",
       "  </thead>\n",
       "  <tbody>\n",
       "    <tr>\n",
       "      <th>0</th>\n",
       "      <td>101.0</td>\n",
       "      <td>100.0</td>\n",
       "    </tr>\n",
       "    <tr>\n",
       "      <th>1</th>\n",
       "      <td>120.0</td>\n",
       "      <td>100.0</td>\n",
       "    </tr>\n",
       "    <tr>\n",
       "      <th>2</th>\n",
       "      <td>131.0</td>\n",
       "      <td>113.0</td>\n",
       "    </tr>\n",
       "    <tr>\n",
       "      <th>3</th>\n",
       "      <td>164.0</td>\n",
       "      <td>125.0</td>\n",
       "    </tr>\n",
       "    <tr>\n",
       "      <th>4</th>\n",
       "      <td>154.0</td>\n",
       "      <td>152.0</td>\n",
       "    </tr>\n",
       "  </tbody>\n",
       "</table>\n",
       "</div>"
      ],
      "text/plain": [
       "       y   pred\n",
       "0  101.0  100.0\n",
       "1  120.0  100.0\n",
       "2  131.0  113.0\n",
       "3  164.0  125.0\n",
       "4  154.0  152.0"
      ]
     },
     "execution_count": 44,
     "metadata": {},
     "output_type": "execute_result"
    }
   ],
   "source": [
    "df_d=pd.read_csv('5_d.csv')\n",
    "df_d.head()"
   ]
  },
  {
   "cell_type": "markdown",
   "metadata": {
    "id": "3XkE0hpafdgQ"
   },
   "source": [
    "## COMPUTING MEAN SQUARED ERROR"
   ]
  },
  {
   "cell_type": "code",
   "execution_count": 45,
   "metadata": {
    "id": "Lo9QNirjfdgQ"
   },
   "outputs": [],
   "source": [
    "def MSE(a,b):\n",
    "    return (1/len(a)) * np.sum(np.square(a-b))"
   ]
  },
  {
   "cell_type": "markdown",
   "metadata": {
    "id": "PItV1m1RfdgQ"
   },
   "source": [
    "## COMPUTING MEAN ABSOLUTE SCALED ERROR"
   ]
  },
  {
   "cell_type": "code",
   "execution_count": 57,
   "metadata": {
    "id": "8zo_jsxafdgQ"
   },
   "outputs": [],
   "source": [
    "def MASE(a,b):\n",
    "    return (1/np.sum(np.array(a))) * np.sum(np.absolute((a-b)))"
   ]
  },
  {
   "cell_type": "markdown",
   "metadata": {
    "id": "ge8rSQTAfdgQ"
   },
   "source": [
    "## COMPUTING R-SQUARED ERROR"
   ]
  },
  {
   "cell_type": "code",
   "execution_count": 47,
   "metadata": {
    "id": "tETOLUKLfdgQ"
   },
   "outputs": [],
   "source": [
    "def R_squared(a,b):\n",
    "    mean_y = np.mean(a)\n",
    "    SS_res = np.sum(np.square(a-b))\n",
    "    SS_tot = np.sum(np.square(a-mean_y))\n",
    "    return (1 - (SS_res/SS_tot))"
   ]
  },
  {
   "cell_type": "code",
   "execution_count": 48,
   "metadata": {
    "id": "FLFMH4S6fdgQ"
   },
   "outputs": [
    {
     "name": "stdout",
     "output_type": "stream",
     "text": [
      "mean square error :177.16569974554707\n"
     ]
    }
   ],
   "source": [
    "print('mean square error :' + str(MSE(df_d['y'], df_d['pred'])))"
   ]
  },
  {
   "cell_type": "code",
   "execution_count": 58,
   "metadata": {
    "id": "8jceuFkAfdgR"
   },
   "outputs": [
    {
     "name": "stdout",
     "output_type": "stream",
     "text": [
      "MASE :0.1291202994009687\n"
     ]
    }
   ],
   "source": [
    "print('MASE :' + str(MASE(df_d['y'], df_d['pred'])))"
   ]
  },
  {
   "cell_type": "code",
   "execution_count": 50,
   "metadata": {
    "id": "clQhZLrvfdgR"
   },
   "outputs": [
    {
     "name": "stdout",
     "output_type": "stream",
     "text": [
      "R_squared error :0.9563582786990937\n"
     ]
    }
   ],
   "source": [
    "print('R_squared error :' + str(R_squared(df_d['y'], df_d['pred'])))"
   ]
  },
  {
   "cell_type": "markdown",
   "metadata": {
    "id": "7VBQF4nFfdgR"
   },
   "source": [
    "As there is no way to check if mse and mase is good or not, so we\n",
    "calculate R-squared error, good or bad depend on the application, R^2\n",
    "error = 1 is the best value. So for this question R2 error is close to 1\n",
    ", So model is good."
   ]
  }
 ],
 "metadata": {
  "colab": {
   "collapsed_sections": [],
   "name": "5_Performance_metrics_Instructions.ipynb",
   "provenance": []
  },
  "kernelspec": {
   "display_name": "Python 3",
   "language": "python",
   "name": "python3"
  },
  "language_info": {
   "codemirror_mode": {
    "name": "ipython",
    "version": 3
   },
   "file_extension": ".py",
   "mimetype": "text/x-python",
   "name": "python",
   "nbconvert_exporter": "python",
   "pygments_lexer": "ipython3",
   "version": "3.9.5"
  }
 },
 "nbformat": 4,
 "nbformat_minor": 1
}
