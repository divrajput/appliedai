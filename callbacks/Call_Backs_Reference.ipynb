{
 "cells": [
  {
   "cell_type": "markdown",
   "metadata": {
    "id": "5G7ugMJtOMWw"
   },
   "source": [
    "<h1> <font color='red'> DO read all the comments in the python code and contents in the markdown cells</font> </h1>"
   ]
  },
  {
   "cell_type": "markdown",
   "metadata": {
    "id": "KNLBT5GUbQUN"
   },
   "source": [
    "<pre><font size=4><b>\n",
    "You can do this assignment in google colab itself. we have provided a notebook to use tensorboard in google colab itself.</b></font>\n",
    "</pre>"
   ]
  },
  {
   "cell_type": "code",
   "execution_count": 1,
   "metadata": {
    "id": "gjzTYtr1OMW3"
   },
   "outputs": [],
   "source": [
    "import tensorflow as tf\n",
    "#enabled to get instant output. if you don't need, you can use session concept which was dicussed in lecture videos. "
   ]
  },
  {
   "cell_type": "code",
   "execution_count": 2,
   "metadata": {
    "colab": {
     "base_uri": "https://localhost:8080/",
     "height": 34
    },
    "id": "3rOqYAusgIhU",
    "outputId": "d0df2b7e-4cd8-4307-f936-4c141aa35fe7"
   },
   "outputs": [
    {
     "name": "stdout",
     "output_type": "stream",
     "text": [
      "(1000, 8, 2, 64)\n"
     ]
    }
   ],
   "source": [
    "a = tf.random.uniform(shape=(1000,8,1,64))\n",
    "b = tf.random.uniform(shape=(1000,8,1,64))\n",
    "add =tf.concat([a,b],2)\n",
    "print(add.shape)"
   ]
  },
  {
   "cell_type": "markdown",
   "metadata": {
    "id": "K0WP3DUvOMW_"
   },
   "source": [
    "## 1.1 Addition\n",
    "<pre> It is similar to numpy addition.</pre>"
   ]
  },
  {
   "cell_type": "code",
   "execution_count": 3,
   "metadata": {
    "colab": {
     "base_uri": "https://localhost:8080/",
     "height": 67
    },
    "id": "qcKl2W9qOMXC",
    "outputId": "36f8bb88-cd28-4335-a2df-93a31d1619de"
   },
   "outputs": [
    {
     "data": {
      "text/plain": [
       "<tf.Tensor: shape=(2, 2), dtype=float32, numpy=\n",
       "array([[0.6499524 , 0.16747773],\n",
       "       [0.59671044, 0.8154198 ]], dtype=float32)>"
      ]
     },
     "execution_count": 3,
     "metadata": {},
     "output_type": "execute_result"
    }
   ],
   "source": [
    "a = tf.random.uniform(shape=(2,2))\n",
    "a"
   ]
  },
  {
   "cell_type": "code",
   "execution_count": 4,
   "metadata": {
    "colab": {
     "base_uri": "https://localhost:8080/",
     "height": 67
    },
    "id": "COUVYv5BOMXO",
    "outputId": "de776902-5791-49b3-9840-87965d472f41"
   },
   "outputs": [
    {
     "data": {
      "text/plain": [
       "<tf.Tensor: shape=(2, 2), dtype=float32, numpy=\n",
       "array([[0.7495203 , 0.49469745],\n",
       "       [0.57392097, 0.9673873 ]], dtype=float32)>"
      ]
     },
     "execution_count": 4,
     "metadata": {},
     "output_type": "execute_result"
    }
   ],
   "source": [
    "b = tf.random.uniform(shape=(2,2))\n",
    "b"
   ]
  },
  {
   "cell_type": "code",
   "execution_count": 5,
   "metadata": {
    "id": "7I1KMCgiOMXV"
   },
   "outputs": [],
   "source": [
    "add = a + b"
   ]
  },
  {
   "cell_type": "code",
   "execution_count": 6,
   "metadata": {
    "colab": {
     "base_uri": "https://localhost:8080/",
     "height": 67
    },
    "id": "ksQu6lT6OMXa",
    "outputId": "27692d8c-a490-426f-a321-7d0b4396b4b7"
   },
   "outputs": [
    {
     "data": {
      "text/plain": [
       "<tf.Tensor: shape=(2, 2), dtype=float32, numpy=\n",
       "array([[1.3994727, 0.6621752],\n",
       "       [1.1706314, 1.7828071]], dtype=float32)>"
      ]
     },
     "execution_count": 6,
     "metadata": {},
     "output_type": "execute_result"
    }
   ],
   "source": [
    "add"
   ]
  },
  {
   "cell_type": "markdown",
   "metadata": {
    "id": "YPxWE4stOMXe"
   },
   "source": [
    "<pre>Broadcasting works similar to numpy.</pre>"
   ]
  },
  {
   "cell_type": "code",
   "execution_count": 7,
   "metadata": {
    "id": "kKaICOghOMXg"
   },
   "outputs": [],
   "source": [
    "c = 2.0"
   ]
  },
  {
   "cell_type": "code",
   "execution_count": 8,
   "metadata": {
    "id": "7pINN69LOMXn"
   },
   "outputs": [],
   "source": [
    "add_2 = a + c"
   ]
  },
  {
   "cell_type": "code",
   "execution_count": 9,
   "metadata": {
    "id": "LIaJTqAwOMXr",
    "outputId": "c510312e-78e7-45d0-d40d-52780d62b18c"
   },
   "outputs": [
    {
     "data": {
      "text/plain": [
       "<tf.Tensor: shape=(2, 2), dtype=float32, numpy=\n",
       "array([[2.6499524, 2.1674776],\n",
       "       [2.5967104, 2.8154197]], dtype=float32)>"
      ]
     },
     "execution_count": 9,
     "metadata": {},
     "output_type": "execute_result"
    }
   ],
   "source": [
    "add_2"
   ]
  },
  {
   "cell_type": "markdown",
   "metadata": {
    "id": "1rOJ8iYoOMXw"
   },
   "source": [
    "## 1.2 Subtraction\n",
    "<pre> It is similar to numpy Subtraction.</pre>"
   ]
  },
  {
   "cell_type": "code",
   "execution_count": 10,
   "metadata": {
    "id": "x8o22IU7OMXy",
    "outputId": "9bfb179f-8fad-4ef5-cdc6-7b918e37ac6e"
   },
   "outputs": [
    {
     "data": {
      "text/plain": [
       "<tf.Tensor: shape=(2, 2), dtype=float32, numpy=\n",
       "array([[0.17939949, 0.4045714 ],\n",
       "       [0.7606307 , 0.03632987]], dtype=float32)>"
      ]
     },
     "execution_count": 10,
     "metadata": {},
     "output_type": "execute_result"
    }
   ],
   "source": [
    "a = tf.random.uniform(shape=(2,2))\n",
    "a"
   ]
  },
  {
   "cell_type": "code",
   "execution_count": 11,
   "metadata": {
    "id": "IUEmz0MKOMX5",
    "outputId": "87012331-692b-4218-d7ff-33b2d97c0a1f"
   },
   "outputs": [
    {
     "data": {
      "text/plain": [
       "<tf.Tensor: shape=(2, 2), dtype=float32, numpy=\n",
       "array([[0.40210462, 0.68318295],\n",
       "       [0.00102985, 0.40726674]], dtype=float32)>"
      ]
     },
     "execution_count": 11,
     "metadata": {},
     "output_type": "execute_result"
    }
   ],
   "source": [
    "b = tf.random.uniform(shape=(2,2))\n",
    "b"
   ]
  },
  {
   "cell_type": "code",
   "execution_count": 12,
   "metadata": {
    "id": "vlGlc6CZOMX8"
   },
   "outputs": [],
   "source": [
    "sub = a - b"
   ]
  },
  {
   "cell_type": "code",
   "execution_count": 13,
   "metadata": {
    "id": "mEst3O84OMYB",
    "outputId": "36456888-3567-4e6e-df04-9cc606fd3b63"
   },
   "outputs": [
    {
     "data": {
      "text/plain": [
       "<tf.Tensor: shape=(2, 2), dtype=float32, numpy=\n",
       "array([[-0.22270513, -0.27861154],\n",
       "       [ 0.7596009 , -0.37093687]], dtype=float32)>"
      ]
     },
     "execution_count": 13,
     "metadata": {},
     "output_type": "execute_result"
    }
   ],
   "source": [
    "sub"
   ]
  },
  {
   "cell_type": "markdown",
   "metadata": {
    "id": "0fjRvsmIOMYG"
   },
   "source": [
    "## 1.3 Multiplication\n",
    "<pre>\n",
    "- For two dimensional matrices, you can multiply (m*n) and (n*p) and get (m*p)\n",
    "- for 3 dim matrices, you can multiply (b * n * p)  and (b * p * m)  and get (b * n * m). ( for any dim, you have to maintain last 2 dim as two dim multiplication and first n-2 dim has to be same. you will get better idea if you gothrough    all the operation which we have written below.)\n",
    "</pre>"
   ]
  },
  {
   "cell_type": "code",
   "execution_count": 14,
   "metadata": {
    "id": "OwTNd9c9OMYI",
    "outputId": "b7b2476c-db99-405d-e6f9-b09d9680adc7"
   },
   "outputs": [
    {
     "data": {
      "text/plain": [
       "<tf.Tensor: shape=(3, 2), dtype=float32, numpy=\n",
       "array([[0.9973576 , 0.4761908 ],\n",
       "       [0.18193936, 0.13768744],\n",
       "       [0.6251842 , 0.49971342]], dtype=float32)>"
      ]
     },
     "execution_count": 14,
     "metadata": {},
     "output_type": "execute_result"
    }
   ],
   "source": [
    "a = tf.random.uniform(shape=(3,2))\n",
    "a"
   ]
  },
  {
   "cell_type": "code",
   "execution_count": 15,
   "metadata": {
    "id": "9Z3SOY-9OMYL",
    "outputId": "3a2c4ef2-bf07-44d3-dda3-0d51c21aee48"
   },
   "outputs": [
    {
     "data": {
      "text/plain": [
       "<tf.Tensor: shape=(2, 4), dtype=float32, numpy=\n",
       "array([[0.8212011 , 0.9376087 , 0.87685764, 0.9662738 ],\n",
       "       [0.99870837, 0.69951665, 0.4080813 , 0.8482678 ]], dtype=float32)>"
      ]
     },
     "execution_count": 15,
     "metadata": {},
     "output_type": "execute_result"
    }
   ],
   "source": [
    "b = tf.random.uniform(shape=(2,4))\n",
    "b"
   ]
  },
  {
   "cell_type": "code",
   "execution_count": 16,
   "metadata": {
    "id": "4PKZKq6COMYP",
    "outputId": "858e7e21-e17e-486d-8089-d56ac69f356f"
   },
   "outputs": [
    {
     "data": {
      "text/plain": [
       "<tf.Tensor: shape=(3, 4), dtype=float32, numpy=\n",
       "array([[1.2946069 , 1.2682346 , 1.0688652 , 1.3676578 ],\n",
       "       [0.2869184 , 0.2669026 , 0.21572259, 0.29259908],\n",
       "       [1.0124699 , 0.93573594, 0.7521212 , 1.0279899 ]], dtype=float32)>"
      ]
     },
     "execution_count": 16,
     "metadata": {},
     "output_type": "execute_result"
    }
   ],
   "source": [
    "tf.matmul(a, b)# (3*2)@(2*4) = (3*4)"
   ]
  },
  {
   "cell_type": "markdown",
   "metadata": {
    "id": "gYtPMQCFOMYV"
   },
   "source": [
    "   "
   ]
  },
  {
   "cell_type": "markdown",
   "metadata": {
    "id": "qx21Dbw3OMYY"
   },
   "source": [
    "   "
   ]
  },
  {
   "cell_type": "code",
   "execution_count": 17,
   "metadata": {
    "id": "SKVwmcKROMYY",
    "outputId": "91d8271f-1792-4f19-8997-785831f47032"
   },
   "outputs": [
    {
     "data": {
      "text/plain": [
       "<tf.Tensor: shape=(3, 2, 4), dtype=float32, numpy=\n",
       "array([[[0.17811036, 0.28580666, 0.16233277, 0.42602408],\n",
       "        [0.6194595 , 0.6819993 , 0.61603904, 0.8739135 ]],\n",
       "\n",
       "       [[0.40818918, 0.9405874 , 0.8659258 , 0.6044761 ],\n",
       "        [0.20482647, 0.07359517, 0.12711442, 0.43835557]],\n",
       "\n",
       "       [[0.47314548, 0.69676065, 0.54311645, 0.4736526 ],\n",
       "        [0.0257628 , 0.4826578 , 0.41990912, 0.97318375]]], dtype=float32)>"
      ]
     },
     "execution_count": 17,
     "metadata": {},
     "output_type": "execute_result"
    }
   ],
   "source": [
    "a = tf.random.uniform(shape=(3,2,4))\n",
    "a"
   ]
  },
  {
   "cell_type": "code",
   "execution_count": 18,
   "metadata": {
    "id": "mzkP827ROMYd",
    "outputId": "f4982e2e-0f8b-4a2a-f552-b5bc5797e5e7"
   },
   "outputs": [
    {
     "data": {
      "text/plain": [
       "<tf.Tensor: shape=(3, 4, 3), dtype=float32, numpy=\n",
       "array([[[0.55204403, 0.26463556, 0.7468889 ],\n",
       "        [0.18534565, 0.7820047 , 0.8072634 ],\n",
       "        [0.90029526, 0.701704  , 0.9371792 ],\n",
       "        [0.78834355, 0.35477924, 0.9775859 ]],\n",
       "\n",
       "       [[0.8973055 , 0.5912453 , 0.74950445],\n",
       "        [0.04995251, 0.95794153, 0.71644044],\n",
       "        [0.91508436, 0.06710386, 0.21256924],\n",
       "        [0.3068931 , 0.6006814 , 0.20080769]],\n",
       "\n",
       "       [[0.21216285, 0.56156325, 0.10620093],\n",
       "        [0.8334284 , 0.99343157, 0.22544956],\n",
       "        [0.40063727, 0.18249238, 0.9892124 ],\n",
       "        [0.15096748, 0.23689616, 0.9017099 ]]], dtype=float32)>"
      ]
     },
     "execution_count": 18,
     "metadata": {},
     "output_type": "execute_result"
    }
   ],
   "source": [
    "b = tf.random.uniform(shape=(3,4,3))\n",
    "b"
   ]
  },
  {
   "cell_type": "code",
   "execution_count": 19,
   "metadata": {
    "id": "5czLohlFOMYg",
    "outputId": "c786fe34-52f4-471d-fe02-dff13776af91"
   },
   "outputs": [
    {
     "data": {
      "text/plain": [
       "<tf.Tensor: shape=(3, 2, 3), dtype=float32, numpy=\n",
       "array([[[0.6332985 , 0.53569055, 0.93235993],\n",
       "        [1.7119358 , 1.4395812 , 2.444885  ]],\n",
       "\n",
       "       [[1.3911599 , 1.5635723 , 1.2852671 ],\n",
       "        [0.4383169 , 0.46344447, 0.32129067]],\n",
       "\n",
       "       [[0.9701828 , 1.1692063 , 1.1716876 ],\n",
       "        [0.7228769 , 0.8011286 , 1.4044597 ]]], dtype=float32)>"
      ]
     },
     "execution_count": 19,
     "metadata": {},
     "output_type": "execute_result"
    }
   ],
   "source": [
    "tf.matmul(a, b) #(3*2*4)@(3*4*3) = (3*2*3)"
   ]
  },
  {
   "cell_type": "markdown",
   "metadata": {
    "id": "XYmcWP5fOMYj"
   },
   "source": [
    "    "
   ]
  },
  {
   "cell_type": "markdown",
   "metadata": {
    "id": "WzrmujBNOMYm"
   },
   "source": [
    "  "
   ]
  },
  {
   "cell_type": "code",
   "execution_count": 20,
   "metadata": {
    "id": "c8OvUeISOMYp",
    "outputId": "ba7ecb53-eaf5-4661-e773-afa56b29fc21"
   },
   "outputs": [
    {
     "data": {
      "text/plain": [
       "<tf.Tensor: shape=(3, 2, 2, 4), dtype=float32, numpy=\n",
       "array([[[[0.7184186 , 0.14843166, 0.71186244, 0.8527241 ],\n",
       "         [0.30536866, 0.44231093, 0.4589758 , 0.55727077]],\n",
       "\n",
       "        [[0.16869795, 0.24479806, 0.62146485, 0.30831254],\n",
       "         [0.8377447 , 0.852216  , 0.4254843 , 0.77525747]]],\n",
       "\n",
       "\n",
       "       [[[0.2052486 , 0.7190188 , 0.8543308 , 0.92802525],\n",
       "         [0.1185323 , 0.20708907, 0.9091829 , 0.3118956 ]],\n",
       "\n",
       "        [[0.59783125, 0.01476181, 0.04300439, 0.01374245],\n",
       "         [0.6885321 , 0.17942297, 0.8384657 , 0.83359826]]],\n",
       "\n",
       "\n",
       "       [[[0.4054352 , 0.36312008, 0.6979109 , 0.3803197 ],\n",
       "         [0.09626126, 0.7653775 , 0.2049874 , 0.8765118 ]],\n",
       "\n",
       "        [[0.4254043 , 0.38138497, 0.882324  , 0.8766757 ],\n",
       "         [0.36564362, 0.15044034, 0.54328525, 0.82739305]]]],\n",
       "      dtype=float32)>"
      ]
     },
     "execution_count": 20,
     "metadata": {},
     "output_type": "execute_result"
    }
   ],
   "source": [
    "a = tf.random.uniform(shape=(3,2,2,4))\n",
    "a"
   ]
  },
  {
   "cell_type": "code",
   "execution_count": 21,
   "metadata": {
    "id": "Ap6ISJUTOMYs",
    "outputId": "85582bc7-53e7-4469-ba90-f8620c723c15"
   },
   "outputs": [
    {
     "data": {
      "text/plain": [
       "<tf.Tensor: shape=(3, 2, 4, 3), dtype=float32, numpy=\n",
       "array([[[[0.4411626 , 0.7209413 , 0.6599796 ],\n",
       "         [0.7556913 , 0.9659275 , 0.9132501 ],\n",
       "         [0.14837885, 0.47183418, 0.7352481 ],\n",
       "         [0.2661444 , 0.93835616, 0.39484167]],\n",
       "\n",
       "        [[0.49822116, 0.6981957 , 0.0848527 ],\n",
       "         [0.6514456 , 0.78200924, 0.57456756],\n",
       "         [0.94715416, 0.6714953 , 0.2333901 ],\n",
       "         [0.5267391 , 0.532832  , 0.32587743]]],\n",
       "\n",
       "\n",
       "       [[[0.08916867, 0.99705637, 0.8560989 ],\n",
       "         [0.32848668, 0.50349927, 0.89392745],\n",
       "         [0.7025205 , 0.7224016 , 0.4031911 ],\n",
       "         [0.6416093 , 0.8364837 , 0.31542957]],\n",
       "\n",
       "        [[0.14763308, 0.7753153 , 0.17125785],\n",
       "         [0.86503696, 0.02571177, 0.39216113],\n",
       "         [0.4859295 , 0.38635266, 0.34214747],\n",
       "         [0.6847409 , 0.8668537 , 0.4736582 ]]],\n",
       "\n",
       "\n",
       "       [[[0.15213776, 0.37999249, 0.9236163 ],\n",
       "         [0.98919713, 0.15013218, 0.27335262],\n",
       "         [0.48181164, 0.63145936, 0.72944903],\n",
       "         [0.22130704, 0.09622037, 0.15854704]],\n",
       "\n",
       "        [[0.89899933, 0.58253205, 0.26528203],\n",
       "         [0.49166465, 0.04017341, 0.6618804 ],\n",
       "         [0.9878156 , 0.8401201 , 0.29608965],\n",
       "         [0.29364288, 0.07976186, 0.6441667 ]]]], dtype=float32)>"
      ]
     },
     "execution_count": 21,
     "metadata": {},
     "output_type": "execute_result"
    }
   ],
   "source": [
    "b = tf.random.uniform(shape=(3,2,4,3))\n",
    "b"
   ]
  },
  {
   "cell_type": "code",
   "execution_count": 22,
   "metadata": {
    "id": "gyzlUiPuOMYv",
    "outputId": "6398669a-01d9-4d1a-819f-4c1ea453d852"
   },
   "outputs": [
    {
     "data": {
      "text/plain": [
       "<tf.Tensor: shape=(3, 2, 2, 3), dtype=float32, numpy=\n",
       "array([[[[0.761681  , 1.7973518 , 1.4697833 ],\n",
       "         [0.6853845 , 1.386872  , 1.1629725 ]],\n",
       "\n",
       "        [[0.99454486, 0.89080805, 0.40048334],\n",
       "         [1.7839123 , 1.9501432 , 0.91268337]]],\n",
       "\n",
       "\n",
       "       [[[1.4501044 , 1.9601178 , 1.455649  ],\n",
       "         [0.9174301 , 1.1401434 , 0.7515535 ]],\n",
       "\n",
       "        [[0.13133629, 0.49241483, 0.12939537],\n",
       "         [1.2350917 , 1.5849938 , 0.8699988 ]]],\n",
       "\n",
       "\n",
       "       [[[0.8413084 , 0.68587524, 1.0431154 ],\n",
       "         [1.0644977 , 0.36526585, 0.58662266]],\n",
       "\n",
       "        [[1.6989546 , 1.0743165 , 1.1912557 ],\n",
       "         [1.1823033 , 0.7414621 , 0.8904124 ]]]], dtype=float32)>"
      ]
     },
     "execution_count": 22,
     "metadata": {},
     "output_type": "execute_result"
    }
   ],
   "source": [
    "tf.matmul(a,b) # (3*2*2*4)@(3*2*4*3)=(3*2*2*3)"
   ]
  },
  {
   "cell_type": "markdown",
   "metadata": {
    "id": "vhFWsCP1OMY0"
   },
   "source": [
    "## 1. 4 Transpose\n",
    "<pre>    - matrix transpose. </pre>"
   ]
  },
  {
   "cell_type": "code",
   "execution_count": 23,
   "metadata": {
    "id": "chFxqDYUOMY0",
    "outputId": "8f695cd4-a9fa-4e36-9775-6f13dad25ac1"
   },
   "outputs": [
    {
     "data": {
      "text/plain": [
       "<tf.Tensor: shape=(3, 2), dtype=float32, numpy=\n",
       "array([[0.46587265, 0.1408552 ],\n",
       "       [0.62029564, 0.4903072 ],\n",
       "       [0.74175525, 0.09108174]], dtype=float32)>"
      ]
     },
     "execution_count": 23,
     "metadata": {},
     "output_type": "execute_result"
    }
   ],
   "source": [
    "a = tf.random.uniform(shape=(3,2))\n",
    "a"
   ]
  },
  {
   "cell_type": "code",
   "execution_count": 24,
   "metadata": {
    "id": "hcgW9_ctOMY5",
    "outputId": "7cee185b-054f-4300-d5b9-48b9665ce266"
   },
   "outputs": [
    {
     "data": {
      "text/plain": [
       "TensorShape([3, 2])"
      ]
     },
     "execution_count": 24,
     "metadata": {},
     "output_type": "execute_result"
    }
   ],
   "source": [
    "a.shape"
   ]
  },
  {
   "cell_type": "code",
   "execution_count": 25,
   "metadata": {
    "id": "2qoOVv8pOMY9",
    "outputId": "9e01e07a-026e-499e-ac90-781bd8edd78e"
   },
   "outputs": [
    {
     "data": {
      "text/plain": [
       "<tf.Tensor: shape=(2, 3), dtype=float32, numpy=\n",
       "array([[0.46587265, 0.62029564, 0.74175525],\n",
       "       [0.1408552 , 0.4903072 , 0.09108174]], dtype=float32)>"
      ]
     },
     "execution_count": 25,
     "metadata": {},
     "output_type": "execute_result"
    }
   ],
   "source": [
    "tf.transpose(a)"
   ]
  },
  {
   "cell_type": "markdown",
   "metadata": {
    "id": "BwTCIpAQOMZA"
   },
   "source": [
    "<pre>We have a \"perm\" argument for transpose function, in that you can define your own way to change rows and column positions. as shown below</pre>"
   ]
  },
  {
   "cell_type": "code",
   "execution_count": 26,
   "metadata": {
    "id": "iMyw2YIAOMZB",
    "outputId": "62093672-34a0-4f2d-a0db-3c7648ec3485"
   },
   "outputs": [
    {
     "data": {
      "text/plain": [
       "TensorShape([3, 2, 5, 4])"
      ]
     },
     "execution_count": 26,
     "metadata": {},
     "output_type": "execute_result"
    }
   ],
   "source": [
    "a = tf.random.uniform(shape=(3,2,5,4))\n",
    "a.shape"
   ]
  },
  {
   "cell_type": "code",
   "execution_count": 27,
   "metadata": {
    "id": "GUquLpjJOMZG"
   },
   "outputs": [],
   "source": [
    "a_transpose = tf.transpose(a, perm=[0, 2, 1, 3])"
   ]
  },
  {
   "cell_type": "code",
   "execution_count": 28,
   "metadata": {
    "id": "4K7g_bAsOMZK",
    "outputId": "ef86f009-d814-4b24-cc5b-abee06aa420a"
   },
   "outputs": [
    {
     "data": {
      "text/plain": [
       "TensorShape([3, 5, 2, 4])"
      ]
     },
     "execution_count": 28,
     "metadata": {},
     "output_type": "execute_result"
    }
   ],
   "source": [
    "a_transpose.shape"
   ]
  },
  {
   "cell_type": "markdown",
   "metadata": {
    "id": "zmDQktLGOMZO"
   },
   "source": [
    "<pre>My transposed matrix dim changed based on pem values( we transposed 1 and 2 axis only). you can check below example in that we chnaged all the axis</pre>"
   ]
  },
  {
   "cell_type": "code",
   "execution_count": 29,
   "metadata": {
    "id": "pD1ytjz0OMZP",
    "outputId": "b2acaecd-9ef3-4263-9eca-c8f91958cbfe"
   },
   "outputs": [
    {
     "data": {
      "text/plain": [
       "TensorShape([3, 2, 5, 4])"
      ]
     },
     "execution_count": 29,
     "metadata": {},
     "output_type": "execute_result"
    }
   ],
   "source": [
    "a = tf.random.uniform(shape=(3,2,5,4))\n",
    "a.shape"
   ]
  },
  {
   "cell_type": "code",
   "execution_count": 30,
   "metadata": {
    "id": "IagVMwNjOMZR"
   },
   "outputs": [],
   "source": [
    "a_transpose = tf.transpose(a, perm=[3, 2, 1, 0])"
   ]
  },
  {
   "cell_type": "code",
   "execution_count": 31,
   "metadata": {
    "id": "rbcCTZuiOMZU",
    "outputId": "9d0c0432-706c-4b04-c0bb-fab83d6192ff"
   },
   "outputs": [
    {
     "data": {
      "text/plain": [
       "TensorShape([4, 5, 2, 3])"
      ]
     },
     "execution_count": 31,
     "metadata": {},
     "output_type": "execute_result"
    }
   ],
   "source": [
    "a_transpose.shape"
   ]
  },
  {
   "cell_type": "markdown",
   "metadata": {
    "id": "_galZ10JOMZX"
   },
   "source": [
    "## 1. 4 Element wise operation"
   ]
  },
  {
   "cell_type": "markdown",
   "metadata": {
    "id": "luaCDJ_8OMZY"
   },
   "source": [
    "### 1.4.1 Multiply Respective elements in two matrices\n",
    "Ex: \n",
    "<pre>\n",
    "A = [[1 2],\n",
    "     [3,4]]\n",
    "\n",
    "B = [[5,6],\n",
    "     [7,8]]\n",
    "\n",
    "we want A*B as \n",
    "[A[0][0]*B[0][0], A[0][1]*B[0][1]\n",
    "A[1][0]*B[1][0], A[1][1]*B[1][1]]\n",
    "</pre>"
   ]
  },
  {
   "cell_type": "code",
   "execution_count": 32,
   "metadata": {
    "id": "rIOB8zyIOMZZ",
    "outputId": "3ec7c53e-9347-4950-8359-443895d507b8"
   },
   "outputs": [
    {
     "data": {
      "text/plain": [
       "<tf.Tensor: shape=(3, 2), dtype=float32, numpy=\n",
       "array([[0.5384263 , 0.06602383],\n",
       "       [0.44988608, 0.8570112 ],\n",
       "       [0.804605  , 0.16969979]], dtype=float32)>"
      ]
     },
     "execution_count": 32,
     "metadata": {},
     "output_type": "execute_result"
    }
   ],
   "source": [
    "a = tf.random.uniform(shape=(3,2))\n",
    "a"
   ]
  },
  {
   "cell_type": "code",
   "execution_count": 33,
   "metadata": {
    "id": "kJxr1BFgOMZc",
    "outputId": "f1404940-d2f2-4f8e-d887-6863e9112890"
   },
   "outputs": [
    {
     "data": {
      "text/plain": [
       "<tf.Tensor: shape=(3, 2), dtype=float32, numpy=\n",
       "array([[0.14350879, 0.8242574 ],\n",
       "       [0.4843732 , 0.95032823],\n",
       "       [0.02389646, 0.11150312]], dtype=float32)>"
      ]
     },
     "execution_count": 33,
     "metadata": {},
     "output_type": "execute_result"
    }
   ],
   "source": [
    "b = tf.random.uniform(shape=(3,2))\n",
    "b"
   ]
  },
  {
   "cell_type": "code",
   "execution_count": 34,
   "metadata": {
    "id": "qszNHNK8OMZe",
    "outputId": "b2cf32a9-29dd-485b-e845-b8e1e788324a"
   },
   "outputs": [
    {
     "data": {
      "text/plain": [
       "<tf.Tensor: shape=(3, 2), dtype=float32, numpy=\n",
       "array([[0.07726891, 0.05442063],\n",
       "       [0.21791276, 0.8144419 ],\n",
       "       [0.01922721, 0.01892206]], dtype=float32)>"
      ]
     },
     "execution_count": 34,
     "metadata": {},
     "output_type": "execute_result"
    }
   ],
   "source": [
    "a * b"
   ]
  },
  {
   "cell_type": "code",
   "execution_count": 35,
   "metadata": {
    "id": "PLWk8lQkOMZg",
    "outputId": "7e4d4b95-e10e-48a2-e123-5ac3b5ada568"
   },
   "outputs": [
    {
     "data": {
      "text/plain": [
       "<tf.Tensor: shape=(3, 2), dtype=float32, numpy=\n",
       "array([[0.07726891, 0.05442063],\n",
       "       [0.21791276, 0.8144419 ],\n",
       "       [0.01922721, 0.01892206]], dtype=float32)>"
      ]
     },
     "execution_count": 35,
     "metadata": {},
     "output_type": "execute_result"
    }
   ],
   "source": [
    "tf.multiply(a, b)"
   ]
  },
  {
   "cell_type": "markdown",
   "metadata": {
    "id": "k6KnJSQ9OMZi"
   },
   "source": [
    "<pre>You can do a*b or you can use tf.multiply</pre>"
   ]
  },
  {
   "cell_type": "markdown",
   "metadata": {
    "id": "z8dLCOEaOMZj"
   },
   "source": [
    "## 1.5 Expanding Dimensions"
   ]
  },
  {
   "cell_type": "code",
   "execution_count": 36,
   "metadata": {
    "id": "GrSkSucPOMZj",
    "outputId": "66be7e9f-b2d9-4045-9b1f-a85e35d3cd1a"
   },
   "outputs": [
    {
     "data": {
      "text/plain": [
       "TensorShape([3, 2])"
      ]
     },
     "execution_count": 36,
     "metadata": {},
     "output_type": "execute_result"
    }
   ],
   "source": [
    "a = tf.random.uniform(shape=(3,2))\n",
    "a.shape"
   ]
  },
  {
   "cell_type": "code",
   "execution_count": 37,
   "metadata": {
    "id": "Ea9KHLbSOMZm"
   },
   "outputs": [],
   "source": [
    "a_add = tf.expand_dims(a, axis=1)#we are adding an additional axis at 1st dim"
   ]
  },
  {
   "cell_type": "code",
   "execution_count": 38,
   "metadata": {
    "id": "YfcxwikXOMZq",
    "outputId": "b735dccc-a254-47b9-9ee0-c0077237deb9"
   },
   "outputs": [
    {
     "data": {
      "text/plain": [
       "TensorShape([3, 1, 2])"
      ]
     },
     "execution_count": 38,
     "metadata": {},
     "output_type": "execute_result"
    }
   ],
   "source": [
    "a_add.shape"
   ]
  },
  {
   "cell_type": "markdown",
   "metadata": {
    "id": "16tS1mknOMZu"
   },
   "source": [
    "  \n",
    "  "
   ]
  },
  {
   "cell_type": "markdown",
   "metadata": {
    "id": "t28TsjlQOMZv"
   },
   "source": [
    "  "
   ]
  },
  {
   "cell_type": "code",
   "execution_count": 39,
   "metadata": {
    "id": "2q_MkdrgOMZw",
    "outputId": "dd3d6bd9-8bd4-441e-c51e-8a4d0432770c"
   },
   "outputs": [
    {
     "data": {
      "text/plain": [
       "TensorShape([3, 2])"
      ]
     },
     "execution_count": 39,
     "metadata": {},
     "output_type": "execute_result"
    }
   ],
   "source": [
    "a = tf.random.uniform(shape=(3,2))\n",
    "a.shape"
   ]
  },
  {
   "cell_type": "code",
   "execution_count": 40,
   "metadata": {
    "id": "A3UzTFUFOMZ0"
   },
   "outputs": [],
   "source": [
    "a_add = tf.expand_dims(a, axis=2)#we are adding an additional axis at 2nd dim"
   ]
  },
  {
   "cell_type": "code",
   "execution_count": 41,
   "metadata": {
    "id": "fc4R99CxOMZ2",
    "outputId": "fbb6308d-198b-4437-af9d-1afb3d2c6b72"
   },
   "outputs": [
    {
     "data": {
      "text/plain": [
       "TensorShape([3, 2, 1])"
      ]
     },
     "execution_count": 41,
     "metadata": {},
     "output_type": "execute_result"
    }
   ],
   "source": [
    "a_add.shape"
   ]
  },
  {
   "cell_type": "markdown",
   "metadata": {
    "id": "OQayeY4wOMZ5"
   },
   "source": [
    "## 1.6 Squeezing dimensions"
   ]
  },
  {
   "cell_type": "markdown",
   "metadata": {
    "id": "AVomMzI6OMZ6"
   },
   "source": [
    "<pre>\n",
    "Note that we can squeeze along with the axis with shape 1\n",
    "\n",
    "Ex: \n",
    "A.shape= [3,4,1] ==> we can squeez it on axis=2 will give [3,4]\n",
    "A.shape= [3,1,4] ==> we can squeez it on axis=1 will give [3,4]\n",
    "A.shape= [1,3,4] ==> we can squeez it on axis=0 will give [3,4]\n",
    "A.shape= [2,3,4] ==> we can't squeez it on any of the axis\n",
    "\n",
    "</pre>"
   ]
  },
  {
   "cell_type": "code",
   "execution_count": 42,
   "metadata": {
    "id": "FYqN12oiOMZ9",
    "outputId": "18ea673d-f869-4d7a-e369-4bcc976cde32"
   },
   "outputs": [
    {
     "data": {
      "text/plain": [
       "TensorShape([3, 1, 4])"
      ]
     },
     "execution_count": 42,
     "metadata": {},
     "output_type": "execute_result"
    }
   ],
   "source": [
    "a = tf.random.uniform(shape=(3,1,4))\n",
    "a.shape"
   ]
  },
  {
   "cell_type": "code",
   "execution_count": 43,
   "metadata": {
    "id": "-H6UcJfJOMaA"
   },
   "outputs": [],
   "source": [
    "a_squ = tf.squeeze(a, axis=1)"
   ]
  },
  {
   "cell_type": "code",
   "execution_count": 44,
   "metadata": {
    "id": "RTxBvofpOMaD",
    "outputId": "60a18069-76fd-405a-97e2-47962e7555f1",
    "scrolled": true
   },
   "outputs": [
    {
     "data": {
      "text/plain": [
       "<tf.Tensor: shape=(3, 4), dtype=float32, numpy=\n",
       "array([[0.38707352, 0.37173057, 0.19045103, 0.6189842 ],\n",
       "       [0.5428276 , 0.9659871 , 0.95560646, 0.38637507],\n",
       "       [0.7443099 , 0.92989135, 0.49952495, 0.93732953]], dtype=float32)>"
      ]
     },
     "execution_count": 44,
     "metadata": {},
     "output_type": "execute_result"
    }
   ],
   "source": [
    "a_squ"
   ]
  },
  {
   "cell_type": "markdown",
   "metadata": {
    "id": "_SArBwQROMaE"
   },
   "source": [
    "## 1.7 Reshaping of tensors\n",
    "\n",
    "<a href='https://www.tensorflow.org/api_docs/python/tf/reshape'> check the documentation </a>"
   ]
  },
  {
   "cell_type": "code",
   "execution_count": 45,
   "metadata": {
    "colab": {
     "base_uri": "https://localhost:8080/",
     "height": 34
    },
    "id": "wEjdOLJROMaF",
    "outputId": "19bf779c-fe88-4a85-9891-81647f90a99b"
   },
   "outputs": [
    {
     "name": "stdout",
     "output_type": "stream",
     "text": [
      "(5, 3, 4) (15, 4)\n"
     ]
    }
   ],
   "source": [
    "a = tf.random.uniform(shape=(5,3,4))\n",
    "\n",
    "# tf.reshape(tensor, [reshape dimensions]])\n",
    "b = tf.reshape(a, [a.shape[0]*a.shape[1],a.shape[2]])\n",
    "\n",
    "print(a.shape, b.shape)"
   ]
  },
  {
   "cell_type": "markdown",
   "metadata": {
    "id": "USHug53cOMaI"
   },
   "source": [
    "# 2. Call Backs"
   ]
  },
  {
   "cell_type": "code",
   "execution_count": 46,
   "metadata": {
    "id": "pYFub-clOMaJ"
   },
   "outputs": [],
   "source": [
    "import numpy as np\n",
    "import pandas as pd"
   ]
  },
  {
   "cell_type": "code",
   "execution_count": 47,
   "metadata": {
    "id": "Edk77ekZOMaM"
   },
   "outputs": [
    {
     "name": "stdout",
     "output_type": "stream",
     "text": [
      "Downloading data from https://storage.googleapis.com/tensorflow/tf-keras-datasets/mnist.npz\n",
      "11493376/11490434 [==============================] - 2s 0us/step\n",
      "11501568/11490434 [==============================] - 2s 0us/step\n"
     ]
    }
   ],
   "source": [
    "(X_train, y_train), (X_test, y_test) = tf.keras.datasets.mnist.load_data()\n",
    "# if you observe the input shape its 3 dimensional vector\n",
    "# for each image we have a (28*28) vector\n",
    "# we will convert the (28*28) vector into single dimensional vector of 1 * 784 \n",
    "X_train = X_train.reshape(X_train.shape[0], X_train.shape[1]*X_train.shape[2]) \n",
    "X_test = X_test.reshape(X_test.shape[0], X_test.shape[1]*X_test.shape[2]) \n",
    "Y_train = tf.keras.utils.to_categorical(y_train, 10) \n",
    "Y_test = tf.keras.utils.to_categorical(y_test, 10)"
   ]
  },
  {
   "cell_type": "code",
   "execution_count": 48,
   "metadata": {
    "colab": {
     "base_uri": "https://localhost:8080/"
    },
    "id": "9zuUwtN0OMaO",
    "outputId": "e67c5a2d-a1ae-4520-91b3-4dfe41adfb46"
   },
   "outputs": [
    {
     "name": "stdout",
     "output_type": "stream",
     "text": [
      "(60000, 784)\n",
      "(10000, 784)\n",
      "(60000, 10)\n",
      "(10000, 10)\n"
     ]
    }
   ],
   "source": [
    "print(X_train.shape)\n",
    "print(X_test.shape)\n",
    "print(Y_train.shape)\n",
    "print(Y_test.shape)"
   ]
  },
  {
   "cell_type": "code",
   "execution_count": 49,
   "metadata": {
    "id": "U6sg7WeVOMaP"
   },
   "outputs": [],
   "source": [
    "from tensorflow.keras.layers import Dense,Input,Activation\n",
    "from tensorflow.keras.models import Model\n",
    "import random as rn"
   ]
  },
  {
   "cell_type": "markdown",
   "metadata": {
    "id": "t_psPfAhOMaR"
   },
   "source": [
    "## 2.1 Writing custom call backs"
   ]
  },
  {
   "cell_type": "markdown",
   "metadata": {
    "id": "N2zS015yOMaR"
   },
   "source": [
    "<pre>In Keras, Callback is a python class meant to be subclassed to provide specific functionality, <br> with a set of methods called at various stages of training (including batch/epoch start and ends), <br> testing, and predicting. Callbacks are useful to get a view on internal states and statistics of the model during training</pre>"
   ]
  },
  {
   "cell_type": "markdown",
   "metadata": {
    "id": "Up_jqqGfOMaS"
   },
   "source": [
    "<pre>\n",
    "<b>Writing Call Backs</b> - You can inherit from <b>`tf.keras.callbacks.Callback`</b>,<br> Copied the code for callback class from tensorflow documentation and pased in below cell, you can check that code. <br>It has many methods like batch/epoch_begin/end. so you can do manipulate the model parameters or <br>print the required outputs using these methods.<br> The `logs` dict contains the loss value, and all the metrics at the end of a batch or epoch\n",
    "\n",
    "</pre>\n",
    "> <a href='https://www.w3schools.com/python/python_inheritance.asp'> Do Read this Blog to understand how to inhert other classes </a>"
   ]
  },
  {
   "cell_type": "code",
   "execution_count": null,
   "metadata": {
    "id": "Cv88yZ_pOMaT"
   },
   "outputs": [],
   "source": [
    "class Callback(object):\n",
    "    \n",
    "    \"\"\"Abstract base class used to build new callbacks.\n",
    "      Attributes:\n",
    "          params: dict. Training parameters\n",
    "              (eg. verbosity, batch size, number of epochs...).\n",
    "          model: instance of `keras.models.Model`.\n",
    "              Reference of the model being trained.\n",
    "          validation_data: Deprecated. Do not use.\n",
    "      The `logs` dictionary that callback methods\n",
    "      take as argument will contain keys for quantities relevant to\n",
    "      the current batch or epoch.\n",
    "      Currently, the `.fit()` method of the `Model` class\n",
    "      will include the following quantities in the `logs` that\n",
    "      it passes to its callbacks:\n",
    "          on_epoch_end: logs include `acc` and `loss`, and\n",
    "          optionally include `val_loss`\n",
    "          (if validation is enabled in `fit`), and `val_acc`\n",
    "          (if validation and accuracy monitoring are enabled).\n",
    "          on_batch_begin: logs include `size`,\n",
    "          the number of samples in the current batch.\n",
    "          on_batch_end: logs include `loss`, and optionally `acc`\n",
    "            (if accuracy monitoring is enabled).\n",
    "      \"\"\"\n",
    "\n",
    "    def __init__(self):\n",
    "        self.validation_data = None\n",
    "        self.model = None\n",
    "        # Whether this Callback should only run on the chief worker in a\n",
    "        # Multi-Worker setting.\n",
    "        # TODO(omalleyt): Make this attr public once solution is stable.\n",
    "        self._chief_worker_only = None\n",
    "\n",
    "    def set_params(self, params):\n",
    "        self.params = params\n",
    "\n",
    "    def set_model(self, model):\n",
    "        self.model = model\n",
    "\n",
    "    def on_batch_begin(self, batch, logs=None):\n",
    "        \"\"\"A backwards compatibility alias for `on_train_batch_begin`.\"\"\"\n",
    "\n",
    "    def on_batch_end(self, batch, logs=None):\n",
    "        \"\"\"A backwards compatibility alias for `on_train_batch_end`.\"\"\"\n",
    "\n",
    "    def on_epoch_begin(self, epoch, logs=None):\n",
    "        \"\"\"Called at the start of an epoch.\n",
    "        Subclasses should override for any actions to run. This function should only\n",
    "        be called during TRAIN mode.\n",
    "        Arguments:\n",
    "            epoch: integer, index of epoch.\n",
    "            logs: dict. Currently no data is passed to this argument for this method\n",
    "              but that may change in the future.\n",
    "        \"\"\"\n",
    "\n",
    "    def on_epoch_end(self, epoch, logs=None):\n",
    "        \"\"\"Called at the end of an epoch.\n",
    "        Subclasses should override for any actions to run. This function should only\n",
    "        be called during TRAIN mode.\n",
    "        Arguments:\n",
    "            epoch: integer, index of epoch.\n",
    "            logs: dict, metric results for this training epoch, and for the\n",
    "              validation epoch if validation is performed. Validation result keys\n",
    "              are prefixed with `val_`.\n",
    "        \"\"\"\n",
    "\n",
    "    def on_train_batch_begin(self, batch, logs=None):\n",
    "        \"\"\"Called at the beginning of a training batch in `fit` methods.\n",
    "        Subclasses should override for any actions to run.\n",
    "        Arguments:\n",
    "            batch: integer, index of batch within the current epoch.\n",
    "            logs: dict. Has keys `batch` and `size` representing the current batch\n",
    "              number and the size of the batch.\n",
    "        \"\"\"\n",
    "        # For backwards compatibility.\n",
    "        self.on_batch_begin(batch, logs=logs)\n",
    "\n",
    "    def on_train_batch_end(self, batch, logs=None):\n",
    "        \"\"\"Called at the end of a training batch in `fit` methods.\n",
    "        Subclasses should override for any actions to run.\n",
    "        Arguments:\n",
    "            batch: integer, index of batch within the current epoch.\n",
    "            logs: dict. Metric results for this batch.\n",
    "        \"\"\"\n",
    "        # For backwards compatibility.\n",
    "        self.on_batch_end(batch, logs=logs)\n",
    "\n",
    "    def on_test_batch_begin(self, batch, logs=None):\n",
    "        \"\"\"Called at the beginning of a batch in `evaluate` methods.\n",
    "        Also called at the beginning of a validation batch in the `fit`\n",
    "        methods, if validation data is provided.\n",
    "        Subclasses should override for any actions to run.\n",
    "        Arguments:\n",
    "            batch: integer, index of batch within the current epoch.\n",
    "            logs: dict. Has keys `batch` and `size` representing the current batch\n",
    "                  number and the size of the batch.\n",
    "        \"\"\"\n",
    "\n",
    "    def on_test_batch_end(self, batch, logs=None):\n",
    "        \"\"\"Called at the end of a batch in `evaluate` methods.\n",
    "        Also called at the end of a validation batch in the `fit`\n",
    "        methods, if validation data is provided.\n",
    "        Subclasses should override for any actions to run.\n",
    "        Arguments:\n",
    "            batch: integer, index of batch within the current epoch.\n",
    "            logs: dict. Metric results for this batch.\n",
    "        \"\"\"\n",
    "\n",
    "    def on_predict_batch_begin(self, batch, logs=None):\n",
    "        \"\"\"Called at the beginning of a batch in `predict` methods.\n",
    "        Subclasses should override for any actions to run.\n",
    "        Arguments:\n",
    "            batch: integer, index of batch within the current epoch.\n",
    "            logs: dict. Has keys `batch` and `size` representing the current batch\n",
    "                  number and the size of the batch.\n",
    "        \"\"\"\n",
    "\n",
    "    def on_predict_batch_end(self, batch, logs=None):\n",
    "        \"\"\"Called at the end of a batch in `predict` methods.\n",
    "        Subclasses should override for any actions to run.\n",
    "        Arguments:\n",
    "            batch: integer, index of batch within the current epoch.\n",
    "            logs: dict. Metric results for this batch.\n",
    "        \"\"\"\n",
    "\n",
    "    def on_train_begin(self, logs=None):\n",
    "        \"\"\"Called at the beginning of training.\n",
    "        Subclasses should override for any actions to run.\n",
    "        Arguments:\n",
    "            logs: dict. Currently no data is passed to this argument for this method\n",
    "                  but that may change in the future.\n",
    "        \"\"\"\n",
    "\n",
    "    def on_train_end(self, logs=None):\n",
    "        \"\"\"Called at the end of training.\n",
    "        Subclasses should override for any actions to run.\n",
    "        Arguments:\n",
    "            logs: dict. Currently no data is passed to this argument for this method\n",
    "                  but that may change in the future.\n",
    "        \"\"\"\n",
    "\n",
    "    def on_test_begin(self, logs=None):\n",
    "        \"\"\"Called at the beginning of evaluation or validation.\n",
    "        Subclasses should override for any actions to run.\n",
    "        Arguments:\n",
    "            logs: dict. Currently no data is passed to this argument for this method\n",
    "              but that may change in the future.\n",
    "        \"\"\"\n",
    "\n",
    "    def on_test_end(self, logs=None):\n",
    "        \"\"\"Called at the end of evaluation or validation.\n",
    "        Subclasses should override for any actions to run.\n",
    "        Arguments:\n",
    "            logs: dict. Currently no data is passed to this argument for this method\n",
    "              but that may change in the future.\n",
    "        \"\"\"\n",
    "\n",
    "    def on_predict_begin(self, logs=None):\n",
    "        \"\"\"Called at the beginning of prediction.\n",
    "        Subclasses should override for any actions to run.\n",
    "        Arguments:\n",
    "            logs: dict. Currently no data is passed to this argument for this method\n",
    "              but that may change in the future.\n",
    "        \"\"\"\n",
    "\n",
    "    def on_predict_end(self, logs=None):\n",
    "        \"\"\"Called at the end of prediction.\n",
    "        Subclasses should override for any actions to run.\n",
    "        Arguments:\n",
    "            logs: dict. Currently no data is passed to this argument for this method\n",
    "              but that may change in the future.\n",
    "    \"\"\""
   ]
  },
  {
   "cell_type": "markdown",
   "metadata": {
    "id": "AuQAcJeJndjD"
   },
   "source": [
    "# <font color='red'> 2.1.1 Custom callbacks for performace metrices </font>"
   ]
  },
  {
   "cell_type": "code",
   "execution_count": null,
   "metadata": {
    "id": "pfZUPJ01OMah"
   },
   "outputs": [],
   "source": [
    "from sklearn.metrics import recall_score\n",
    "class LossHistory(tf.keras.callbacks.Callback):\n",
    "    def __init__(self,validation_data):\n",
    "      self.x_test = validation_data[0]\n",
    "      self.y_test= validation_data[1]\n",
    "    def on_train_begin(self, logs={}):\n",
    "        ## on begin of training, we are creating a instance varible called history\n",
    "        ## it is a dict with keys [loss, acc, val_loss, val_acc]\n",
    "        self.history={'loss': [],'accuracy': [],'val_loss': [],'val_accuracy': [],'val_recall': []}\n",
    "        \n",
    "    def on_epoch_end(self, epoch, logs={}):\n",
    "        true_positives=0\n",
    "        ## on end of each epoch, we will get logs and update the self.history dict\n",
    "        self.history['loss'].append(logs.get('loss'))\n",
    "        self.history['accuracy'].append(logs.get('accuracy'))\n",
    "      \n",
    "        if logs.get('val_loss', -1) != -1:\n",
    "            self.history['val_loss'].append(logs.get('val_loss'))\n",
    "        if logs.get('val_accuracy', -1) != -1:\n",
    "            self.history['val_accuracy'].append(logs.get('val_accuracy'))\n",
    "        # we can get a list of all predicted values at the end of the epoch\n",
    "        # we can use these predicted value and the true values to calculate any custom evaluation score if it is needed for our model\n",
    "        # Here we are taking log of all true positives and then taking average of it\n",
    "        y_pred= self.model.predict(self.x_test)\n",
    "        y_label_pred=np.argmax(y_pred,axis=1)\n",
    "        custom_score = np.log(np.sum(y_test== y_label_pred))/len(y_test)\n",
    "        \n",
    "        #we can also calcualte predefined metrics such as precison, recall, etc. using callbacks \n",
    "        recall = recall_score(y_test,y_label_pred,average='micro')\n",
    "        self.history['val_recall'].append(recall)\n",
    "        print('custom_Score: ',np.round(custom_score,5),'Recall: ',recall)\n",
    "            \n",
    "history_own=LossHistory(validation_data=[X_test,y_test])            "
   ]
  },
  {
   "cell_type": "markdown",
   "metadata": {
    "id": "UzEyvZg-OMaj"
   },
   "source": [
    "> in the above function we have written logs={}, which means the logs is a dictionary and the keys present will the same values that gets printed while you train your model i.e model.fit()\n",
    "<img src='https://i.imgur.com/fAiHfe7.png'>"
   ]
  },
  {
   "cell_type": "code",
   "execution_count": null,
   "metadata": {
    "colab": {
     "base_uri": "https://localhost:8080/"
    },
    "id": "Ca3J3ySeOMak",
    "outputId": "6b66a7b5-08e0-47b3-fc30-8e9e4f7bfec2"
   },
   "outputs": [],
   "source": [
    "#Input layer\n",
    "input_layer = Input(shape=(784,))\n",
    "#Dense hidden layer\n",
    "layer1 = Dense(50,activation='sigmoid',kernel_initializer=tf.keras.initializers.glorot_normal(seed=30))(input_layer)\n",
    "#output layer\n",
    "output = Dense(10,activation='softmax',kernel_initializer=tf.keras.initializers.glorot_normal(seed=0))(layer1)\n",
    "#Creating a model\n",
    "model = Model(inputs=input_layer,outputs=output)\n",
    "\n",
    "\n",
    "#Callbacks\n",
    "history_own=LossHistory(validation_data=[X_test,y_test])            \n",
    "\n",
    "optimizer = tf.keras.optimizers.Adam(0.01)\n",
    "\n",
    "model.compile(optimizer=optimizer, loss='categorical_crossentropy',metrics=['accuracy'])\n",
    "\n",
    "model.fit(X_train,Y_train,epochs=3, validation_data=(X_test,Y_test), batch_size=16, callbacks=[history_own])\n"
   ]
  },
  {
   "cell_type": "code",
   "execution_count": null,
   "metadata": {
    "colab": {
     "base_uri": "https://localhost:8080/"
    },
    "id": "5nzuF0OPOMam",
    "outputId": "b5f8b177-62c9-4cd6-c97a-a1cc217b41f8"
   },
   "outputs": [],
   "source": [
    "history_own.history"
   ]
  },
  {
   "cell_type": "markdown",
   "metadata": {
    "id": "riBZE6ZrOMao"
   },
   "source": [
    "# <font color='red'> 2.1.2 Writing the call back to terminate training if loss is 'NaN'</font>"
   ]
  },
  {
   "cell_type": "code",
   "execution_count": null,
   "metadata": {
    "id": "cMYmZMVeOMap"
   },
   "outputs": [],
   "source": [
    "class TerminateNaN(tf.keras.callbacks.Callback):\n",
    "        \n",
    "    def on_epoch_end(self, epoch, logs={}):\n",
    "        loss = logs.get('loss')\n",
    "        if loss is not None:\n",
    "            if np.isnan(loss) or np.isinf(loss):\n",
    "                print(\"Invalid loss and terminated at epoch {}\".format(epoch))\n",
    "                self.model.stop_training = True"
   ]
  },
  {
   "cell_type": "markdown",
   "metadata": {
    "id": "vh4umPy9OMaq"
   },
   "source": [
    "# <font color='red'> 2.2 Using tensorflow call backs </font>"
   ]
  },
  {
   "cell_type": "markdown",
   "metadata": {
    "id": "qv9epZaHOMaq"
   },
   "source": [
    "There are some callbacks which are implemented in the Tensorflow\n",
    "\n",
    "## <b> 2.2.1 ModelCheckpoint</b> - Save the model after every epoch. You can check documentation <a href=\"https://www.tensorflow.org/api_docs/python/tf/keras/callbacks/ModelCheckpoint\">here</a>"
   ]
  },
  {
   "cell_type": "code",
   "execution_count": null,
   "metadata": {
    "id": "OvIlgI2ROMas"
   },
   "outputs": [],
   "source": [
    "from tensorflow.keras.callbacks import ModelCheckpoint"
   ]
  },
  {
   "cell_type": "code",
   "execution_count": null,
   "metadata": {
    "colab": {
     "base_uri": "https://localhost:8080/"
    },
    "id": "h3-DSrb2OMau",
    "outputId": "c475d2e4-ba80-484f-d787-684bd80c5ecf"
   },
   "outputs": [],
   "source": [
    "#Input layer\n",
    "input_layer = Input(shape=(784,))\n",
    "#Dense hidden layer\n",
    "layer1 = Dense(50,activation='sigmoid',kernel_initializer=tf.keras.initializers.glorot_normal(seed=30))(input_layer)\n",
    "#output layer\n",
    "output = Dense(10,activation='softmax',kernel_initializer=tf.keras.initializers.glorot_normal(seed=0))(layer1)\n",
    "#Creating a model\n",
    "model = Model(inputs=input_layer,outputs=output)\n",
    "\n",
    "\n",
    "#Callbacks\n",
    "#file path, it saves the model in the 'model_save' folder and we are naming model with epoch number \n",
    "#and val acc to differtiate with other models\n",
    "#you have to create model_save folder before running the code.\n",
    "filepath=\"model_save/weights-{epoch:02d}-{val_accuracy:.4f}.hdf5\"\n",
    "checkpoint = ModelCheckpoint(filepath=filepath, monitor='val_loss',  verbose=1, save_best_only=True, mode='auto')\n",
    "\n",
    "optimizer = tf.keras.optimizers.Adam(0.01)\n",
    "\n",
    "model.compile(optimizer=optimizer,\n",
    "              loss='categorical_crossentropy',metrics=['accuracy'])\n",
    "\n",
    "model.fit(X_train,Y_train,epochs=5,validation_data=(X_test,Y_test),batch_size=16,callbacks=[checkpoint])"
   ]
  },
  {
   "cell_type": "markdown",
   "metadata": {
    "id": "GfAHPmifOMax"
   },
   "source": [
    "<pre>If you need 4th epoch model, you can load that model as below. It saves optimizer state as well. so noo need to recompile. </pre>"
   ]
  },
  {
   "cell_type": "code",
   "execution_count": null,
   "metadata": {
    "colab": {
     "base_uri": "https://localhost:8080/",
     "height": 416
    },
    "id": "r0AIY28BOMaz",
    "outputId": "a1c43497-780e-4976-9303-8b36c07c59a9"
   },
   "outputs": [],
   "source": [
    "model.load_weights('model_save/weights-04-0.7914.hdf5')#change this with your name which you got in above output"
   ]
  },
  {
   "cell_type": "code",
   "execution_count": null,
   "metadata": {
    "id": "lJ7A1PJHOMa0"
   },
   "outputs": [],
   "source": [
    "model.fit(X_train,Y_train)"
   ]
  },
  {
   "cell_type": "markdown",
   "metadata": {
    "id": "yrHJBrPCOMa3"
   },
   "source": [
    "## 2.2.2 EarlyStopping:\n",
    "\n",
    "<pre>Stop training when a monitored quantity has stopped improving. You can check the documentatin <a href=\"https://www.tensorflow.org/api_docs/python/tf/keras/callbacks/EarlyStopping\">here</a></pre>"
   ]
  },
  {
   "cell_type": "code",
   "execution_count": null,
   "metadata": {
    "id": "FS1jubUuOMa3"
   },
   "outputs": [],
   "source": [
    "from tensorflow.keras.callbacks import EarlyStopping"
   ]
  },
  {
   "cell_type": "code",
   "execution_count": null,
   "metadata": {
    "colab": {
     "base_uri": "https://localhost:8080/"
    },
    "id": "_BxU-droOMa6",
    "outputId": "579193f7-69c5-4a8d-b5e5-7310f57d870d"
   },
   "outputs": [],
   "source": [
    "#Input layer\n",
    "input_layer = Input(shape=(784,))\n",
    "#Dense hidden layer\n",
    "layer1 = Dense(50,activation='sigmoid',kernel_initializer=tf.keras.initializers.glorot_normal(seed=30))(input_layer)\n",
    "#output layer\n",
    "output = Dense(10,activation='softmax',kernel_initializer=tf.keras.initializers.glorot_normal(seed=0))(layer1)\n",
    "#Creating a model\n",
    "model = Model(inputs=input_layer,outputs=output)\n",
    "\n",
    "#you can monitor any quantity (here i am monitoring val_loss), you can give any number for patience based on your need. \n",
    "#i am terminating training if my validation loss incresing at once than previous loss. so maintained 1. you can give min delta\n",
    "#an absolute change of less than min_delta, will count as no improvement. i maintained 0.35 because i don't want to run \n",
    "#so many epoch to see termination\n",
    "earlystop = EarlyStopping(monitor='val_loss', min_delta=0.35, patience=1, verbose=1)\n",
    "\n",
    "optimizer = tf.keras.optimizers.Adam(0.01)\n",
    "\n",
    "model.compile(optimizer=optimizer,\n",
    "              loss='categorical_crossentropy',metrics=['accuracy'])\n",
    "\n",
    "model.fit(X_train,Y_train,epochs=10,validation_data=(X_test,Y_test),batch_size=16,callbacks=[earlystop])"
   ]
  },
  {
   "cell_type": "markdown",
   "metadata": {
    "id": "05WyP1W2OMa9"
   },
   "source": [
    "<pre>It stopped at 2nd epoch only. You can use this early stopping to get best model than overfitted model</pre>"
   ]
  },
  {
   "cell_type": "markdown",
   "metadata": {
    "id": "AjQJADh8OMa-"
   },
   "source": [
    "## 2.2.3 LearningRateScheduler:\n",
    "<pre>You can schedule learning rate for every epoch. You can decrease or increase the learning rate based on epoch number. </pre> "
   ]
  },
  {
   "cell_type": "code",
   "execution_count": null,
   "metadata": {
    "id": "er-L_eZIOMa_"
   },
   "outputs": [],
   "source": [
    "from tensorflow.keras.callbacks import LearningRateScheduler"
   ]
  },
  {
   "cell_type": "code",
   "execution_count": null,
   "metadata": {
    "id": "3YONlCwyOMbA"
   },
   "outputs": [],
   "source": [
    "def changeLearningRate(epoch):\n",
    "    #here we are performing exponential decay of the learning rate\n",
    "    initial_learningrate=0.1\n",
    "    changed = initial_learningrate*(1-0.1)**epoch\n",
    "    return changed"
   ]
  },
  {
   "cell_type": "code",
   "execution_count": null,
   "metadata": {
    "id": "hS18HNhtOMbC"
   },
   "outputs": [],
   "source": [
    "changed_lr = []\n",
    "for i in range(1,50):\n",
    "    changed_lr.append(changeLearningRate(i))"
   ]
  },
  {
   "cell_type": "code",
   "execution_count": null,
   "metadata": {
    "id": "T7JjoQ2aOMbE"
   },
   "outputs": [],
   "source": [
    "%matplotlib inline\n",
    "import matplotlib.pyplot as plt"
   ]
  },
  {
   "cell_type": "code",
   "execution_count": null,
   "metadata": {
    "id": "PSdopgjfOMbG"
   },
   "outputs": [],
   "source": [
    "plt.plot(changed_lr)\n",
    "plt.ylabel('learning_rate')\n",
    "plt.xlabel('epoch number')"
   ]
  },
  {
   "cell_type": "markdown",
   "metadata": {
    "id": "YSvB3InnOMbH"
   },
   "source": [
    "If you check above figure, learning rate is decreasing if my epoch number is increasing. We are using same function to schedule our learning rate based on epoch number. You can write your own function or you can write custom call back to decrease the learning rate based on val_loss/acc. \n",
    "In the above function, we have implemented exponential decay with decay rate 0.1, you can check that <a href=\"https://mathbitsnotebook.com/Algebra2/Exponential/EXGrowthDecay.html\">here</a>"
   ]
  },
  {
   "cell_type": "code",
   "execution_count": null,
   "metadata": {
    "id": "vTZCQXQ_OMbH"
   },
   "outputs": [],
   "source": [
    "#Input layer\n",
    "input_layer = Input(shape=(784,))\n",
    "#Dense hidden layer\n",
    "layer1 = Dense(50,activation='sigmoid',kernel_initializer=tf.keras.initializers.glorot_normal(seed=30))(input_layer)\n",
    "#output layer\n",
    "output = Dense(10,activation='softmax',kernel_initializer=tf.keras.initializers.glorot_normal(seed=0))(layer1)\n",
    "#Creating a model\n",
    "model = Model(inputs=input_layer,outputs=output)\n",
    "\n",
    "lrschedule = LearningRateScheduler(changeLearningRate, verbose=1)\n",
    "\n",
    "model.compile(optimizer=tf.keras.optimizers.Adam(0.1),\n",
    "              loss='categorical_crossentropy',metrics=['accuracy'])\n",
    "\n",
    "model.fit(X_train,Y_train,epochs=3,validation_data=(X_test,Y_test),batch_size=16,callbacks=[lrschedule])"
   ]
  },
  {
   "cell_type": "markdown",
   "metadata": {
    "id": "fVm_fKElOMbK"
   },
   "source": [
    "## 2.2.4 ReduceLROnPlateau\n",
    "It is similar to EarlyStopping, you can reduce your Learning rate by some factor if my val_loss/acc is not improving. You can check the documentation <a href=\"https://www.tensorflow.org/api_docs/python/tf/keras/callbacks/ReduceLROnPlateau\">here</a>"
   ]
  },
  {
   "cell_type": "markdown",
   "metadata": {
    "id": "V35jamIuOMbL"
   },
   "source": [
    "<pre>There are many pre built call backs are available in Tensorflow, you can check those in <a href=\"https://www.tensorflow.org/api_docs/python/tf/keras/callbacks\">this</a> link.\n",
    "\n",
    "You can give as many callbacks you want while training the model as given below.</pre>"
   ]
  },
  {
   "cell_type": "code",
   "execution_count": null,
   "metadata": {
    "id": "ts8yx-dwOMbO"
   },
   "outputs": [],
   "source": [
    "#Input layer\n",
    "input_layer = Input(shape=(784,))\n",
    "#Dense hidden layer\n",
    "layer1 = Dense(50,activation='sigmoid',kernel_initializer=tf.keras.initializers.glorot_normal(seed=30))(input_layer)\n",
    "#output layer\n",
    "output = Dense(10,activation='softmax',kernel_initializer=tf.keras.initializers.glorot_normal(seed=0))(layer1)\n",
    "#Creating a model\n",
    "model = Model(inputs=input_layer,outputs=output)\n",
    "\n",
    "#create a call back list\n",
    "lrschedule = LearningRateScheduler(changeLearningRate, verbose=0.1)\n",
    "earlystop = EarlyStopping(monitor='val_loss', min_delta=0.25, patience=1, verbose=1)\n",
    "filepath=\"model_save/weights-{epoch:02d}-{val_accuracy:.4f}.hdf5\"\n",
    "checkpoint = ModelCheckpoint(filepath=filepath, monitor='val_loss', verbose=1, \n",
    "                             save_best_only=True, mode='auto')\n",
    "\n",
    "\n",
    "# here we are creating a list with all the callbacks we want\n",
    "callback_list = [lrschedule, earlystop, checkpoint]\n",
    "\n",
    "\n",
    "model.compile(optimizer=tf.keras.optimizers.Adam(0.1),\n",
    "              loss='categorical_crossentropy',metrics=['accuracy'])\n",
    "\n",
    "model.fit(X_train,Y_train,epochs=5,validation_data=(X_test,Y_test),batch_size=16,callbacks=callback_list)"
   ]
  },
  {
   "cell_type": "code",
   "execution_count": null,
   "metadata": {
    "id": "k03l4h9Q55PI"
   },
   "outputs": [],
   "source": []
  }
 ],
 "metadata": {
  "colab": {
   "collapsed_sections": [
    "0fjRvsmIOMYG",
    "vhFWsCP1OMY0",
    "_galZ10JOMZX",
    "luaCDJ_8OMZY",
    "z8dLCOEaOMZj",
    "OQayeY4wOMZ5",
    "_SArBwQROMaE"
   ],
   "name": "Call_Backs_Reference.ipynb",
   "provenance": []
  },
  "kernelspec": {
   "display_name": "Python 3",
   "language": "python",
   "name": "python3"
  },
  "language_info": {
   "codemirror_mode": {
    "name": "ipython",
    "version": 3
   },
   "file_extension": ".py",
   "mimetype": "text/x-python",
   "name": "python",
   "nbconvert_exporter": "python",
   "pygments_lexer": "ipython3",
   "version": "3.9.5"
  }
 },
 "nbformat": 4,
 "nbformat_minor": 1
}
